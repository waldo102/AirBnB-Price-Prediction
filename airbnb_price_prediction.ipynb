{
 "cells": [
  {
   "cell_type": "markdown",
   "metadata": {
    "colab_type": "text",
    "id": "0aELHnRaw5E_"
   },
   "source": [
    "# AirBnB Fair Valuation\n",
    "\n",
    "Goal: Set the competitive **daily accomodation rate** for a client's house in Bondi Beach. The owner currently charges $500. We have been tasked to estimate a **fair value** that the owner should be charging. The house has the following characteristics and constraints. While developing this model you came to realise that Airbnb can use your model to estimate the fair value of any property on their database, your are effectively creating a recommendation model for all prospective hosts!\n",
    "\n",
    "\n",
    "1. The owner has been a host since **August 2010**\n",
    "1. The location is **lon:151.274506, lat:33.889087**\n",
    "1. The current review score rating **95.0**\n",
    "1. Number of reviews **53**\n",
    "1. Minimum nights **4**\n",
    "1. The house can accomodate **10** people.\n",
    "1. The owner currently charges a cleaning fee of **370**\n",
    "1. The house has **3 bathrooms, 5 bedrooms, 7 beds**.\n",
    "1. The house is available for **255 of the next 365 days**\n",
    "1. The client is **verified**, and they are a **superhost**.\n",
    "1. The cancelation policy is **strict with a 14 days grace period**.\n",
    "1. The host requires a security deposit of **$1,500**\n",
    "\n",
    "\n",
    "*All values strictly apply to the month of July 2018*"
   ]
  },
  {
   "cell_type": "code",
   "execution_count": 6,
   "metadata": {
    "colab": {},
    "colab_type": "code",
    "id": "aKJYHFgSw5FB"
   },
   "outputs": [],
   "source": [
    "# Defining our Sample Client Data\n",
    "from dateutil import parser\n",
    "dict_client = {}\n",
    "\n",
    "dict_client[\"city\"] = \"Bondi Beach\"\n",
    "dict_client[\"longitude\"] = 151.274506\n",
    "dict_client[\"latitude\"] = -33.889087\n",
    "dict_client[\"review_scores_rating\"] = 95\n",
    "dict_client[\"number_of_reviews\"] = 53\n",
    "dict_client[\"minimum_nights\"] = 4\n",
    "dict_client[\"accommodates\"] = 10\n",
    "dict_client[\"bathrooms\"] = 3\n",
    "dict_client[\"bedrooms\"] = 5\n",
    "dict_client[\"beds\"] = 7\n",
    "dict_client[\"security_deposit\"] = 1500\n",
    "dict_client[\"cleaning_fee\"] = 370\n",
    "dict_client[\"property_type\"] = \"House\"\n",
    "dict_client[\"room_type\"] = \"Entire home/apt\"\n",
    "dict_client[\"availability_365\"] = 255\n",
    "dict_client[\"host_identity_verified\"] = 't'  ## 1 for yes, 0 for no\n",
    "dict_client[\"host_is_superhost\"] = 't'\n",
    "dict_client[\"cancellation_policy\"] = \"strict_14_with_grace_period\"\n",
    "dict_client[\"host_since\"] = parser.parse(\"01-08-2010\")"
   ]
  },
  {
   "cell_type": "markdown",
   "metadata": {
    "colab_type": "text",
    "id": "8R-FkkOFw5FY"
   },
   "source": [
    "# Import Data"
   ]
  },
  {
   "cell_type": "code",
   "execution_count": 11,
   "metadata": {
    "colab": {
     "base_uri": "https://localhost:8080/",
     "height": 108
    },
    "colab_type": "code",
    "executionInfo": {
     "elapsed": 4120,
     "status": "ok",
     "timestamp": 1579745672073,
     "user": {
      "displayName": "Rajeev Ratan",
      "photoUrl": "https://lh3.googleusercontent.com/a-/AAuE7mCGo6aIm0tOcd5EhqWlYb0rime9sBvHS9YMpx0D2w=s64",
      "userId": "08597265227091462140"
     },
     "user_tz": 240
    },
    "id": "JY4PmIA-w5Fa",
    "outputId": "3a07bf14-7734-481f-8f81-4fd1295d3a7d"
   },
   "outputs": [
    {
     "name": "stdout",
     "output_type": "stream",
     "text": [
      "Be patient: loading from github (2 minutes)\n",
      "Done\n"
     ]
    },
    {
     "name": "stderr",
     "output_type": "stream",
     "text": [
      "/opt/anaconda3/lib/python3.7/site-packages/IPython/core/interactiveshell.py:3063: DtypeWarning: Columns (36,54,55) have mixed types.Specify dtype option on import or set low_memory=False.\n",
      "  interactivity=interactivity, compiler=compiler, result=result)\n"
     ]
    }
   ],
   "source": [
    "import numpy as np\n",
    "import os\n",
    "import pandas as pd\n",
    "from pathlib import Path\n",
    "\n",
    "#Source - Github\n",
    "github_p = \"https://raw.githubusercontent.com/Finance-781/FinML/master/Lecture%202%20-%20End-to-End%20ML%20Project%20/Practice/\"\n",
    "\n",
    "my_file = Path(\"datasets/sydney_airbnb.csv\") # Defines path\n",
    "if my_file.is_file():              # See if file exists\n",
    "    print(\"Local file found\")      \n",
    "    df = pd.read_csv('datasets/sydney_airbnb.csv')\n",
    "else:\n",
    "    print(\"Be patient: loading from github (2 minutes)\")\n",
    "    df = pd.read_csv(github_p+'datasets/sydney_airbnb.csv')\n",
    "    print(\"Done\")"
   ]
  },
  {
   "cell_type": "code",
   "execution_count": 12,
   "metadata": {
    "colab": {
     "base_uri": "https://localhost:8080/",
     "height": 748
    },
    "colab_type": "code",
    "executionInfo": {
     "elapsed": 4085,
     "status": "ok",
     "timestamp": 1579745672075,
     "user": {
      "displayName": "Rajeev Ratan",
      "photoUrl": "https://lh3.googleusercontent.com/a-/AAuE7mCGo6aIm0tOcd5EhqWlYb0rime9sBvHS9YMpx0D2w=s64",
      "userId": "08597265227091462140"
     },
     "user_tz": 240
    },
    "id": "O_zMrQfcXjJs",
    "outputId": "d1cb4dd5-33e8-47ba-fbee-ca21cc8f1daf"
   },
   "outputs": [
    {
     "data": {
      "text/html": [
       "<div>\n",
       "<style scoped>\n",
       "    .dataframe tbody tr th:only-of-type {\n",
       "        vertical-align: middle;\n",
       "    }\n",
       "\n",
       "    .dataframe tbody tr th {\n",
       "        vertical-align: top;\n",
       "    }\n",
       "\n",
       "    .dataframe thead th {\n",
       "        text-align: right;\n",
       "    }\n",
       "</style>\n",
       "<table border=\"1\" class=\"dataframe\">\n",
       "  <thead>\n",
       "    <tr style=\"text-align: right;\">\n",
       "      <th></th>\n",
       "      <th>id</th>\n",
       "      <th>listing_url</th>\n",
       "      <th>name</th>\n",
       "      <th>summary</th>\n",
       "      <th>space</th>\n",
       "      <th>description</th>\n",
       "      <th>neighborhood_overview</th>\n",
       "      <th>notes</th>\n",
       "      <th>transit</th>\n",
       "      <th>access</th>\n",
       "      <th>...</th>\n",
       "      <th>review_scores_checkin</th>\n",
       "      <th>review_scores_communication</th>\n",
       "      <th>review_scores_location</th>\n",
       "      <th>review_scores_value</th>\n",
       "      <th>instant_bookable</th>\n",
       "      <th>cancellation_policy</th>\n",
       "      <th>require_guest_profile_picture</th>\n",
       "      <th>require_guest_phone_verification</th>\n",
       "      <th>calculated_host_listings_count</th>\n",
       "      <th>reviews_per_month</th>\n",
       "    </tr>\n",
       "  </thead>\n",
       "  <tbody>\n",
       "    <tr>\n",
       "      <th>0</th>\n",
       "      <td>11156</td>\n",
       "      <td>https://www.airbnb.com/rooms/11156</td>\n",
       "      <td>An Oasis in the City</td>\n",
       "      <td>Very central to the city which can be reached ...</td>\n",
       "      <td>Potts Pt. is a vibrant  and popular inner-city...</td>\n",
       "      <td>Very central to the city which can be reached ...</td>\n",
       "      <td>It is very close to everything and everywhere,...</td>\n",
       "      <td>$150.00 key security deposit, refundable on re...</td>\n",
       "      <td>It is 7 minutes walk to the Kings Cross.train ...</td>\n",
       "      <td>Kitchen &amp; laundry facilities.   Shared bathroom.</td>\n",
       "      <td>...</td>\n",
       "      <td>10.0</td>\n",
       "      <td>10.0</td>\n",
       "      <td>10.0</td>\n",
       "      <td>9.0</td>\n",
       "      <td>f</td>\n",
       "      <td>moderate</td>\n",
       "      <td>f</td>\n",
       "      <td>f</td>\n",
       "      <td>1</td>\n",
       "      <td>1.69</td>\n",
       "    </tr>\n",
       "    <tr>\n",
       "      <th>1</th>\n",
       "      <td>12351</td>\n",
       "      <td>https://www.airbnb.com/rooms/12351</td>\n",
       "      <td>Sydney City &amp; Harbour at the door</td>\n",
       "      <td>Come stay with Vinh &amp; Stuart (Awarded as one o...</td>\n",
       "      <td>We're pretty relaxed hosts, and we fully appre...</td>\n",
       "      <td>Come stay with Vinh &amp; Stuart (Awarded as one o...</td>\n",
       "      <td>Pyrmont is an inner-city village of Sydney, on...</td>\n",
       "      <td>We've a few reasons for the 6.00pm arrival tim...</td>\n",
       "      <td>Our home is centrally located and an easy walk...</td>\n",
       "      <td>We look forward to welcoming you just as we wo...</td>\n",
       "      <td>...</td>\n",
       "      <td>10.0</td>\n",
       "      <td>10.0</td>\n",
       "      <td>10.0</td>\n",
       "      <td>10.0</td>\n",
       "      <td>f</td>\n",
       "      <td>strict_14_with_grace_period</td>\n",
       "      <td>t</td>\n",
       "      <td>t</td>\n",
       "      <td>2</td>\n",
       "      <td>4.83</td>\n",
       "    </tr>\n",
       "    <tr>\n",
       "      <th>2</th>\n",
       "      <td>14250</td>\n",
       "      <td>https://www.airbnb.com/rooms/14250</td>\n",
       "      <td>Manly Harbour House</td>\n",
       "      <td>Beautifully renovated, spacious and quiet, our...</td>\n",
       "      <td>Our home is a thirty minute walk along the sea...</td>\n",
       "      <td>Beautifully renovated, spacious and quiet, our...</td>\n",
       "      <td>Balgowlah Heights is one of the most prestigio...</td>\n",
       "      <td>NaN</td>\n",
       "      <td>Balgowlah - Manly bus # 131 or #132  (Bus stop...</td>\n",
       "      <td>Guests have access to whole house except locke...</td>\n",
       "      <td>...</td>\n",
       "      <td>10.0</td>\n",
       "      <td>8.0</td>\n",
       "      <td>10.0</td>\n",
       "      <td>10.0</td>\n",
       "      <td>f</td>\n",
       "      <td>strict_14_with_grace_period</td>\n",
       "      <td>f</td>\n",
       "      <td>f</td>\n",
       "      <td>2</td>\n",
       "      <td>0.03</td>\n",
       "    </tr>\n",
       "    <tr>\n",
       "      <th>3</th>\n",
       "      <td>14935</td>\n",
       "      <td>https://www.airbnb.com/rooms/14935</td>\n",
       "      <td>Eco-conscious Travellers: Private Room</td>\n",
       "      <td>Welcome! This apartment will suit a short term...</td>\n",
       "      <td>I live upstairs in my own room with my own bat...</td>\n",
       "      <td>Welcome! This apartment will suit a short term...</td>\n",
       "      <td>NaN</td>\n",
       "      <td>The building can be hard to find, so please en...</td>\n",
       "      <td>DIRECTIONS VIA TAXI: Get dropped off at Renwic...</td>\n",
       "      <td>I work from home most times - so if I'm home, ...</td>\n",
       "      <td>...</td>\n",
       "      <td>9.0</td>\n",
       "      <td>10.0</td>\n",
       "      <td>9.0</td>\n",
       "      <td>9.0</td>\n",
       "      <td>f</td>\n",
       "      <td>moderate</td>\n",
       "      <td>f</td>\n",
       "      <td>f</td>\n",
       "      <td>2</td>\n",
       "      <td>2.14</td>\n",
       "    </tr>\n",
       "    <tr>\n",
       "      <th>4</th>\n",
       "      <td>14974</td>\n",
       "      <td>https://www.airbnb.com/rooms/14974</td>\n",
       "      <td>Eco-conscious Traveller: Sofa Couch</td>\n",
       "      <td>Welcome! This apartment will suit a short term...</td>\n",
       "      <td>Comes with a fully equipped gym and pool - whi...</td>\n",
       "      <td>Welcome! This apartment will suit a short term...</td>\n",
       "      <td>NaN</td>\n",
       "      <td>I live upstairs in my own room with my own bat...</td>\n",
       "      <td>DIRECTIONS VIA TAXI: Get dropped off at Renwic...</td>\n",
       "      <td>I work from home most times - so if I'm home, ...</td>\n",
       "      <td>...</td>\n",
       "      <td>9.0</td>\n",
       "      <td>9.0</td>\n",
       "      <td>9.0</td>\n",
       "      <td>9.0</td>\n",
       "      <td>f</td>\n",
       "      <td>moderate</td>\n",
       "      <td>f</td>\n",
       "      <td>f</td>\n",
       "      <td>2</td>\n",
       "      <td>1.78</td>\n",
       "    </tr>\n",
       "  </tbody>\n",
       "</table>\n",
       "<p>5 rows × 84 columns</p>\n",
       "</div>"
      ],
      "text/plain": [
       "      id                         listing_url  \\\n",
       "0  11156  https://www.airbnb.com/rooms/11156   \n",
       "1  12351  https://www.airbnb.com/rooms/12351   \n",
       "2  14250  https://www.airbnb.com/rooms/14250   \n",
       "3  14935  https://www.airbnb.com/rooms/14935   \n",
       "4  14974  https://www.airbnb.com/rooms/14974   \n",
       "\n",
       "                                     name  \\\n",
       "0                    An Oasis in the City   \n",
       "1       Sydney City & Harbour at the door   \n",
       "2                     Manly Harbour House   \n",
       "3  Eco-conscious Travellers: Private Room   \n",
       "4     Eco-conscious Traveller: Sofa Couch   \n",
       "\n",
       "                                             summary  \\\n",
       "0  Very central to the city which can be reached ...   \n",
       "1  Come stay with Vinh & Stuart (Awarded as one o...   \n",
       "2  Beautifully renovated, spacious and quiet, our...   \n",
       "3  Welcome! This apartment will suit a short term...   \n",
       "4  Welcome! This apartment will suit a short term...   \n",
       "\n",
       "                                               space  \\\n",
       "0  Potts Pt. is a vibrant  and popular inner-city...   \n",
       "1  We're pretty relaxed hosts, and we fully appre...   \n",
       "2  Our home is a thirty minute walk along the sea...   \n",
       "3  I live upstairs in my own room with my own bat...   \n",
       "4  Comes with a fully equipped gym and pool - whi...   \n",
       "\n",
       "                                         description  \\\n",
       "0  Very central to the city which can be reached ...   \n",
       "1  Come stay with Vinh & Stuart (Awarded as one o...   \n",
       "2  Beautifully renovated, spacious and quiet, our...   \n",
       "3  Welcome! This apartment will suit a short term...   \n",
       "4  Welcome! This apartment will suit a short term...   \n",
       "\n",
       "                               neighborhood_overview  \\\n",
       "0  It is very close to everything and everywhere,...   \n",
       "1  Pyrmont is an inner-city village of Sydney, on...   \n",
       "2  Balgowlah Heights is one of the most prestigio...   \n",
       "3                                                NaN   \n",
       "4                                                NaN   \n",
       "\n",
       "                                               notes  \\\n",
       "0  $150.00 key security deposit, refundable on re...   \n",
       "1  We've a few reasons for the 6.00pm arrival tim...   \n",
       "2                                                NaN   \n",
       "3  The building can be hard to find, so please en...   \n",
       "4  I live upstairs in my own room with my own bat...   \n",
       "\n",
       "                                             transit  \\\n",
       "0  It is 7 minutes walk to the Kings Cross.train ...   \n",
       "1  Our home is centrally located and an easy walk...   \n",
       "2  Balgowlah - Manly bus # 131 or #132  (Bus stop...   \n",
       "3  DIRECTIONS VIA TAXI: Get dropped off at Renwic...   \n",
       "4  DIRECTIONS VIA TAXI: Get dropped off at Renwic...   \n",
       "\n",
       "                                              access  ...  \\\n",
       "0   Kitchen & laundry facilities.   Shared bathroom.  ...   \n",
       "1  We look forward to welcoming you just as we wo...  ...   \n",
       "2  Guests have access to whole house except locke...  ...   \n",
       "3  I work from home most times - so if I'm home, ...  ...   \n",
       "4  I work from home most times - so if I'm home, ...  ...   \n",
       "\n",
       "  review_scores_checkin review_scores_communication review_scores_location  \\\n",
       "0                  10.0                        10.0                   10.0   \n",
       "1                  10.0                        10.0                   10.0   \n",
       "2                  10.0                         8.0                   10.0   \n",
       "3                   9.0                        10.0                    9.0   \n",
       "4                   9.0                         9.0                    9.0   \n",
       "\n",
       "   review_scores_value instant_bookable          cancellation_policy  \\\n",
       "0                  9.0                f                     moderate   \n",
       "1                 10.0                f  strict_14_with_grace_period   \n",
       "2                 10.0                f  strict_14_with_grace_period   \n",
       "3                  9.0                f                     moderate   \n",
       "4                  9.0                f                     moderate   \n",
       "\n",
       "  require_guest_profile_picture require_guest_phone_verification  \\\n",
       "0                             f                                f   \n",
       "1                             t                                t   \n",
       "2                             f                                f   \n",
       "3                             f                                f   \n",
       "4                             f                                f   \n",
       "\n",
       "  calculated_host_listings_count reviews_per_month  \n",
       "0                              1              1.69  \n",
       "1                              2              4.83  \n",
       "2                              2              0.03  \n",
       "3                              2              2.14  \n",
       "4                              2              1.78  \n",
       "\n",
       "[5 rows x 84 columns]"
      ]
     },
     "execution_count": 12,
     "metadata": {},
     "output_type": "execute_result"
    }
   ],
   "source": [
    "df.head()"
   ]
  },
  {
   "cell_type": "code",
   "execution_count": 15,
   "metadata": {},
   "outputs": [],
   "source": [
    "#Save local copy of data for reference\n",
    "#df.to_csv(path_or_buf = '/Users/eduardowaldoalcantara/LocalDocuments/portfolio/AirBnB Price Prediction/sydney_airbnb.csv')"
   ]
  },
  {
   "cell_type": "code",
   "execution_count": 9,
   "metadata": {
    "colab": {},
    "colab_type": "code",
    "id": "nzXpxiqDw5F7"
   },
   "outputs": [],
   "source": [
    "#Features to include - arbitrary choice on which features we want to focus on\n",
    "incl = [\"price\",\"city\",\"longitude\",\"latitude\",\"review_scores_rating\",\"number_of_reviews\",\"minimum_nights\",\"security_deposit\",\"cleaning_fee\",\n",
    "        \"accommodates\",\"bathrooms\",\"bedrooms\",\"beds\",\"property_type\",\"room_type\",\"availability_365\" ,\"host_identity_verified\", \n",
    "        \"host_is_superhost\",\"host_since\",\"cancellation_policy\"] \n",
    "\n",
    "df = df[incl]"
   ]
  },
  {
   "cell_type": "code",
   "execution_count": 10,
   "metadata": {
    "colab": {
     "base_uri": "https://localhost:8080/",
     "height": 305
    },
    "colab_type": "code",
    "executionInfo": {
     "elapsed": 3621,
     "status": "ok",
     "timestamp": 1579745672079,
     "user": {
      "displayName": "Rajeev Ratan",
      "photoUrl": "https://lh3.googleusercontent.com/a-/AAuE7mCGo6aIm0tOcd5EhqWlYb0rime9sBvHS9YMpx0D2w=s64",
      "userId": "08597265227091462140"
     },
     "user_tz": 240
    },
    "id": "1kfoO1K-XghF",
    "outputId": "7ec4cfc1-668d-4e77-f015-4113e169304e"
   },
   "outputs": [
    {
     "data": {
      "text/html": [
       "<div>\n",
       "<style scoped>\n",
       "    .dataframe tbody tr th:only-of-type {\n",
       "        vertical-align: middle;\n",
       "    }\n",
       "\n",
       "    .dataframe tbody tr th {\n",
       "        vertical-align: top;\n",
       "    }\n",
       "\n",
       "    .dataframe thead th {\n",
       "        text-align: right;\n",
       "    }\n",
       "</style>\n",
       "<table border=\"1\" class=\"dataframe\">\n",
       "  <thead>\n",
       "    <tr style=\"text-align: right;\">\n",
       "      <th></th>\n",
       "      <th>price</th>\n",
       "      <th>city</th>\n",
       "      <th>longitude</th>\n",
       "      <th>latitude</th>\n",
       "      <th>review_scores_rating</th>\n",
       "      <th>number_of_reviews</th>\n",
       "      <th>minimum_nights</th>\n",
       "      <th>security_deposit</th>\n",
       "      <th>cleaning_fee</th>\n",
       "      <th>accommodates</th>\n",
       "      <th>bathrooms</th>\n",
       "      <th>bedrooms</th>\n",
       "      <th>beds</th>\n",
       "      <th>property_type</th>\n",
       "      <th>room_type</th>\n",
       "      <th>availability_365</th>\n",
       "      <th>host_identity_verified</th>\n",
       "      <th>host_is_superhost</th>\n",
       "      <th>host_since</th>\n",
       "      <th>cancellation_policy</th>\n",
       "    </tr>\n",
       "  </thead>\n",
       "  <tbody>\n",
       "    <tr>\n",
       "      <th>0</th>\n",
       "      <td>$65.00</td>\n",
       "      <td>Potts Point</td>\n",
       "      <td>151.226562</td>\n",
       "      <td>-33.869168</td>\n",
       "      <td>92.0</td>\n",
       "      <td>177</td>\n",
       "      <td>2</td>\n",
       "      <td>NaN</td>\n",
       "      <td>NaN</td>\n",
       "      <td>1</td>\n",
       "      <td>NaN</td>\n",
       "      <td>1.0</td>\n",
       "      <td>1.0</td>\n",
       "      <td>Apartment</td>\n",
       "      <td>Private room</td>\n",
       "      <td>339</td>\n",
       "      <td>f</td>\n",
       "      <td>t</td>\n",
       "      <td>23/09/09</td>\n",
       "      <td>moderate</td>\n",
       "    </tr>\n",
       "    <tr>\n",
       "      <th>1</th>\n",
       "      <td>$98.00</td>\n",
       "      <td>Pyrmont</td>\n",
       "      <td>151.191896</td>\n",
       "      <td>-33.865153</td>\n",
       "      <td>95.0</td>\n",
       "      <td>468</td>\n",
       "      <td>2</td>\n",
       "      <td>$0.00</td>\n",
       "      <td>$55.00</td>\n",
       "      <td>2</td>\n",
       "      <td>1.0</td>\n",
       "      <td>1.0</td>\n",
       "      <td>1.0</td>\n",
       "      <td>Townhouse</td>\n",
       "      <td>Private room</td>\n",
       "      <td>188</td>\n",
       "      <td>t</td>\n",
       "      <td>f</td>\n",
       "      <td>14/05/09</td>\n",
       "      <td>strict_14_with_grace_period</td>\n",
       "    </tr>\n",
       "    <tr>\n",
       "      <th>2</th>\n",
       "      <td>$469.00</td>\n",
       "      <td>Balgowlah</td>\n",
       "      <td>151.261722</td>\n",
       "      <td>-33.800929</td>\n",
       "      <td>100.0</td>\n",
       "      <td>1</td>\n",
       "      <td>5</td>\n",
       "      <td>$900.00</td>\n",
       "      <td>$100.00</td>\n",
       "      <td>6</td>\n",
       "      <td>3.0</td>\n",
       "      <td>3.0</td>\n",
       "      <td>3.0</td>\n",
       "      <td>House</td>\n",
       "      <td>Entire home/apt</td>\n",
       "      <td>168</td>\n",
       "      <td>t</td>\n",
       "      <td>f</td>\n",
       "      <td>20/11/09</td>\n",
       "      <td>strict_14_with_grace_period</td>\n",
       "    </tr>\n",
       "    <tr>\n",
       "      <th>3</th>\n",
       "      <td>$63.00</td>\n",
       "      <td>Redfern</td>\n",
       "      <td>151.200450</td>\n",
       "      <td>-33.890765</td>\n",
       "      <td>89.0</td>\n",
       "      <td>172</td>\n",
       "      <td>2</td>\n",
       "      <td>NaN</td>\n",
       "      <td>NaN</td>\n",
       "      <td>2</td>\n",
       "      <td>1.0</td>\n",
       "      <td>1.0</td>\n",
       "      <td>1.0</td>\n",
       "      <td>Apartment</td>\n",
       "      <td>Private room</td>\n",
       "      <td>215</td>\n",
       "      <td>t</td>\n",
       "      <td>f</td>\n",
       "      <td>30/11/09</td>\n",
       "      <td>moderate</td>\n",
       "    </tr>\n",
       "    <tr>\n",
       "      <th>4</th>\n",
       "      <td>$39.00</td>\n",
       "      <td>Redfern</td>\n",
       "      <td>151.200896</td>\n",
       "      <td>-33.889667</td>\n",
       "      <td>90.0</td>\n",
       "      <td>147</td>\n",
       "      <td>2</td>\n",
       "      <td>NaN</td>\n",
       "      <td>NaN</td>\n",
       "      <td>1</td>\n",
       "      <td>2.0</td>\n",
       "      <td>1.0</td>\n",
       "      <td>1.0</td>\n",
       "      <td>Apartment</td>\n",
       "      <td>Shared room</td>\n",
       "      <td>287</td>\n",
       "      <td>t</td>\n",
       "      <td>f</td>\n",
       "      <td>30/11/09</td>\n",
       "      <td>moderate</td>\n",
       "    </tr>\n",
       "  </tbody>\n",
       "</table>\n",
       "</div>"
      ],
      "text/plain": [
       "      price         city   longitude   latitude  review_scores_rating  \\\n",
       "0   $65.00   Potts Point  151.226562 -33.869168                  92.0   \n",
       "1   $98.00       Pyrmont  151.191896 -33.865153                  95.0   \n",
       "2  $469.00     Balgowlah  151.261722 -33.800929                 100.0   \n",
       "3   $63.00       Redfern  151.200450 -33.890765                  89.0   \n",
       "4   $39.00       Redfern  151.200896 -33.889667                  90.0   \n",
       "\n",
       "   number_of_reviews  minimum_nights security_deposit cleaning_fee  \\\n",
       "0                177               2              NaN          NaN   \n",
       "1                468               2           $0.00       $55.00    \n",
       "2                  1               5         $900.00      $100.00    \n",
       "3                172               2              NaN          NaN   \n",
       "4                147               2              NaN          NaN   \n",
       "\n",
       "   accommodates  bathrooms  bedrooms  beds property_type        room_type  \\\n",
       "0             1        NaN       1.0   1.0     Apartment     Private room   \n",
       "1             2        1.0       1.0   1.0     Townhouse     Private room   \n",
       "2             6        3.0       3.0   3.0         House  Entire home/apt   \n",
       "3             2        1.0       1.0   1.0     Apartment     Private room   \n",
       "4             1        2.0       1.0   1.0     Apartment      Shared room   \n",
       "\n",
       "   availability_365 host_identity_verified host_is_superhost host_since  \\\n",
       "0               339                      f                 t   23/09/09   \n",
       "1               188                      t                 f   14/05/09   \n",
       "2               168                      t                 f   20/11/09   \n",
       "3               215                      t                 f   30/11/09   \n",
       "4               287                      t                 f   30/11/09   \n",
       "\n",
       "           cancellation_policy  \n",
       "0                     moderate  \n",
       "1  strict_14_with_grace_period  \n",
       "2  strict_14_with_grace_period  \n",
       "3                     moderate  \n",
       "4                     moderate  "
      ]
     },
     "execution_count": 10,
     "metadata": {},
     "output_type": "execute_result"
    }
   ],
   "source": [
    "df.head()"
   ]
  },
  {
   "cell_type": "code",
   "execution_count": 5,
   "metadata": {
    "colab": {
     "base_uri": "https://localhost:8080/",
     "height": 35
    },
    "colab_type": "code",
    "executionInfo": {
     "elapsed": 3234,
     "status": "ok",
     "timestamp": 1579745672080,
     "user": {
      "displayName": "Rajeev Ratan",
      "photoUrl": "https://lh3.googleusercontent.com/a-/AAuE7mCGo6aIm0tOcd5EhqWlYb0rime9sBvHS9YMpx0D2w=s64",
      "userId": "08597265227091462140"
     },
     "user_tz": 240
    },
    "id": "bOyTJvQJtAO0",
    "outputId": "285c535e-0b6f-48fd-f5bb-70395910e3e1"
   },
   "outputs": [
    {
     "data": {
      "text/plain": [
       "(27070, 20)"
      ]
     },
     "execution_count": 5,
     "metadata": {},
     "output_type": "execute_result"
    }
   ],
   "source": [
    "df.shape"
   ]
  },
  {
   "cell_type": "markdown",
   "metadata": {
    "colab_type": "text",
    "id": "5MFo1B34w5GN"
   },
   "source": [
    "The price field currently has the \"$\" in it and is a string. So lets remove it and convert it to a float datatype.\n",
    "\n",
    "Also lets convert the 'host_since' field to a date time format. "
   ]
  },
  {
   "cell_type": "code",
   "execution_count": 16,
   "metadata": {
    "colab": {},
    "colab_type": "code",
    "id": "9KajhaZew5GO"
   },
   "outputs": [],
   "source": [
    "# Importing regex\n",
    "import re\n",
    "\n",
    "# The price fields in our data frame\n",
    "price_list = [\"price\",\"cleaning_fee\",\"security_deposit\"]\n",
    "\n",
    "# We change any blanks to 0 and use our regex function to remove anything that isn't a number (or negative number which is changed to 0)\n",
    "for col in price_list:\n",
    "    df[col] = df[col].fillna(\"0\")\n",
    "    df[col] = df[col].apply(lambda x: float(re.compile('[^0-9eE.]').sub('', x)) if len(x)>0 else 0)\n",
    "\n",
    "df['host_since'] = pd.to_datetime(df['host_since'])"
   ]
  },
  {
   "cell_type": "code",
   "execution_count": 17,
   "metadata": {
    "colab": {
     "base_uri": "https://localhost:8080/",
     "height": 124
    },
    "colab_type": "code",
    "executionInfo": {
     "elapsed": 2524,
     "status": "ok",
     "timestamp": 1579745672569,
     "user": {
      "displayName": "Rajeev Ratan",
      "photoUrl": "https://lh3.googleusercontent.com/a-/AAuE7mCGo6aIm0tOcd5EhqWlYb0rime9sBvHS9YMpx0D2w=s64",
      "userId": "08597265227091462140"
     },
     "user_tz": 240
    },
    "id": "EDYefLGIw5Gc",
    "outputId": "506bd810-0bd0-467b-902c-3ee1571274a3"
   },
   "outputs": [
    {
     "data": {
      "text/plain": [
       "0     65.0\n",
       "1     98.0\n",
       "2    469.0\n",
       "3     63.0\n",
       "4     39.0\n",
       "Name: price, dtype: float64"
      ]
     },
     "execution_count": 17,
     "metadata": {},
     "output_type": "execute_result"
    }
   ],
   "source": [
    "# Let's see if it worked\n",
    "df[\"price\"].head()"
   ]
  },
  {
   "cell_type": "code",
   "execution_count": 18,
   "metadata": {
    "colab": {
     "base_uri": "https://localhost:8080/",
     "height": 461
    },
    "colab_type": "code",
    "executionInfo": {
     "elapsed": 2065,
     "status": "ok",
     "timestamp": 1579745672572,
     "user": {
      "displayName": "Rajeev Ratan",
      "photoUrl": "https://lh3.googleusercontent.com/a-/AAuE7mCGo6aIm0tOcd5EhqWlYb0rime9sBvHS9YMpx0D2w=s64",
      "userId": "08597265227091462140"
     },
     "user_tz": 240
    },
    "id": "XBShMJ-ZZBBy",
    "outputId": "0287281b-341b-4a83-e9de-33d65996162d"
   },
   "outputs": [
    {
     "name": "stdout",
     "output_type": "stream",
     "text": [
      "<class 'pandas.core.frame.DataFrame'>\n",
      "RangeIndex: 27070 entries, 0 to 27069\n",
      "Data columns (total 84 columns):\n",
      " #   Column                            Non-Null Count  Dtype         \n",
      "---  ------                            --------------  -----         \n",
      " 0   id                                27070 non-null  int64         \n",
      " 1   listing_url                       27070 non-null  object        \n",
      " 2   name                              27056 non-null  object        \n",
      " 3   summary                           26765 non-null  object        \n",
      " 4   space                             18808 non-null  object        \n",
      " 5   description                       27045 non-null  object        \n",
      " 6   neighborhood_overview             16114 non-null  object        \n",
      " 7   notes                             11406 non-null  object        \n",
      " 8   transit                           16863 non-null  object        \n",
      " 9   access                            16666 non-null  object        \n",
      " 10  interaction                       15318 non-null  object        \n",
      " 11  house_rules                       16457 non-null  object        \n",
      " 12  picture_url                       27070 non-null  object        \n",
      " 13  host_id                           27070 non-null  int64         \n",
      " 14  host_url                          27070 non-null  object        \n",
      " 15  host_name                         27035 non-null  object        \n",
      " 16  host_since                        27035 non-null  datetime64[ns]\n",
      " 17  host_location                     26996 non-null  object        \n",
      " 18  host_about                        14698 non-null  object        \n",
      " 19  host_response_time                13400 non-null  object        \n",
      " 20  host_response_rate                13400 non-null  object        \n",
      " 21  host_is_superhost                 27035 non-null  object        \n",
      " 22  host_thumbnail_url                27035 non-null  object        \n",
      " 23  host_picture_url                  27035 non-null  object        \n",
      " 24  host_neighbourhood                18599 non-null  object        \n",
      " 25  host_listings_count               27035 non-null  float64       \n",
      " 26  host_total_listings_count         27035 non-null  float64       \n",
      " 27  host_verifications                27070 non-null  object        \n",
      " 28  host_has_profile_pic              27035 non-null  object        \n",
      " 29  host_identity_verified            27035 non-null  object        \n",
      " 30  street                            27070 non-null  object        \n",
      " 31  neighbourhood                     23013 non-null  object        \n",
      " 32  neighbourhood_cleansed            27070 non-null  object        \n",
      " 33  neighbourhood_group_cleansed      0 non-null      float64       \n",
      " 34  city                              27037 non-null  object        \n",
      " 35  state                             27061 non-null  object        \n",
      " 36  zipcode                           26955 non-null  object        \n",
      " 37  market                            26998 non-null  object        \n",
      " 38  smart_location                    27070 non-null  object        \n",
      " 39  country_code                      27070 non-null  object        \n",
      " 40  country                           27070 non-null  object        \n",
      " 41  latitude                          27070 non-null  float64       \n",
      " 42  longitude                         27070 non-null  float64       \n",
      " 43  is_location_exact                 27070 non-null  object        \n",
      " 44  property_type                     27070 non-null  object        \n",
      " 45  room_type                         27070 non-null  object        \n",
      " 46  accommodates                      27070 non-null  int64         \n",
      " 47  bathrooms                         27048 non-null  float64       \n",
      " 48  bedrooms                          27062 non-null  float64       \n",
      " 49  beds                              27037 non-null  float64       \n",
      " 50  bed_type                          27070 non-null  object        \n",
      " 51  amenities                         27070 non-null  object        \n",
      " 52  square_feet                       256 non-null    float64       \n",
      " 53  price                             27070 non-null  float64       \n",
      " 54  weekly_price                      3920 non-null   object        \n",
      " 55  monthly_price                     2375 non-null   object        \n",
      " 56  security_deposit                  27070 non-null  float64       \n",
      " 57  cleaning_fee                      27070 non-null  float64       \n",
      " 58  guests_included                   27070 non-null  int64         \n",
      " 59  extra_people                      27070 non-null  object        \n",
      " 60  minimum_nights                    27070 non-null  int64         \n",
      " 61  maximum_nights                    27070 non-null  int64         \n",
      " 62  calendar_updated                  27070 non-null  object        \n",
      " 63  has_availability                  27070 non-null  object        \n",
      " 64  availability_30                   27070 non-null  int64         \n",
      " 65  availability_60                   27070 non-null  int64         \n",
      " 66  availability_90                   27070 non-null  int64         \n",
      " 67  availability_365                  27070 non-null  int64         \n",
      " 68  number_of_reviews                 27070 non-null  int64         \n",
      " 69  first_review                      20246 non-null  object        \n",
      " 70  last_review                       20265 non-null  object        \n",
      " 71  review_scores_rating              19512 non-null  float64       \n",
      " 72  review_scores_accuracy            19463 non-null  float64       \n",
      " 73  review_scores_cleanliness         19484 non-null  float64       \n",
      " 74  review_scores_checkin             19437 non-null  float64       \n",
      " 75  review_scores_communication       19479 non-null  float64       \n",
      " 76  review_scores_location            19437 non-null  float64       \n",
      " 77  review_scores_value               19431 non-null  float64       \n",
      " 78  instant_bookable                  27070 non-null  object        \n",
      " 79  cancellation_policy               27070 non-null  object        \n",
      " 80  require_guest_profile_picture     27070 non-null  object        \n",
      " 81  require_guest_phone_verification  27070 non-null  object        \n",
      " 82  calculated_host_listings_count    27070 non-null  int64         \n",
      " 83  reviews_per_month                 20246 non-null  float64       \n",
      "dtypes: datetime64[ns](1), float64(20), int64(12), object(51)\n",
      "memory usage: 17.3+ MB\n"
     ]
    }
   ],
   "source": [
    "df.info()"
   ]
  },
  {
   "cell_type": "code",
   "execution_count": 19,
   "metadata": {
    "colab": {
     "base_uri": "https://localhost:8080/",
     "height": 270
    },
    "colab_type": "code",
    "executionInfo": {
     "elapsed": 2259,
     "status": "ok",
     "timestamp": 1579745673086,
     "user": {
      "displayName": "Rajeev Ratan",
      "photoUrl": "https://lh3.googleusercontent.com/a-/AAuE7mCGo6aIm0tOcd5EhqWlYb0rime9sBvHS9YMpx0D2w=s64",
      "userId": "08597265227091462140"
     },
     "user_tz": 240
    },
    "id": "D56JFFrVw5Gt",
    "outputId": "399c1b77-73e9-4870-e06a-7cb612030fb5"
   },
   "outputs": [
    {
     "data": {
      "text/plain": [
       "<matplotlib.axes._subplots.AxesSubplot at 0x11d306950>"
      ]
     },
     "execution_count": 19,
     "metadata": {},
     "output_type": "execute_result"
    },
    {
     "data": {
      "image/png": "[encoded data removed]",
      "text/plain": [
       "<Figure size 432x288 with 1 Axes>"
      ]
     },
     "metadata": {
      "needs_background": "light"
     },
     "output_type": "display_data"
    }
   ],
   "source": [
    "## Use a boxplot to check for high price values (outliers)\n",
    "import seaborn as sns\n",
    "\n",
    "sns.boxplot( y=df[\"price\"] )"
   ]
  },
  {
   "cell_type": "code",
   "execution_count": 20,
   "metadata": {
    "colab": {
     "base_uri": "https://localhost:8080/",
     "height": 35
    },
    "colab_type": "code",
    "executionInfo": {
     "elapsed": 1777,
     "status": "ok",
     "timestamp": 1579745673090,
     "user": {
      "displayName": "Rajeev Ratan",
      "photoUrl": "https://lh3.googleusercontent.com/a-/AAuE7mCGo6aIm0tOcd5EhqWlYb0rime9sBvHS9YMpx0D2w=s64",
      "userId": "08597265227091462140"
     },
     "user_tz": 240
    },
    "id": "z7JM4sHqw5G1",
    "outputId": "c9f423c5-9892-4357-b738-e16d1815e4ef"
   },
   "outputs": [
    {
     "data": {
      "text/plain": [
       "13.808558337216192"
      ]
     },
     "execution_count": 20,
     "metadata": {},
     "output_type": "execute_result"
    }
   ],
   "source": [
    "# We can see a few high value pries, with the majority being close to bottom (seems like ~100-200)\n",
    "\n",
    "# We now use skew to check for the symmetry of the data distribution (0 being perfectly symmetrical)\n",
    "# https://www.spcforexcel.com/knowledge/basic-statistics/are-skewness-and-kurtosis-useful-statistics\n",
    "df[\"price\"].skew()"
   ]
  },
  {
   "cell_type": "code",
   "execution_count": 21,
   "metadata": {
    "colab": {
     "base_uri": "https://localhost:8080/",
     "height": 35
    },
    "colab_type": "code",
    "executionInfo": {
     "elapsed": 486,
     "status": "ok",
     "timestamp": 1579745674062,
     "user": {
      "displayName": "Rajeev Ratan",
      "photoUrl": "https://lh3.googleusercontent.com/a-/AAuE7mCGo6aIm0tOcd5EhqWlYb0rime9sBvHS9YMpx0D2w=s64",
      "userId": "08597265227091462140"
     },
     "user_tz": 240
    },
    "id": "KH8OFVGhaRvn",
    "outputId": "abd6935a-78ad-4df8-e030-e4445d258b5e"
   },
   "outputs": [
    {
     "data": {
      "text/plain": [
       "413.4301463784445"
      ]
     },
     "execution_count": 21,
     "metadata": {},
     "output_type": "execute_result"
    }
   ],
   "source": [
    "# We can also use Kurtosis to analyze our data\n",
    "# “Kurtosis is the degree of peakedness of a distribution” – Wolfram MathWorld\n",
    "\n",
    "df[\"price\"].kurtosis()"
   ]
  },
  {
   "cell_type": "code",
   "execution_count": 22,
   "metadata": {
    "colab": {
     "base_uri": "https://localhost:8080/",
     "height": 69
    },
    "colab_type": "code",
    "executionInfo": {
     "elapsed": 1289,
     "status": "ok",
     "timestamp": 1573949722390,
     "user": {
      "displayName": "Rajeev Ratan",
      "photoUrl": "https://lh3.googleusercontent.com/a-/AAuE7mCGo6aIm0tOcd5EhqWlYb0rime9sBvHS9YMpx0D2w=s64",
      "userId": "08597265227091462140"
     },
     "user_tz": 0
    },
    "id": "AHr5vYEZw5G-",
    "outputId": "68d6929a-18bd-4726-cc1b-8bdfa3dcaf1a"
   },
   "outputs": [
    {
     "name": "stdout",
     "output_type": "stream",
     "text": [
      "1600.0\n",
      "209.27879571481344\n",
      "135.0\n"
     ]
    }
   ],
   "source": [
    "## So in order to remove or filter out our high value 'outliers' let's consider taking our data from the 99.5% percentile and exclude the bottom .25% and top 0.25% of prices\n",
    "## This function returns the highest value of the 99.5% percentile which is still relatively high when compared to the mean and median\n",
    "print(df[\"price\"].quantile(0.995))\n",
    "print(df[\"price\"].mean())\n",
    "print(df[\"price\"].median())"
   ]
  },
  {
   "cell_type": "code",
   "execution_count": 23,
   "metadata": {
    "colab": {},
    "colab_type": "code",
    "id": "5YfvE8BTw5HI"
   },
   "outputs": [],
   "source": [
    "# Now we remove all prices over the 99.5% percentile (or in order words, we keep all data rows under the 99.5% value of 1600)\n",
    "df = df[df[\"price\"]<df[\"price\"].quantile(0.995)].reset_index(drop=True)"
   ]
  },
  {
   "cell_type": "code",
   "execution_count": 24,
   "metadata": {
    "colab": {
     "base_uri": "https://localhost:8080/",
     "height": 35
    },
    "colab_type": "code",
    "executionInfo": {
     "elapsed": 537,
     "status": "ok",
     "timestamp": 1579745690800,
     "user": {
      "displayName": "Rajeev Ratan",
      "photoUrl": "https://lh3.googleusercontent.com/a-/AAuE7mCGo6aIm0tOcd5EhqWlYb0rime9sBvHS9YMpx0D2w=s64",
      "userId": "08597265227091462140"
     },
     "user_tz": 240
    },
    "id": "3ORYKN6Yw5HO",
    "outputId": "e02fe055-41bf-4ff3-cb48-90ec5d6b4ead"
   },
   "outputs": [
    {
     "data": {
      "text/plain": [
       "2.957872457159033"
      ]
     },
     "execution_count": 24,
     "metadata": {},
     "output_type": "execute_result"
    }
   ],
   "source": [
    "# Let's check our skew now\n",
    "df[\"price\"].skew()"
   ]
  },
  {
   "cell_type": "code",
   "execution_count": 25,
   "metadata": {
    "colab": {
     "base_uri": "https://localhost:8080/",
     "height": 390
    },
    "colab_type": "code",
    "executionInfo": {
     "elapsed": 1423,
     "status": "ok",
     "timestamp": 1579745692103,
     "user": {
      "displayName": "Rajeev Ratan",
      "photoUrl": "https://lh3.googleusercontent.com/a-/AAuE7mCGo6aIm0tOcd5EhqWlYb0rime9sBvHS9YMpx0D2w=s64",
      "userId": "08597265227091462140"
     },
     "user_tz": 240
    },
    "id": "mjQ3evsZw5HY",
    "outputId": "6fe7a739-452c-4eff-f8d3-97f6e07957e1"
   },
   "outputs": [
    {
     "data": {
      "text/plain": [
       "id                                     0\n",
       "listing_url                            0\n",
       "name                                  14\n",
       "summary                              305\n",
       "space                               8230\n",
       "                                    ... \n",
       "cancellation_policy                    0\n",
       "require_guest_profile_picture          0\n",
       "require_guest_phone_verification       0\n",
       "calculated_host_listings_count         0\n",
       "reviews_per_month                   6733\n",
       "Length: 84, dtype: int64"
      ]
     },
     "execution_count": 25,
     "metadata": {},
     "output_type": "execute_result"
    }
   ],
   "source": [
    "# Let's check our data for null values\n",
    "df.isnull().sum()"
   ]
  },
  {
   "cell_type": "code",
   "execution_count": 26,
   "metadata": {
    "colab": {
     "base_uri": "https://localhost:8080/",
     "height": 461
    },
    "colab_type": "code",
    "executionInfo": {
     "elapsed": 1456,
     "status": "ok",
     "timestamp": 1579745692546,
     "user": {
      "displayName": "Rajeev Ratan",
      "photoUrl": "https://lh3.googleusercontent.com/a-/AAuE7mCGo6aIm0tOcd5EhqWlYb0rime9sBvHS9YMpx0D2w=s64",
      "userId": "08597265227091462140"
     },
     "user_tz": 240
    },
    "id": "lCaILI1hejFQ",
    "outputId": "aea807c3-d27a-4a52-dcca-d51446382c32"
   },
   "outputs": [
    {
     "name": "stdout",
     "output_type": "stream",
     "text": [
      "<class 'pandas.core.frame.DataFrame'>\n",
      "RangeIndex: 26931 entries, 0 to 26930\n",
      "Data columns (total 84 columns):\n",
      " #   Column                            Non-Null Count  Dtype         \n",
      "---  ------                            --------------  -----         \n",
      " 0   id                                26931 non-null  int64         \n",
      " 1   listing_url                       26931 non-null  object        \n",
      " 2   name                              26917 non-null  object        \n",
      " 3   summary                           26626 non-null  object        \n",
      " 4   space                             18701 non-null  object        \n",
      " 5   description                       26906 non-null  object        \n",
      " 6   neighborhood_overview             16036 non-null  object        \n",
      " 7   notes                             11336 non-null  object        \n",
      " 8   transit                           16811 non-null  object        \n",
      " 9   access                            16602 non-null  object        \n",
      " 10  interaction                       15247 non-null  object        \n",
      " 11  house_rules                       16379 non-null  object        \n",
      " 12  picture_url                       26931 non-null  object        \n",
      " 13  host_id                           26931 non-null  int64         \n",
      " 14  host_url                          26931 non-null  object        \n",
      " 15  host_name                         26897 non-null  object        \n",
      " 16  host_since                        26897 non-null  datetime64[ns]\n",
      " 17  host_location                     26858 non-null  object        \n",
      " 18  host_about                        14626 non-null  object        \n",
      " 19  host_response_time                13301 non-null  object        \n",
      " 20  host_response_rate                13301 non-null  object        \n",
      " 21  host_is_superhost                 26897 non-null  object        \n",
      " 22  host_thumbnail_url                26897 non-null  object        \n",
      " 23  host_picture_url                  26897 non-null  object        \n",
      " 24  host_neighbourhood                18482 non-null  object        \n",
      " 25  host_listings_count               26897 non-null  float64       \n",
      " 26  host_total_listings_count         26897 non-null  float64       \n",
      " 27  host_verifications                26931 non-null  object        \n",
      " 28  host_has_profile_pic              26897 non-null  object        \n",
      " 29  host_identity_verified            26897 non-null  object        \n",
      " 30  street                            26931 non-null  object        \n",
      " 31  neighbourhood                     22893 non-null  object        \n",
      " 32  neighbourhood_cleansed            26931 non-null  object        \n",
      " 33  neighbourhood_group_cleansed      0 non-null      float64       \n",
      " 34  city                              26899 non-null  object        \n",
      " 35  state                             26922 non-null  object        \n",
      " 36  zipcode                           26817 non-null  object        \n",
      " 37  market                            26859 non-null  object        \n",
      " 38  smart_location                    26931 non-null  object        \n",
      " 39  country_code                      26931 non-null  object        \n",
      " 40  country                           26931 non-null  object        \n",
      " 41  latitude                          26931 non-null  float64       \n",
      " 42  longitude                         26931 non-null  float64       \n",
      " 43  is_location_exact                 26931 non-null  object        \n",
      " 44  property_type                     26931 non-null  object        \n",
      " 45  room_type                         26931 non-null  object        \n",
      " 46  accommodates                      26931 non-null  int64         \n",
      " 47  bathrooms                         26909 non-null  float64       \n",
      " 48  bedrooms                          26923 non-null  float64       \n",
      " 49  beds                              26898 non-null  float64       \n",
      " 50  bed_type                          26931 non-null  object        \n",
      " 51  amenities                         26931 non-null  object        \n",
      " 52  square_feet                       255 non-null    float64       \n",
      " 53  price                             26931 non-null  float64       \n",
      " 54  weekly_price                      3915 non-null   object        \n",
      " 55  monthly_price                     2372 non-null   object        \n",
      " 56  security_deposit                  26931 non-null  float64       \n",
      " 57  cleaning_fee                      26931 non-null  float64       \n",
      " 58  guests_included                   26931 non-null  int64         \n",
      " 59  extra_people                      26931 non-null  object        \n",
      " 60  minimum_nights                    26931 non-null  int64         \n",
      " 61  maximum_nights                    26931 non-null  int64         \n",
      " 62  calendar_updated                  26931 non-null  object        \n",
      " 63  has_availability                  26931 non-null  object        \n",
      " 64  availability_30                   26931 non-null  int64         \n",
      " 65  availability_60                   26931 non-null  int64         \n",
      " 66  availability_90                   26931 non-null  int64         \n",
      " 67  availability_365                  26931 non-null  int64         \n",
      " 68  number_of_reviews                 26931 non-null  int64         \n",
      " 69  first_review                      20198 non-null  object        \n",
      " 70  last_review                       20217 non-null  object        \n",
      " 71  review_scores_rating              19465 non-null  float64       \n",
      " 72  review_scores_accuracy            19416 non-null  float64       \n",
      " 73  review_scores_cleanliness         19437 non-null  float64       \n",
      " 74  review_scores_checkin             19390 non-null  float64       \n",
      " 75  review_scores_communication       19432 non-null  float64       \n",
      " 76  review_scores_location            19390 non-null  float64       \n",
      " 77  review_scores_value               19384 non-null  float64       \n",
      " 78  instant_bookable                  26931 non-null  object        \n",
      " 79  cancellation_policy               26931 non-null  object        \n",
      " 80  require_guest_profile_picture     26931 non-null  object        \n",
      " 81  require_guest_phone_verification  26931 non-null  object        \n",
      " 82  calculated_host_listings_count    26931 non-null  int64         \n",
      " 83  reviews_per_month                 20198 non-null  float64       \n",
      "dtypes: datetime64[ns](1), float64(20), int64(12), object(51)\n",
      "memory usage: 17.3+ MB\n"
     ]
    }
   ],
   "source": [
    "df.info()"
   ]
  },
  {
   "cell_type": "code",
   "execution_count": 27,
   "metadata": {
    "colab": {
     "base_uri": "https://localhost:8080/",
     "height": 1000
    },
    "colab_type": "code",
    "executionInfo": {
     "elapsed": 980,
     "status": "ok",
     "timestamp": 1579745692550,
     "user": {
      "displayName": "Rajeev Ratan",
      "photoUrl": "https://lh3.googleusercontent.com/a-/AAuE7mCGo6aIm0tOcd5EhqWlYb0rime9sBvHS9YMpx0D2w=s64",
      "userId": "08597265227091462140"
     },
     "user_tz": 240
    },
    "id": "H4Uw7ou7w5Hz",
    "outputId": "e808943e-d84f-427b-c273-7323e3eb5d5c"
   },
   "outputs": [
    {
     "name": "stdout",
     "output_type": "stream",
     "text": [
      "strict_14_with_grace_period    11585\n",
      "flexible                        8538\n",
      "moderate                        6776\n",
      "super_strict_60                   31\n",
      "super_strict_30                    1\n",
      "Name: cancellation_policy, dtype: int64\n",
      "Bondi Beach                1671\n",
      "Manly                       958\n",
      "Surry Hills                 919\n",
      "Bondi                       785\n",
      "Randwick                    684\n",
      "                           ... \n",
      "Neutral Bay                   1\n",
      "Eagle Vale                    1\n",
      "Brighton Le Sands             1\n",
      "Centennial Park, Sydney       1\n",
      "Maraylya                      1\n",
      "Name: city, Length: 741, dtype: int64\n",
      "Apartment                 15901\n",
      "House                      7722\n",
      "Townhouse                  1145\n",
      "Condominium                 351\n",
      "Guest suite                 350\n",
      "Guesthouse                  287\n",
      "Villa                       201\n",
      "Loft                        175\n",
      "Bed and breakfast           156\n",
      "Other                       147\n",
      "Bungalow                    118\n",
      "Cabin                        77\n",
      "Serviced apartment           74\n",
      "Cottage                      60\n",
      "Hostel                       53\n",
      "Boutique hotel               25\n",
      "Boat                         18\n",
      "Tent                         13\n",
      "Hotel                        13\n",
      "Tiny house                    9\n",
      "Resort                        6\n",
      "Camper/RV                     6\n",
      "Farm stay                     3\n",
      "Island                        3\n",
      "Chalet                        2\n",
      "Tipi                          2\n",
      "Yurt                          2\n",
      "Houseboat                     1\n",
      "Hut                           1\n",
      "Earth house                   1\n",
      "Campsite                      1\n",
      "Dome house                    1\n",
      "Treehouse                     1\n",
      "Train                         1\n",
      "Barn                          1\n",
      "Nature lodge                  1\n",
      "Casa particular (Cuba)        1\n",
      "Aparthotel                    1\n",
      "Castle                        1\n",
      "Name: property_type, dtype: int64\n",
      "Entire home/apt    16789\n",
      "Private room        9745\n",
      "Shared room          397\n",
      "Name: room_type, dtype: int64\n"
     ]
    }
   ],
   "source": [
    "print(df[\"cancellation_policy\"].value_counts())\n",
    "print(df[\"city\"].value_counts())\n",
    "print(df[\"property_type\"].value_counts())\n",
    "print(df[\"room_type\"].value_counts())"
   ]
  },
  {
   "cell_type": "code",
   "execution_count": 28,
   "metadata": {
    "colab": {
     "base_uri": "https://localhost:8080/",
     "height": 311
    },
    "colab_type": "code",
    "executionInfo": {
     "elapsed": 1324,
     "status": "ok",
     "timestamp": 1579745693357,
     "user": {
      "displayName": "Rajeev Ratan",
      "photoUrl": "https://lh3.googleusercontent.com/a-/AAuE7mCGo6aIm0tOcd5EhqWlYb0rime9sBvHS9YMpx0D2w=s64",
      "userId": "08597265227091462140"
     },
     "user_tz": 240
    },
    "id": "Z2B1YEXrw5H7",
    "outputId": "5402fa27-9582-4b03-f413-a468700b5adb"
   },
   "outputs": [
    {
     "data": {
      "text/html": [
       "<div>\n",
       "<style scoped>\n",
       "    .dataframe tbody tr th:only-of-type {\n",
       "        vertical-align: middle;\n",
       "    }\n",
       "\n",
       "    .dataframe tbody tr th {\n",
       "        vertical-align: top;\n",
       "    }\n",
       "\n",
       "    .dataframe thead th {\n",
       "        text-align: right;\n",
       "    }\n",
       "</style>\n",
       "<table border=\"1\" class=\"dataframe\">\n",
       "  <thead>\n",
       "    <tr style=\"text-align: right;\">\n",
       "      <th></th>\n",
       "      <th>id</th>\n",
       "      <th>host_id</th>\n",
       "      <th>host_listings_count</th>\n",
       "      <th>host_total_listings_count</th>\n",
       "      <th>neighbourhood_group_cleansed</th>\n",
       "      <th>latitude</th>\n",
       "      <th>longitude</th>\n",
       "      <th>accommodates</th>\n",
       "      <th>bathrooms</th>\n",
       "      <th>bedrooms</th>\n",
       "      <th>...</th>\n",
       "      <th>number_of_reviews</th>\n",
       "      <th>review_scores_rating</th>\n",
       "      <th>review_scores_accuracy</th>\n",
       "      <th>review_scores_cleanliness</th>\n",
       "      <th>review_scores_checkin</th>\n",
       "      <th>review_scores_communication</th>\n",
       "      <th>review_scores_location</th>\n",
       "      <th>review_scores_value</th>\n",
       "      <th>calculated_host_listings_count</th>\n",
       "      <th>reviews_per_month</th>\n",
       "    </tr>\n",
       "  </thead>\n",
       "  <tbody>\n",
       "    <tr>\n",
       "      <th>count</th>\n",
       "      <td>2.693100e+04</td>\n",
       "      <td>2.693100e+04</td>\n",
       "      <td>26897.000000</td>\n",
       "      <td>26897.000000</td>\n",
       "      <td>0.0</td>\n",
       "      <td>26931.000000</td>\n",
       "      <td>26931.000000</td>\n",
       "      <td>26931.000000</td>\n",
       "      <td>26909.000000</td>\n",
       "      <td>26923.000000</td>\n",
       "      <td>...</td>\n",
       "      <td>26931.000000</td>\n",
       "      <td>19465.000000</td>\n",
       "      <td>19416.000000</td>\n",
       "      <td>19437.000000</td>\n",
       "      <td>19390.000000</td>\n",
       "      <td>19432.000000</td>\n",
       "      <td>19390.000000</td>\n",
       "      <td>19384.000000</td>\n",
       "      <td>26931.000000</td>\n",
       "      <td>20198.000000</td>\n",
       "    </tr>\n",
       "    <tr>\n",
       "      <th>mean</th>\n",
       "      <td>1.402366e+07</td>\n",
       "      <td>4.697544e+07</td>\n",
       "      <td>7.464699</td>\n",
       "      <td>7.464699</td>\n",
       "      <td>NaN</td>\n",
       "      <td>-33.862675</td>\n",
       "      <td>151.210438</td>\n",
       "      <td>3.357395</td>\n",
       "      <td>1.340964</td>\n",
       "      <td>1.600787</td>\n",
       "      <td>...</td>\n",
       "      <td>14.070031</td>\n",
       "      <td>93.404932</td>\n",
       "      <td>9.551607</td>\n",
       "      <td>9.242579</td>\n",
       "      <td>9.745023</td>\n",
       "      <td>9.742075</td>\n",
       "      <td>9.647138</td>\n",
       "      <td>9.329395</td>\n",
       "      <td>6.042256</td>\n",
       "      <td>0.973560</td>\n",
       "    </tr>\n",
       "    <tr>\n",
       "      <th>std</th>\n",
       "      <td>6.522550e+06</td>\n",
       "      <td>4.526606e+07</td>\n",
       "      <td>27.053205</td>\n",
       "      <td>27.053205</td>\n",
       "      <td>NaN</td>\n",
       "      <td>0.071861</td>\n",
       "      <td>0.079425</td>\n",
       "      <td>2.160004</td>\n",
       "      <td>0.638187</td>\n",
       "      <td>1.091213</td>\n",
       "      <td>...</td>\n",
       "      <td>29.870227</td>\n",
       "      <td>9.358515</td>\n",
       "      <td>0.911434</td>\n",
       "      <td>1.193323</td>\n",
       "      <td>0.747696</td>\n",
       "      <td>0.775549</td>\n",
       "      <td>0.732092</td>\n",
       "      <td>1.000330</td>\n",
       "      <td>21.195248</td>\n",
       "      <td>1.460142</td>\n",
       "    </tr>\n",
       "    <tr>\n",
       "      <th>min</th>\n",
       "      <td>1.115600e+04</td>\n",
       "      <td>8.346000e+03</td>\n",
       "      <td>0.000000</td>\n",
       "      <td>0.000000</td>\n",
       "      <td>NaN</td>\n",
       "      <td>-34.135212</td>\n",
       "      <td>150.644964</td>\n",
       "      <td>1.000000</td>\n",
       "      <td>0.000000</td>\n",
       "      <td>0.000000</td>\n",
       "      <td>...</td>\n",
       "      <td>0.000000</td>\n",
       "      <td>20.000000</td>\n",
       "      <td>2.000000</td>\n",
       "      <td>2.000000</td>\n",
       "      <td>2.000000</td>\n",
       "      <td>2.000000</td>\n",
       "      <td>2.000000</td>\n",
       "      <td>2.000000</td>\n",
       "      <td>1.000000</td>\n",
       "      <td>0.010000</td>\n",
       "    </tr>\n",
       "    <tr>\n",
       "      <th>25%</th>\n",
       "      <td>9.082494e+06</td>\n",
       "      <td>1.110694e+07</td>\n",
       "      <td>1.000000</td>\n",
       "      <td>1.000000</td>\n",
       "      <td>NaN</td>\n",
       "      <td>-33.897653</td>\n",
       "      <td>151.184336</td>\n",
       "      <td>2.000000</td>\n",
       "      <td>1.000000</td>\n",
       "      <td>1.000000</td>\n",
       "      <td>...</td>\n",
       "      <td>1.000000</td>\n",
       "      <td>90.000000</td>\n",
       "      <td>9.000000</td>\n",
       "      <td>9.000000</td>\n",
       "      <td>10.000000</td>\n",
       "      <td>10.000000</td>\n",
       "      <td>9.000000</td>\n",
       "      <td>9.000000</td>\n",
       "      <td>1.000000</td>\n",
       "      <td>0.140000</td>\n",
       "    </tr>\n",
       "    <tr>\n",
       "      <th>50%</th>\n",
       "      <td>1.544077e+07</td>\n",
       "      <td>3.025155e+07</td>\n",
       "      <td>1.000000</td>\n",
       "      <td>1.000000</td>\n",
       "      <td>NaN</td>\n",
       "      <td>-33.883161</td>\n",
       "      <td>151.223029</td>\n",
       "      <td>2.000000</td>\n",
       "      <td>1.000000</td>\n",
       "      <td>1.000000</td>\n",
       "      <td>...</td>\n",
       "      <td>3.000000</td>\n",
       "      <td>96.000000</td>\n",
       "      <td>10.000000</td>\n",
       "      <td>10.000000</td>\n",
       "      <td>10.000000</td>\n",
       "      <td>10.000000</td>\n",
       "      <td>10.000000</td>\n",
       "      <td>10.000000</td>\n",
       "      <td>1.000000</td>\n",
       "      <td>0.360000</td>\n",
       "    </tr>\n",
       "    <tr>\n",
       "      <th>75%</th>\n",
       "      <td>2.015486e+07</td>\n",
       "      <td>6.768799e+07</td>\n",
       "      <td>2.000000</td>\n",
       "      <td>2.000000</td>\n",
       "      <td>NaN</td>\n",
       "      <td>-33.832189</td>\n",
       "      <td>151.264706</td>\n",
       "      <td>4.000000</td>\n",
       "      <td>1.500000</td>\n",
       "      <td>2.000000</td>\n",
       "      <td>...</td>\n",
       "      <td>13.000000</td>\n",
       "      <td>100.000000</td>\n",
       "      <td>10.000000</td>\n",
       "      <td>10.000000</td>\n",
       "      <td>10.000000</td>\n",
       "      <td>10.000000</td>\n",
       "      <td>10.000000</td>\n",
       "      <td>10.000000</td>\n",
       "      <td>2.000000</td>\n",
       "      <td>1.197500</td>\n",
       "    </tr>\n",
       "    <tr>\n",
       "      <th>max</th>\n",
       "      <td>2.270966e+07</td>\n",
       "      <td>1.674985e+08</td>\n",
       "      <td>461.000000</td>\n",
       "      <td>461.000000</td>\n",
       "      <td>NaN</td>\n",
       "      <td>-33.389728</td>\n",
       "      <td>151.339811</td>\n",
       "      <td>16.000000</td>\n",
       "      <td>10.000000</td>\n",
       "      <td>46.000000</td>\n",
       "      <td>...</td>\n",
       "      <td>468.000000</td>\n",
       "      <td>100.000000</td>\n",
       "      <td>10.000000</td>\n",
       "      <td>10.000000</td>\n",
       "      <td>10.000000</td>\n",
       "      <td>10.000000</td>\n",
       "      <td>10.000000</td>\n",
       "      <td>10.000000</td>\n",
       "      <td>177.000000</td>\n",
       "      <td>64.660000</td>\n",
       "    </tr>\n",
       "  </tbody>\n",
       "</table>\n",
       "<p>8 rows × 32 columns</p>\n",
       "</div>"
      ],
      "text/plain": [
       "                 id       host_id  host_listings_count  \\\n",
       "count  2.693100e+04  2.693100e+04         26897.000000   \n",
       "mean   1.402366e+07  4.697544e+07             7.464699   \n",
       "std    6.522550e+06  4.526606e+07            27.053205   \n",
       "min    1.115600e+04  8.346000e+03             0.000000   \n",
       "25%    9.082494e+06  1.110694e+07             1.000000   \n",
       "50%    1.544077e+07  3.025155e+07             1.000000   \n",
       "75%    2.015486e+07  6.768799e+07             2.000000   \n",
       "max    2.270966e+07  1.674985e+08           461.000000   \n",
       "\n",
       "       host_total_listings_count  neighbourhood_group_cleansed      latitude  \\\n",
       "count               26897.000000                           0.0  26931.000000   \n",
       "mean                    7.464699                           NaN    -33.862675   \n",
       "std                    27.053205                           NaN      0.071861   \n",
       "min                     0.000000                           NaN    -34.135212   \n",
       "25%                     1.000000                           NaN    -33.897653   \n",
       "50%                     1.000000                           NaN    -33.883161   \n",
       "75%                     2.000000                           NaN    -33.832189   \n",
       "max                   461.000000                           NaN    -33.389728   \n",
       "\n",
       "          longitude  accommodates     bathrooms      bedrooms  ...  \\\n",
       "count  26931.000000  26931.000000  26909.000000  26923.000000  ...   \n",
       "mean     151.210438      3.357395      1.340964      1.600787  ...   \n",
       "std        0.079425      2.160004      0.638187      1.091213  ...   \n",
       "min      150.644964      1.000000      0.000000      0.000000  ...   \n",
       "25%      151.184336      2.000000      1.000000      1.000000  ...   \n",
       "50%      151.223029      2.000000      1.000000      1.000000  ...   \n",
       "75%      151.264706      4.000000      1.500000      2.000000  ...   \n",
       "max      151.339811     16.000000     10.000000     46.000000  ...   \n",
       "\n",
       "       number_of_reviews  review_scores_rating  review_scores_accuracy  \\\n",
       "count       26931.000000          19465.000000            19416.000000   \n",
       "mean           14.070031             93.404932                9.551607   \n",
       "std            29.870227              9.358515                0.911434   \n",
       "min             0.000000             20.000000                2.000000   \n",
       "25%             1.000000             90.000000                9.000000   \n",
       "50%             3.000000             96.000000               10.000000   \n",
       "75%            13.000000            100.000000               10.000000   \n",
       "max           468.000000            100.000000               10.000000   \n",
       "\n",
       "       review_scores_cleanliness  review_scores_checkin  \\\n",
       "count               19437.000000           19390.000000   \n",
       "mean                    9.242579               9.745023   \n",
       "std                     1.193323               0.747696   \n",
       "min                     2.000000               2.000000   \n",
       "25%                     9.000000              10.000000   \n",
       "50%                    10.000000              10.000000   \n",
       "75%                    10.000000              10.000000   \n",
       "max                    10.000000              10.000000   \n",
       "\n",
       "       review_scores_communication  review_scores_location  \\\n",
       "count                 19432.000000            19390.000000   \n",
       "mean                      9.742075                9.647138   \n",
       "std                       0.775549                0.732092   \n",
       "min                       2.000000                2.000000   \n",
       "25%                      10.000000                9.000000   \n",
       "50%                      10.000000               10.000000   \n",
       "75%                      10.000000               10.000000   \n",
       "max                      10.000000               10.000000   \n",
       "\n",
       "       review_scores_value  calculated_host_listings_count  reviews_per_month  \n",
       "count         19384.000000                    26931.000000       20198.000000  \n",
       "mean              9.329395                        6.042256           0.973560  \n",
       "std               1.000330                       21.195248           1.460142  \n",
       "min               2.000000                        1.000000           0.010000  \n",
       "25%               9.000000                        1.000000           0.140000  \n",
       "50%              10.000000                        1.000000           0.360000  \n",
       "75%              10.000000                        2.000000           1.197500  \n",
       "max              10.000000                      177.000000          64.660000  \n",
       "\n",
       "[8 rows x 32 columns]"
      ]
     },
     "execution_count": 28,
     "metadata": {},
     "output_type": "execute_result"
    }
   ],
   "source": [
    "df.describe()"
   ]
  },
  {
   "cell_type": "markdown",
   "metadata": {},
   "source": [
    "# Data Exploration"
   ]
  },
  {
   "cell_type": "code",
   "execution_count": 31,
   "metadata": {
    "colab": {
     "base_uri": "https://localhost:8080/",
     "height": 1000
    },
    "colab_type": "code",
    "executionInfo": {
     "elapsed": 8899,
     "status": "ok",
     "timestamp": 1579745701287,
     "user": {
      "displayName": "Rajeev Ratan",
      "photoUrl": "https://lh3.googleusercontent.com/a-/AAuE7mCGo6aIm0tOcd5EhqWlYb0rime9sBvHS9YMpx0D2w=s64",
      "userId": "08597265227091462140"
     },
     "user_tz": 240
    },
    "id": "ysvjJRt1w5II",
    "outputId": "fefa565b-e31b-49e3-90ca-f48a6e528dab"
   },
   "outputs": [
    {
     "data": {
      "image/png": "[encoded data removed]",
      "text/plain": [
       "<Figure size 1440x1080 with 36 Axes>"
      ]
     },
     "metadata": {
      "needs_background": "light"
     },
     "output_type": "display_data"
    }
   ],
   "source": [
    "# Plot the distribution of each variable\n",
    "%matplotlib inline\n",
    "import matplotlib.pyplot as plt\n",
    "\n",
    "try:\n",
    "    # We select all rows and all columns after the 6th\n",
    "    df.iloc[:,6:].hist(bins=50, figsize=(20,15))\n",
    "    #save_fig(\"attribute_histogram_plots\")\n",
    "    plt.show()\n",
    "except AttributeError:\n",
    "    pass\n"
   ]
  },
  {
   "cell_type": "code",
   "execution_count": 32,
   "metadata": {
    "colab": {
     "base_uri": "https://localhost:8080/",
     "height": 212
    },
    "colab_type": "code",
    "executionInfo": {
     "elapsed": 8497,
     "status": "ok",
     "timestamp": 1579745701289,
     "user": {
      "displayName": "Rajeev Ratan",
      "photoUrl": "https://lh3.googleusercontent.com/a-/AAuE7mCGo6aIm0tOcd5EhqWlYb0rime9sBvHS9YMpx0D2w=s64",
      "userId": "08597265227091462140"
     },
     "user_tz": 240
    },
    "id": "XsCwHu6Aw5IU",
    "outputId": "2fe8fc7e-d36f-41a7-b722-1d9ce3d12a17"
   },
   "outputs": [
    {
     "data": {
      "text/plain": [
       "Bondi Beach     1671\n",
       "Manly            958\n",
       "Surry Hills      919\n",
       "Bondi            785\n",
       "Randwick         684\n",
       "Sydney           682\n",
       "Coogee           675\n",
       "Darlinghurst     660\n",
       "North Bondi      629\n",
       "Newtown          490\n",
       "Name: city, dtype: int64"
      ]
     },
     "execution_count": 32,
     "metadata": {},
     "output_type": "execute_result"
    }
   ],
   "source": [
    "## We keep all the city types to create our model (more is data usually better), even though our customer, specifcally wants information about Bondi Beach \n",
    "\n",
    "df[\"city\"].value_counts().head(10)"
   ]
  },
  {
   "cell_type": "code",
   "execution_count": 33,
   "metadata": {
    "colab": {
     "base_uri": "https://localhost:8080/",
     "height": 628
    },
    "colab_type": "code",
    "executionInfo": {
     "elapsed": 17818,
     "status": "ok",
     "timestamp": 1579745711152,
     "user": {
      "displayName": "Rajeev Ratan",
      "photoUrl": "https://lh3.googleusercontent.com/a-/AAuE7mCGo6aIm0tOcd5EhqWlYb0rime9sBvHS9YMpx0D2w=s64",
      "userId": "08597265227091462140"
     },
     "user_tz": 240
    },
    "id": "XNg25DOfiswe",
    "outputId": "a8926f37-6daa-4552-b95a-e2f2fe52e4d0"
   },
   "outputs": [
    {
     "data": {
      "image/png": "[encoded data removed]",
      "text/plain": [
       "<Figure size 1152x720 with 1 Axes>"
      ]
     },
     "metadata": {
      "needs_background": "light"
     },
     "output_type": "display_data"
    }
   ],
   "source": [
    "plt.figure(figsize=(16,10))\n",
    "ax = sns.countplot(x=\"city\", data=df)"
   ]
  },
  {
   "cell_type": "code",
   "execution_count": 34,
   "metadata": {
    "colab": {},
    "colab_type": "code",
    "id": "4wL-UHLfw5Ij"
   },
   "outputs": [],
   "source": [
    "## For this taks we will keep the top 20 Sydney locations\n",
    "\n",
    "list_of_20 = list(df[\"city\"].value_counts().head(10).index)\n",
    "df = df[df[\"city\"].isin(list_of_20)].reset_index(drop=True)"
   ]
  },
  {
   "cell_type": "code",
   "execution_count": 35,
   "metadata": {
    "colab": {
     "base_uri": "https://localhost:8080/",
     "height": 497
    },
    "colab_type": "code",
    "executionInfo": {
     "elapsed": 16772,
     "status": "ok",
     "timestamp": 1579745711158,
     "user": {
      "displayName": "Rajeev Ratan",
      "photoUrl": "https://lh3.googleusercontent.com/a-/AAuE7mCGo6aIm0tOcd5EhqWlYb0rime9sBvHS9YMpx0D2w=s64",
      "userId": "08597265227091462140"
     },
     "user_tz": 240
    },
    "id": "bW8eqhsjkeNh",
    "outputId": "fda26507-59a3-4ee9-f0a0-8e5c52bf3e07"
   },
   "outputs": [
    {
     "data": {
      "text/plain": [
       "Apartment             5970\n",
       "House                 1497\n",
       "Townhouse              271\n",
       "Condominium            115\n",
       "Loft                    59\n",
       "Guest suite             44\n",
       "Other                   33\n",
       "Hostel                  30\n",
       "Bed and breakfast       25\n",
       "Guesthouse              24\n",
       "Serviced apartment      23\n",
       "Villa                   16\n",
       "Bungalow                 7\n",
       "Tent                     6\n",
       "Boutique hotel           6\n",
       "Cottage                  6\n",
       "Resort                   5\n",
       "Tiny house               5\n",
       "Hotel                    3\n",
       "Cabin                    2\n",
       "Camper/RV                1\n",
       "Chalet                   1\n",
       "Yurt                     1\n",
       "Earth house              1\n",
       "Houseboat                1\n",
       "Aparthotel               1\n",
       "Name: property_type, dtype: int64"
      ]
     },
     "execution_count": 35,
     "metadata": {},
     "output_type": "execute_result"
    }
   ],
   "source": [
    "df[\"property_type\"].value_counts()"
   ]
  },
  {
   "cell_type": "code",
   "execution_count": 36,
   "metadata": {
    "colab": {
     "base_uri": "https://localhost:8080/",
     "height": 248
    },
    "colab_type": "code",
    "executionInfo": {
     "elapsed": 16240,
     "status": "ok",
     "timestamp": 1579745711161,
     "user": {
      "displayName": "Rajeev Ratan",
      "photoUrl": "https://lh3.googleusercontent.com/a-/AAuE7mCGo6aIm0tOcd5EhqWlYb0rime9sBvHS9YMpx0D2w=s64",
      "userId": "08597265227091462140"
     },
     "user_tz": 240
    },
    "id": "pEA9rG38w5I6",
    "outputId": "aa4eb498-58b8-4db0-f954-77817df53894"
   },
   "outputs": [
    {
     "data": {
      "text/plain": [
       "Apartment             5970\n",
       "House                 1497\n",
       "Townhouse              271\n",
       "Condominium            115\n",
       "Loft                    59\n",
       "Guest suite             44\n",
       "Other                   33\n",
       "Hostel                  30\n",
       "Bed and breakfast       25\n",
       "Guesthouse              24\n",
       "Serviced apartment      23\n",
       "Villa                   16\n",
       "Name: property_type, dtype: int64"
      ]
     },
     "execution_count": 36,
     "metadata": {},
     "output_type": "execute_result"
    }
   ],
   "source": [
    "# We now remove the rare occurences in categories as it's necessary for the cross validation step\n",
    "# the below step is somewhat similar for what has been done with cities above\n",
    "\n",
    "# We store the counts of each type in the variable item_counts\n",
    "item_counts = df.groupby(['property_type']).size()\n",
    "\n",
    "# Store a list of the rare property types here i.e. the types that have a count less than 10 \n",
    "rare_items = list(item_counts.loc[item_counts <= 10].index.values)\n",
    "\n",
    "# drop the property types that were rare\n",
    "df = df[~df[\"property_type\"].isin(rare_items)].reset_index(drop=True)\n",
    "\n",
    "# Sanity check\n",
    "df[\"property_type\"].value_counts()"
   ]
  },
  {
   "cell_type": "code",
   "execution_count": 37,
   "metadata": {
    "colab": {},
    "colab_type": "code",
    "id": "1-wPuzs1w5Kd"
   },
   "outputs": [],
   "source": [
    "from sklearn.model_selection import train_test_split\n",
    "\n",
    "train_set, test_set = train_test_split(df, test_size=0.2, random_state=42)"
   ]
  },
  {
   "cell_type": "code",
   "execution_count": 38,
   "metadata": {
    "colab": {
     "base_uri": "https://localhost:8080/",
     "height": 305
    },
    "colab_type": "code",
    "executionInfo": {
     "elapsed": 15074,
     "status": "ok",
     "timestamp": 1579745711163,
     "user": {
      "displayName": "Rajeev Ratan",
      "photoUrl": "https://lh3.googleusercontent.com/a-/AAuE7mCGo6aIm0tOcd5EhqWlYb0rime9sBvHS9YMpx0D2w=s64",
      "userId": "08597265227091462140"
     },
     "user_tz": 240
    },
    "id": "sc7D0atAw5Km",
    "outputId": "4f46f8b5-18e0-4a3c-ece3-280e02192267"
   },
   "outputs": [
    {
     "data": {
      "text/html": [
       "<div>\n",
       "<style scoped>\n",
       "    .dataframe tbody tr th:only-of-type {\n",
       "        vertical-align: middle;\n",
       "    }\n",
       "\n",
       "    .dataframe tbody tr th {\n",
       "        vertical-align: top;\n",
       "    }\n",
       "\n",
       "    .dataframe thead th {\n",
       "        text-align: right;\n",
       "    }\n",
       "</style>\n",
       "<table border=\"1\" class=\"dataframe\">\n",
       "  <thead>\n",
       "    <tr style=\"text-align: right;\">\n",
       "      <th></th>\n",
       "      <th>id</th>\n",
       "      <th>listing_url</th>\n",
       "      <th>name</th>\n",
       "      <th>summary</th>\n",
       "      <th>space</th>\n",
       "      <th>description</th>\n",
       "      <th>neighborhood_overview</th>\n",
       "      <th>notes</th>\n",
       "      <th>transit</th>\n",
       "      <th>access</th>\n",
       "      <th>...</th>\n",
       "      <th>review_scores_checkin</th>\n",
       "      <th>review_scores_communication</th>\n",
       "      <th>review_scores_location</th>\n",
       "      <th>review_scores_value</th>\n",
       "      <th>instant_bookable</th>\n",
       "      <th>cancellation_policy</th>\n",
       "      <th>require_guest_profile_picture</th>\n",
       "      <th>require_guest_phone_verification</th>\n",
       "      <th>calculated_host_listings_count</th>\n",
       "      <th>reviews_per_month</th>\n",
       "    </tr>\n",
       "  </thead>\n",
       "  <tbody>\n",
       "    <tr>\n",
       "      <th>4084</th>\n",
       "      <td>14601769</td>\n",
       "      <td>https://www.airbnb.com/rooms/14601769</td>\n",
       "      <td>Bondi beach king room beautiful share house</td>\n",
       "      <td>In the back streets of North Bondi, sheltered ...</td>\n",
       "      <td>Garden Big balcony with barbacue Living room w...</td>\n",
       "      <td>In the back streets of North Bondi, sheltered ...</td>\n",
       "      <td>short walking distance to the beach 30 seconds...</td>\n",
       "      <td>NaN</td>\n",
       "      <td>bus stop 30 seconds away parking spot included</td>\n",
       "      <td>All shared rooms + garden + parking space</td>\n",
       "      <td>...</td>\n",
       "      <td>10.0</td>\n",
       "      <td>10.0</td>\n",
       "      <td>10.0</td>\n",
       "      <td>9.0</td>\n",
       "      <td>f</td>\n",
       "      <td>strict_14_with_grace_period</td>\n",
       "      <td>f</td>\n",
       "      <td>f</td>\n",
       "      <td>1</td>\n",
       "      <td>0.14</td>\n",
       "    </tr>\n",
       "    <tr>\n",
       "      <th>965</th>\n",
       "      <td>4485768</td>\n",
       "      <td>https://www.airbnb.com/rooms/4485768</td>\n",
       "      <td>WONDERFUL WINTER SPOT ‚ô° Location Perfect!</td>\n",
       "      <td>Perfectly located for you to experience Sydney...</td>\n",
       "      <td>Super tidy and loved home.  Open space living,...</td>\n",
       "      <td>Perfectly located for you to experience Sydney...</td>\n",
       "      <td>One of the most sought after areas to live in ...</td>\n",
       "      <td>Enjoy your Sydney experience and our home.  \"M...</td>\n",
       "      <td>It's super easy to get around from here!  In t...</td>\n",
       "      <td>You'll have access to: - A 55 inch LED Samsung...</td>\n",
       "      <td>...</td>\n",
       "      <td>9.0</td>\n",
       "      <td>10.0</td>\n",
       "      <td>10.0</td>\n",
       "      <td>9.0</td>\n",
       "      <td>f</td>\n",
       "      <td>moderate</td>\n",
       "      <td>f</td>\n",
       "      <td>f</td>\n",
       "      <td>3</td>\n",
       "      <td>0.09</td>\n",
       "    </tr>\n",
       "    <tr>\n",
       "      <th>8100</th>\n",
       "      <td>22692475</td>\n",
       "      <td>https://www.airbnb.com/rooms/22692475</td>\n",
       "      <td>Location is everything! Secure 1BR Apt</td>\n",
       "      <td>It's a simple one bedroom apartment right in t...</td>\n",
       "      <td>The apartment has a rooftop with city skyline ...</td>\n",
       "      <td>It's a simple one bedroom apartment right in t...</td>\n",
       "      <td>Right on William Street in the heart of it all...</td>\n",
       "      <td>NaN</td>\n",
       "      <td>Train station is 100m up the road, and buses g...</td>\n",
       "      <td>Guests can use bathroom amenities provided - s...</td>\n",
       "      <td>...</td>\n",
       "      <td>10.0</td>\n",
       "      <td>10.0</td>\n",
       "      <td>10.0</td>\n",
       "      <td>10.0</td>\n",
       "      <td>f</td>\n",
       "      <td>moderate</td>\n",
       "      <td>f</td>\n",
       "      <td>f</td>\n",
       "      <td>1</td>\n",
       "      <td>1.71</td>\n",
       "    </tr>\n",
       "    <tr>\n",
       "      <th>3882</th>\n",
       "      <td>13790226</td>\n",
       "      <td>https://www.airbnb.com/rooms/13790226</td>\n",
       "      <td>Heart of darling harbour uts Uni</td>\n",
       "      <td>Great location good place walk to everywhere</td>\n",
       "      <td>Good space handy location</td>\n",
       "      <td>Great location good place walk to everywhere G...</td>\n",
       "      <td>China town</td>\n",
       "      <td>Restaurants every where pub club aquatic centre</td>\n",
       "      <td>Bus taxi train tram ferry very close</td>\n",
       "      <td>Sydney heart Cbd darling harbour Sydney univer...</td>\n",
       "      <td>...</td>\n",
       "      <td>NaN</td>\n",
       "      <td>NaN</td>\n",
       "      <td>NaN</td>\n",
       "      <td>NaN</td>\n",
       "      <td>f</td>\n",
       "      <td>flexible</td>\n",
       "      <td>f</td>\n",
       "      <td>f</td>\n",
       "      <td>1</td>\n",
       "      <td>NaN</td>\n",
       "    </tr>\n",
       "    <tr>\n",
       "      <th>1010</th>\n",
       "      <td>4582940</td>\n",
       "      <td>https://www.airbnb.com/rooms/4582940</td>\n",
       "      <td>Beach Pad w/ Sunny Private Garden</td>\n",
       "      <td>Chilled 1 bedroom beach pad located in a quite...</td>\n",
       "      <td>The apartment has a great retro, chilled vibe....</td>\n",
       "      <td>Chilled 1 bedroom beach pad located in a quite...</td>\n",
       "      <td>Bondi and the surrounding Eastern Suburbs have...</td>\n",
       "      <td>Open to discussion on rates for extended stays...</td>\n",
       "      <td>Buses to the city centre and Bondi Junction ca...</td>\n",
       "      <td>Guests have access to everything in the apartm...</td>\n",
       "      <td>...</td>\n",
       "      <td>10.0</td>\n",
       "      <td>10.0</td>\n",
       "      <td>10.0</td>\n",
       "      <td>10.0</td>\n",
       "      <td>f</td>\n",
       "      <td>strict_14_with_grace_period</td>\n",
       "      <td>f</td>\n",
       "      <td>f</td>\n",
       "      <td>1</td>\n",
       "      <td>0.10</td>\n",
       "    </tr>\n",
       "  </tbody>\n",
       "</table>\n",
       "<p>5 rows × 84 columns</p>\n",
       "</div>"
      ],
      "text/plain": [
       "            id                            listing_url  \\\n",
       "4084  14601769  https://www.airbnb.com/rooms/14601769   \n",
       "965    4485768   https://www.airbnb.com/rooms/4485768   \n",
       "8100  22692475  https://www.airbnb.com/rooms/22692475   \n",
       "3882  13790226  https://www.airbnb.com/rooms/13790226   \n",
       "1010   4582940   https://www.airbnb.com/rooms/4582940   \n",
       "\n",
       "                                             name  \\\n",
       "4084  Bondi beach king room beautiful share house   \n",
       "965   WONDERFUL WINTER SPOT ‚ô° Location Perfect!   \n",
       "8100       Location is everything! Secure 1BR Apt   \n",
       "3882             Heart of darling harbour uts Uni   \n",
       "1010            Beach Pad w/ Sunny Private Garden   \n",
       "\n",
       "                                                summary  \\\n",
       "4084  In the back streets of North Bondi, sheltered ...   \n",
       "965   Perfectly located for you to experience Sydney...   \n",
       "8100  It's a simple one bedroom apartment right in t...   \n",
       "3882       Great location good place walk to everywhere   \n",
       "1010  Chilled 1 bedroom beach pad located in a quite...   \n",
       "\n",
       "                                                  space  \\\n",
       "4084  Garden Big balcony with barbacue Living room w...   \n",
       "965   Super tidy and loved home.  Open space living,...   \n",
       "8100  The apartment has a rooftop with city skyline ...   \n",
       "3882                          Good space handy location   \n",
       "1010  The apartment has a great retro, chilled vibe....   \n",
       "\n",
       "                                            description  \\\n",
       "4084  In the back streets of North Bondi, sheltered ...   \n",
       "965   Perfectly located for you to experience Sydney...   \n",
       "8100  It's a simple one bedroom apartment right in t...   \n",
       "3882  Great location good place walk to everywhere G...   \n",
       "1010  Chilled 1 bedroom beach pad located in a quite...   \n",
       "\n",
       "                                  neighborhood_overview  \\\n",
       "4084  short walking distance to the beach 30 seconds...   \n",
       "965   One of the most sought after areas to live in ...   \n",
       "8100  Right on William Street in the heart of it all...   \n",
       "3882                                         China town   \n",
       "1010  Bondi and the surrounding Eastern Suburbs have...   \n",
       "\n",
       "                                                  notes  \\\n",
       "4084                                                NaN   \n",
       "965   Enjoy your Sydney experience and our home.  \"M...   \n",
       "8100                                                NaN   \n",
       "3882    Restaurants every where pub club aquatic centre   \n",
       "1010  Open to discussion on rates for extended stays...   \n",
       "\n",
       "                                                transit  \\\n",
       "4084     bus stop 30 seconds away parking spot included   \n",
       "965   It's super easy to get around from here!  In t...   \n",
       "8100  Train station is 100m up the road, and buses g...   \n",
       "3882               Bus taxi train tram ferry very close   \n",
       "1010  Buses to the city centre and Bondi Junction ca...   \n",
       "\n",
       "                                                 access  ...  \\\n",
       "4084          All shared rooms + garden + parking space  ...   \n",
       "965   You'll have access to: - A 55 inch LED Samsung...  ...   \n",
       "8100  Guests can use bathroom amenities provided - s...  ...   \n",
       "3882  Sydney heart Cbd darling harbour Sydney univer...  ...   \n",
       "1010  Guests have access to everything in the apartm...  ...   \n",
       "\n",
       "     review_scores_checkin review_scores_communication review_scores_location  \\\n",
       "4084                  10.0                        10.0                   10.0   \n",
       "965                    9.0                        10.0                   10.0   \n",
       "8100                  10.0                        10.0                   10.0   \n",
       "3882                   NaN                         NaN                    NaN   \n",
       "1010                  10.0                        10.0                   10.0   \n",
       "\n",
       "      review_scores_value instant_bookable          cancellation_policy  \\\n",
       "4084                  9.0                f  strict_14_with_grace_period   \n",
       "965                   9.0                f                     moderate   \n",
       "8100                 10.0                f                     moderate   \n",
       "3882                  NaN                f                     flexible   \n",
       "1010                 10.0                f  strict_14_with_grace_period   \n",
       "\n",
       "     require_guest_profile_picture require_guest_phone_verification  \\\n",
       "4084                             f                                f   \n",
       "965                              f                                f   \n",
       "8100                             f                                f   \n",
       "3882                             f                                f   \n",
       "1010                             f                                f   \n",
       "\n",
       "     calculated_host_listings_count reviews_per_month  \n",
       "4084                              1              0.14  \n",
       "965                               3              0.09  \n",
       "8100                              1              1.71  \n",
       "3882                              1               NaN  \n",
       "1010                              1              0.10  \n",
       "\n",
       "[5 rows x 84 columns]"
      ]
     },
     "execution_count": 38,
     "metadata": {},
     "output_type": "execute_result"
    }
   ],
   "source": [
    "test_set.head()"
   ]
  },
  {
   "cell_type": "code",
   "execution_count": 39,
   "metadata": {
    "colab": {},
    "colab_type": "code",
    "id": "UW7POEbXw5LG"
   },
   "outputs": [],
   "source": [
    "##  Similar to above encoding, here we encode binary 1, 0 for t and f. \n",
    "\n",
    "df[\"host_identity_verified\"] = df[\"host_identity_verified\"].apply(lambda x: 1 if x==\"t\" else 0)\n",
    "df[\"host_is_superhost\"] = df[\"host_is_superhost\"].apply(lambda x: 1 if x==\"t\" else 0)"
   ]
  },
  {
   "cell_type": "code",
   "execution_count": 40,
   "metadata": {
    "colab": {},
    "colab_type": "code",
    "id": "P6GhLgIZw5K-"
   },
   "outputs": [],
   "source": [
    "# We need to convert our categorical columns to numeric, so we use the sklearn's funtion LabelEncoder to do this\n",
    "from sklearn import preprocessing\n",
    "\n",
    "le = preprocessing.LabelEncoder()\n",
    "\n",
    "for col in [\"city\"]:\n",
    "    df[col+\"_code\"] = le.fit_transform(df[col])"
   ]
  },
  {
   "cell_type": "code",
   "execution_count": 41,
   "metadata": {
    "colab": {
     "base_uri": "https://localhost:8080/",
     "height": 305
    },
    "colab_type": "code",
    "executionInfo": {
     "elapsed": 12063,
     "status": "ok",
     "timestamp": 1579745711554,
     "user": {
      "displayName": "Rajeev Ratan",
      "photoUrl": "https://lh3.googleusercontent.com/a-/AAuE7mCGo6aIm0tOcd5EhqWlYb0rime9sBvHS9YMpx0D2w=s64",
      "userId": "08597265227091462140"
     },
     "user_tz": 240
    },
    "id": "KNPv7-zto22G",
    "outputId": "50f1d2b6-5cec-4696-d8fc-a2e9e1fdf3cc"
   },
   "outputs": [
    {
     "data": {
      "text/html": [
       "<div>\n",
       "<style scoped>\n",
       "    .dataframe tbody tr th:only-of-type {\n",
       "        vertical-align: middle;\n",
       "    }\n",
       "\n",
       "    .dataframe tbody tr th {\n",
       "        vertical-align: top;\n",
       "    }\n",
       "\n",
       "    .dataframe thead th {\n",
       "        text-align: right;\n",
       "    }\n",
       "</style>\n",
       "<table border=\"1\" class=\"dataframe\">\n",
       "  <thead>\n",
       "    <tr style=\"text-align: right;\">\n",
       "      <th></th>\n",
       "      <th>id</th>\n",
       "      <th>listing_url</th>\n",
       "      <th>name</th>\n",
       "      <th>summary</th>\n",
       "      <th>space</th>\n",
       "      <th>description</th>\n",
       "      <th>neighborhood_overview</th>\n",
       "      <th>notes</th>\n",
       "      <th>transit</th>\n",
       "      <th>access</th>\n",
       "      <th>...</th>\n",
       "      <th>review_scores_communication</th>\n",
       "      <th>review_scores_location</th>\n",
       "      <th>review_scores_value</th>\n",
       "      <th>instant_bookable</th>\n",
       "      <th>cancellation_policy</th>\n",
       "      <th>require_guest_profile_picture</th>\n",
       "      <th>require_guest_phone_verification</th>\n",
       "      <th>calculated_host_listings_count</th>\n",
       "      <th>reviews_per_month</th>\n",
       "      <th>city_code</th>\n",
       "    </tr>\n",
       "  </thead>\n",
       "  <tbody>\n",
       "    <tr>\n",
       "      <th>0</th>\n",
       "      <td>15253</td>\n",
       "      <td>https://www.airbnb.com/rooms/15253</td>\n",
       "      <td>Stunning Penthouse Apartment In Heart Of The City</td>\n",
       "      <td>Penthouse living in a great central location: ...</td>\n",
       "      <td>A charming two-level, two-bedroom, two-bathroo...</td>\n",
       "      <td>Penthouse living in a great central location: ...</td>\n",
       "      <td>The location is really central and there is nu...</td>\n",
       "      <td>The apartment is on the top floor with 4 fligh...</td>\n",
       "      <td>If walking is not your thing I am well service...</td>\n",
       "      <td>Guests have own key and access to use faciliti...</td>\n",
       "      <td>...</td>\n",
       "      <td>9.0</td>\n",
       "      <td>9.0</td>\n",
       "      <td>9.0</td>\n",
       "      <td>t</td>\n",
       "      <td>strict_14_with_grace_period</td>\n",
       "      <td>f</td>\n",
       "      <td>f</td>\n",
       "      <td>2</td>\n",
       "      <td>3.51</td>\n",
       "      <td>3</td>\n",
       "    </tr>\n",
       "    <tr>\n",
       "      <th>1</th>\n",
       "      <td>45440</td>\n",
       "      <td>https://www.airbnb.com/rooms/45440</td>\n",
       "      <td>Rubys at Bondi Beach! A stone's throw to the b...</td>\n",
       "      <td>A stone's throw to Bondi Beach. Right in among...</td>\n",
       "      <td>Whether you‚Äôre an active morning person, a s...</td>\n",
       "      <td>A stone's throw to Bondi Beach. Right in among...</td>\n",
       "      <td>NaN</td>\n",
       "      <td>NaN</td>\n",
       "      <td>NaN</td>\n",
       "      <td>NaN</td>\n",
       "      <td>...</td>\n",
       "      <td>10.0</td>\n",
       "      <td>10.0</td>\n",
       "      <td>9.0</td>\n",
       "      <td>f</td>\n",
       "      <td>strict_14_with_grace_period</td>\n",
       "      <td>f</td>\n",
       "      <td>f</td>\n",
       "      <td>7</td>\n",
       "      <td>0.94</td>\n",
       "      <td>1</td>\n",
       "    </tr>\n",
       "    <tr>\n",
       "      <th>2</th>\n",
       "      <td>49698</td>\n",
       "      <td>https://www.airbnb.com/rooms/49698</td>\n",
       "      <td>You'll love your stay at Bondi Ocean Views</td>\n",
       "      <td>We welcome you to enjoy top floor ocean views ...</td>\n",
       "      <td>We welcome you to enjoy top floor ocean views ...</td>\n",
       "      <td>We welcome you to enjoy top floor ocean views ...</td>\n",
       "      <td>Welcome yourself to Bondi Beach where you can ...</td>\n",
       "      <td>Timed Street parking only: 2hrs from 8am - 6pm...</td>\n",
       "      <td>5 minute walk to Campbell parade / Bondi Road ...</td>\n",
       "      <td>Guests have access of the entire apartment. Th...</td>\n",
       "      <td>...</td>\n",
       "      <td>10.0</td>\n",
       "      <td>10.0</td>\n",
       "      <td>9.0</td>\n",
       "      <td>f</td>\n",
       "      <td>strict_14_with_grace_period</td>\n",
       "      <td>f</td>\n",
       "      <td>f</td>\n",
       "      <td>57</td>\n",
       "      <td>0.16</td>\n",
       "      <td>0</td>\n",
       "    </tr>\n",
       "    <tr>\n",
       "      <th>3</th>\n",
       "      <td>56842</td>\n",
       "      <td>https://www.airbnb.com/rooms/56842</td>\n",
       "      <td>Beach Breeze 2 BDR + Double balcony+ LOCATION !</td>\n",
       "      <td>Amazing location just 3 minutes walk to the be...</td>\n",
       "      <td>Gorgeous two bedroom apartment with private ba...</td>\n",
       "      <td>Amazing location just 3 minutes walk to the be...</td>\n",
       "      <td>NaN</td>\n",
       "      <td>There is street parking only ( free and no per...</td>\n",
       "      <td>Local bus stop is 2 minutes walk from apartmen...</td>\n",
       "      <td>The entire home and private balconies.</td>\n",
       "      <td>...</td>\n",
       "      <td>9.0</td>\n",
       "      <td>10.0</td>\n",
       "      <td>8.0</td>\n",
       "      <td>f</td>\n",
       "      <td>strict_14_with_grace_period</td>\n",
       "      <td>f</td>\n",
       "      <td>f</td>\n",
       "      <td>57</td>\n",
       "      <td>0.24</td>\n",
       "      <td>6</td>\n",
       "    </tr>\n",
       "    <tr>\n",
       "      <th>4</th>\n",
       "      <td>57183</td>\n",
       "      <td>https://www.airbnb.com/rooms/57183</td>\n",
       "      <td>BONDI BEACHFRONT CENTRAL LOCATION</td>\n",
       "      <td>This large, light-filled and artistically deco...</td>\n",
       "      <td>BONDI BEACHFRONT BOHEMIAN APARTMENT Why stay a...</td>\n",
       "      <td>This large, light-filled and artistically deco...</td>\n",
       "      <td>The most exciting and entertaining neighborhoo...</td>\n",
       "      <td>Large ceiling fans rather than air conditionin...</td>\n",
       "      <td>Buses and taxis right at the door, so plentifu...</td>\n",
       "      <td>Entire apartment, plenty of  cupboard space. D...</td>\n",
       "      <td>...</td>\n",
       "      <td>10.0</td>\n",
       "      <td>10.0</td>\n",
       "      <td>10.0</td>\n",
       "      <td>f</td>\n",
       "      <td>strict_14_with_grace_period</td>\n",
       "      <td>f</td>\n",
       "      <td>f</td>\n",
       "      <td>1</td>\n",
       "      <td>1.30</td>\n",
       "      <td>1</td>\n",
       "    </tr>\n",
       "  </tbody>\n",
       "</table>\n",
       "<p>5 rows × 85 columns</p>\n",
       "</div>"
      ],
      "text/plain": [
       "      id                         listing_url  \\\n",
       "0  15253  https://www.airbnb.com/rooms/15253   \n",
       "1  45440  https://www.airbnb.com/rooms/45440   \n",
       "2  49698  https://www.airbnb.com/rooms/49698   \n",
       "3  56842  https://www.airbnb.com/rooms/56842   \n",
       "4  57183  https://www.airbnb.com/rooms/57183   \n",
       "\n",
       "                                                name  \\\n",
       "0  Stunning Penthouse Apartment In Heart Of The City   \n",
       "1  Rubys at Bondi Beach! A stone's throw to the b...   \n",
       "2         You'll love your stay at Bondi Ocean Views   \n",
       "3    Beach Breeze 2 BDR + Double balcony+ LOCATION !   \n",
       "4                  BONDI BEACHFRONT CENTRAL LOCATION   \n",
       "\n",
       "                                             summary  \\\n",
       "0  Penthouse living in a great central location: ...   \n",
       "1  A stone's throw to Bondi Beach. Right in among...   \n",
       "2  We welcome you to enjoy top floor ocean views ...   \n",
       "3  Amazing location just 3 minutes walk to the be...   \n",
       "4  This large, light-filled and artistically deco...   \n",
       "\n",
       "                                               space  \\\n",
       "0  A charming two-level, two-bedroom, two-bathroo...   \n",
       "1  Whether you‚Äôre an active morning person, a s...   \n",
       "2  We welcome you to enjoy top floor ocean views ...   \n",
       "3  Gorgeous two bedroom apartment with private ba...   \n",
       "4  BONDI BEACHFRONT BOHEMIAN APARTMENT Why stay a...   \n",
       "\n",
       "                                         description  \\\n",
       "0  Penthouse living in a great central location: ...   \n",
       "1  A stone's throw to Bondi Beach. Right in among...   \n",
       "2  We welcome you to enjoy top floor ocean views ...   \n",
       "3  Amazing location just 3 minutes walk to the be...   \n",
       "4  This large, light-filled and artistically deco...   \n",
       "\n",
       "                               neighborhood_overview  \\\n",
       "0  The location is really central and there is nu...   \n",
       "1                                                NaN   \n",
       "2  Welcome yourself to Bondi Beach where you can ...   \n",
       "3                                                NaN   \n",
       "4  The most exciting and entertaining neighborhoo...   \n",
       "\n",
       "                                               notes  \\\n",
       "0  The apartment is on the top floor with 4 fligh...   \n",
       "1                                                NaN   \n",
       "2  Timed Street parking only: 2hrs from 8am - 6pm...   \n",
       "3  There is street parking only ( free and no per...   \n",
       "4  Large ceiling fans rather than air conditionin...   \n",
       "\n",
       "                                             transit  \\\n",
       "0  If walking is not your thing I am well service...   \n",
       "1                                                NaN   \n",
       "2  5 minute walk to Campbell parade / Bondi Road ...   \n",
       "3  Local bus stop is 2 minutes walk from apartmen...   \n",
       "4  Buses and taxis right at the door, so plentifu...   \n",
       "\n",
       "                                              access  ...  \\\n",
       "0  Guests have own key and access to use faciliti...  ...   \n",
       "1                                                NaN  ...   \n",
       "2  Guests have access of the entire apartment. Th...  ...   \n",
       "3             The entire home and private balconies.  ...   \n",
       "4  Entire apartment, plenty of  cupboard space. D...  ...   \n",
       "\n",
       "  review_scores_communication review_scores_location review_scores_value  \\\n",
       "0                         9.0                    9.0                 9.0   \n",
       "1                        10.0                   10.0                 9.0   \n",
       "2                        10.0                   10.0                 9.0   \n",
       "3                         9.0                   10.0                 8.0   \n",
       "4                        10.0                   10.0                10.0   \n",
       "\n",
       "   instant_bookable          cancellation_policy  \\\n",
       "0                 t  strict_14_with_grace_period   \n",
       "1                 f  strict_14_with_grace_period   \n",
       "2                 f  strict_14_with_grace_period   \n",
       "3                 f  strict_14_with_grace_period   \n",
       "4                 f  strict_14_with_grace_period   \n",
       "\n",
       "  require_guest_profile_picture require_guest_phone_verification  \\\n",
       "0                             f                                f   \n",
       "1                             f                                f   \n",
       "2                             f                                f   \n",
       "3                             f                                f   \n",
       "4                             f                                f   \n",
       "\n",
       "  calculated_host_listings_count reviews_per_month city_code  \n",
       "0                              2              3.51         3  \n",
       "1                              7              0.94         1  \n",
       "2                             57              0.16         0  \n",
       "3                             57              0.24         6  \n",
       "4                              1              1.30         1  \n",
       "\n",
       "[5 rows x 85 columns]"
      ]
     },
     "execution_count": 41,
     "metadata": {},
     "output_type": "execute_result"
    }
   ],
   "source": [
    "df.head()"
   ]
  },
  {
   "cell_type": "markdown",
   "metadata": {
    "colab_type": "text",
    "id": "NC_m5jM_qCbu"
   },
   "source": [
    "### Stratified Shuffle Split cross-validator\n",
    "\n",
    "Provides train/test indices to split data in train/test sets.\n",
    "\n",
    "This cross-validation object is a merge of StratifiedKFold and ShuffleSplit, which returns stratified randomized folds. The folds are made by preserving the percentage of samples for each class."
   ]
  },
  {
   "cell_type": "code",
   "execution_count": 42,
   "metadata": {
    "colab": {},
    "colab_type": "code",
    "id": "mwIMKxThw5LM"
   },
   "outputs": [],
   "source": [
    "from sklearn.model_selection import StratifiedShuffleSplit\n",
    "\n",
    "## we will stratify according to city\n",
    "\n",
    "split = StratifiedShuffleSplit(n_splits=1, test_size=0.2, random_state=42)\n",
    "for train_index, test_index in split.split(df, df[\"city_code\"]):\n",
    "    del df[\"city_code\"]\n",
    "    strat_train_set = df.loc[train_index]\n",
    "    strat_test_set = df.loc[test_index]"
   ]
  },
  {
   "cell_type": "code",
   "execution_count": 43,
   "metadata": {
    "colab": {
     "base_uri": "https://localhost:8080/",
     "height": 230
    },
    "colab_type": "code",
    "executionInfo": {
     "elapsed": 10501,
     "status": "ok",
     "timestamp": 1579745711556,
     "user": {
      "displayName": "Rajeev Ratan",
      "photoUrl": "https://lh3.googleusercontent.com/a-/AAuE7mCGo6aIm0tOcd5EhqWlYb0rime9sBvHS9YMpx0D2w=s64",
      "userId": "08597265227091462140"
     },
     "user_tz": 240
    },
    "id": "fXrt7-6zw5LV",
    "outputId": "985f09f2-4428-4556-da49-2cc34e0d226e"
   },
   "outputs": [
    {
     "data": {
      "text/plain": [
       "city\n",
       "Bondi           198.745223\n",
       "Bondi Beach     199.879880\n",
       "Coogee          196.574627\n",
       "Darlinghurst    184.700000\n",
       "Manly           223.447368\n",
       "Newtown         117.938776\n",
       "North Bondi     248.857143\n",
       "Randwick        178.072993\n",
       "Surry Hills     175.732240\n",
       "Sydney          193.962687\n",
       "Name: price, dtype: float64"
      ]
     },
     "execution_count": 43,
     "metadata": {},
     "output_type": "execute_result"
    }
   ],
   "source": [
    "## Average price per area\n",
    "strat_test_set.groupby(\"city\")[\"price\"].mean()"
   ]
  },
  {
   "cell_type": "markdown",
   "metadata": {
    "colab_type": "text",
    "id": "a-Rbqr4Lw5Ll"
   },
   "source": [
    "# Further Data Exploration and Visualization"
   ]
  },
  {
   "cell_type": "code",
   "execution_count": 44,
   "metadata": {
    "colab": {},
    "colab_type": "code",
    "id": "e-PE8Bmuw5Ln"
   },
   "outputs": [],
   "source": [
    "traval = strat_train_set.copy() ##traval - training and validation set"
   ]
  },
  {
   "cell_type": "code",
   "execution_count": 46,
   "metadata": {
    "colab": {
     "base_uri": "https://localhost:8080/",
     "height": 315
    },
    "colab_type": "code",
    "executionInfo": {
     "elapsed": 9225,
     "status": "ok",
     "timestamp": 1579745712097,
     "user": {
      "displayName": "Rajeev Ratan",
      "photoUrl": "https://lh3.googleusercontent.com/a-/AAuE7mCGo6aIm0tOcd5EhqWlYb0rime9sBvHS9YMpx0D2w=s64",
      "userId": "08597265227091462140"
     },
     "user_tz": 240
    },
    "id": "_SN0cbvQw5L5",
    "outputId": "5708bce0-ffff-4aee-e8b5-8a8d84235669"
   },
   "outputs": [
    {
     "data": {
      "text/plain": [
       "<matplotlib.axes._subplots.AxesSubplot at 0x124950ed0>"
      ]
     },
     "execution_count": 46,
     "metadata": {},
     "output_type": "execute_result"
    },
    {
     "data": {
      "image/png": "[encoded data removed]",
      "text/plain": [
       "<Figure size 432x288 with 1 Axes>"
      ]
     },
     "metadata": {
      "needs_background": "light"
     },
     "output_type": "display_data"
    }
   ],
   "source": [
    "# Let's plot our cordinates which is a way of visualizing a map of the locations\n",
    "\n",
    "traval.plot(kind=\"scatter\", x=\"longitude\", y=\"latitude\")\n"
   ]
  },
  {
   "cell_type": "code",
   "execution_count": 47,
   "metadata": {
    "colab": {
     "base_uri": "https://localhost:8080/",
     "height": 315
    },
    "colab_type": "code",
    "executionInfo": {
     "elapsed": 9770,
     "status": "ok",
     "timestamp": 1579745713347,
     "user": {
      "displayName": "Rajeev Ratan",
      "photoUrl": "https://lh3.googleusercontent.com/a-/AAuE7mCGo6aIm0tOcd5EhqWlYb0rime9sBvHS9YMpx0D2w=s64",
      "userId": "08597265227091462140"
     },
     "user_tz": 240
    },
    "id": "1CPPYjTqw5MJ",
    "outputId": "89bfebb6-c735-47cf-c83b-085658a57a82"
   },
   "outputs": [
    {
     "data": {
      "text/plain": [
       "<matplotlib.axes._subplots.AxesSubplot at 0x124945bd0>"
      ]
     },
     "execution_count": 47,
     "metadata": {},
     "output_type": "execute_result"
    },
    {
     "data": {
      "image/png": "[encoded data removed]",
      "text/plain": [
       "<Figure size 432x288 with 1 Axes>"
      ]
     },
     "metadata": {
      "needs_background": "light"
     },
     "output_type": "display_data"
    }
   ],
   "source": [
    "traval.plot(kind=\"scatter\", x=\"longitude\", y=\"latitude\", alpha=0.1)"
   ]
  },
  {
   "cell_type": "code",
   "execution_count": 48,
   "metadata": {
    "colab": {},
    "colab_type": "code",
    "id": "Hd4OBhY2w5Mc"
   },
   "outputs": [],
   "source": [
    "# Let's narrow our visual map and remove locations outside the main area\n",
    "traval_co = traval[(traval[\"longitude\"]>151.16)&(traval[\"latitude\"]<-33.75)].reset_index(drop=True)\n",
    "\n",
    "traval_co = traval_co[traval_co[\"latitude\"]>-33.95].reset_index(drop=True)\n",
    "\n",
    "# And only look at locations under $600\n",
    "traval_co = traval_co[traval_co[\"price\"]<600].reset_index(drop=True)"
   ]
  },
  {
   "cell_type": "markdown",
   "metadata": {
    "colab_type": "text",
    "id": "HGXo15xYq-2O"
   },
   "source": [
    "The argument `sharex=False` fixes a display bug (the x-axis values and legend were not displayed). This is a temporary fix (see: https://github.com/pandas-dev/pandas/issues/10611). Thanks to Wilmer Arellano for pointing it out."
   ]
  },
  {
   "cell_type": "code",
   "execution_count": 49,
   "metadata": {
    "colab": {
     "base_uri": "https://localhost:8080/",
     "height": 531
    },
    "colab_type": "code",
    "executionInfo": {
     "elapsed": 10486,
     "status": "ok",
     "timestamp": 1579745715812,
     "user": {
      "displayName": "Rajeev Ratan",
      "photoUrl": "https://lh3.googleusercontent.com/a-/AAuE7mCGo6aIm0tOcd5EhqWlYb0rime9sBvHS9YMpx0D2w=s64",
      "userId": "08597265227091462140"
     },
     "user_tz": 240
    },
    "id": "E2r10b4ew5Mk",
    "outputId": "479bd307-71f4-488b-ef0b-9cd3e0716165"
   },
   "outputs": [
    {
     "data": {
      "text/plain": [
       "<matplotlib.legend.Legend at 0x129ab1dd0>"
      ]
     },
     "execution_count": 49,
     "metadata": {},
     "output_type": "execute_result"
    },
    {
     "data": {
      "image/png": "[encoded data removed]",
      "text/plain": [
       "<Figure size 720x504 with 2 Axes>"
      ]
     },
     "metadata": {
      "needs_background": "light"
     },
     "output_type": "display_data"
    }
   ],
   "source": [
    "traval_co.plot(kind=\"scatter\", x=\"longitude\", y=\"latitude\", alpha=0.5,\n",
    "    s=traval_co[\"number_of_reviews\"]/2, label=\"Reviews\", figsize=(10,7),\n",
    "    c=\"price\", cmap=plt.get_cmap(\"jet\"), colorbar=True,\n",
    "    sharex=False)\n",
    "plt.legend()"
   ]
  },
  {
   "cell_type": "code",
   "execution_count": 50,
   "metadata": {
    "colab": {
     "base_uri": "https://localhost:8080/",
     "height": 35
    },
    "colab_type": "code",
    "executionInfo": {
     "elapsed": 9909,
     "status": "ok",
     "timestamp": 1579745715815,
     "user": {
      "displayName": "Rajeev Ratan",
      "photoUrl": "https://lh3.googleusercontent.com/a-/AAuE7mCGo6aIm0tOcd5EhqWlYb0rime9sBvHS9YMpx0D2w=s64",
      "userId": "08597265227091462140"
     },
     "user_tz": 240
    },
    "id": "BDkwytJqwSW2",
    "outputId": "1a73186c-1d65-4f2a-ea94-f570a6f1e5a6"
   },
   "outputs": [
    {
     "data": {
      "text/plain": [
       "(6230, 84)"
      ]
     },
     "execution_count": 50,
     "metadata": {},
     "output_type": "execute_result"
    }
   ],
   "source": [
    "traval_co.shape"
   ]
  },
  {
   "cell_type": "code",
   "execution_count": 51,
   "metadata": {
    "colab": {
     "base_uri": "https://localhost:8080/",
     "height": 647
    },
    "colab_type": "code",
    "executionInfo": {
     "elapsed": 9829,
     "status": "ok",
     "timestamp": 1579745716372,
     "user": {
      "displayName": "Rajeev Ratan",
      "photoUrl": "https://lh3.googleusercontent.com/a-/AAuE7mCGo6aIm0tOcd5EhqWlYb0rime9sBvHS9YMpx0D2w=s64",
      "userId": "08597265227091462140"
     },
     "user_tz": 240
    },
    "id": "wpYvVA5Sw5Mt",
    "outputId": "dfb1e06e-5a9a-4747-ae06-9d1502a768dc"
   },
   "outputs": [
    {
     "data": {
      "text/plain": [
       "Text(0.5, 1, 'Heatmap of Correlation Matrix')"
      ]
     },
     "execution_count": 51,
     "metadata": {},
     "output_type": "execute_result"
    },
    {
     "data": {
      "image/png": "[encoded data removed]",
      "text/plain": [
       "<Figure size 720x720 with 2 Axes>"
      ]
     },
     "metadata": {
      "needs_background": "light"
     },
     "output_type": "display_data"
    }
   ],
   "source": [
    "# Now let's explore our correlation matrix\n",
    "\n",
    "corr_matrix = traval.corr()\n",
    "\n",
    "# Heatmap\n",
    "plt.figure(figsize = (10,10))\n",
    "cmap = sns.diverging_palette(220,10,as_cmap = True)\n",
    "\n",
    "#Deep dive into diverging_pattern\n",
    "sns.heatmap(corr_matrix, xticklabels=corr_matrix.columns.values,\n",
    "           yticklabels=corr_matrix.columns.values, cmap=cmap, vmax=1, center=0, square=True, linewidths=.5, cbar_kws={\"shrink\": .82})\n",
    "plt.title('Heatmap of Correlation Matrix')"
   ]
  },
  {
   "cell_type": "code",
   "execution_count": 52,
   "metadata": {
    "colab": {
     "base_uri": "https://localhost:8080/",
     "height": 301
    },
    "colab_type": "code",
    "executionInfo": {
     "elapsed": 9139,
     "status": "ok",
     "timestamp": 1579745716373,
     "user": {
      "displayName": "Rajeev Ratan",
      "photoUrl": "https://lh3.googleusercontent.com/a-/AAuE7mCGo6aIm0tOcd5EhqWlYb0rime9sBvHS9YMpx0D2w=s64",
      "userId": "08597265227091462140"
     },
     "user_tz": 240
    },
    "id": "HHtMTAziw5My",
    "outputId": "f567424d-139f-40e9-b879-bfbea5fea79b"
   },
   "outputs": [
    {
     "data": {
      "text/plain": [
       "price                             1.000000\n",
       "accommodates                      0.674368\n",
       "bedrooms                          0.668963\n",
       "beds                              0.582378\n",
       "bathrooms                         0.553773\n",
       "cleaning_fee                      0.529834\n",
       "security_deposit                  0.469423\n",
       "square_feet                       0.367262\n",
       "guests_included                   0.214009\n",
       "longitude                         0.157902\n",
       "availability_365                  0.148263\n",
       "calculated_host_listings_count    0.144556\n",
       "latitude                          0.131160\n",
       "host_total_listings_count         0.126400\n",
       "host_listings_count               0.126400\n",
       "availability_30                   0.093521\n",
       "availability_60                   0.088298\n",
       "availability_90                   0.087344\n",
       "review_scores_rating              0.067066\n",
       "review_scores_cleanliness         0.059491\n",
       "host_identity_verified            0.048821\n",
       "review_scores_accuracy            0.045240\n",
       "review_scores_checkin             0.033238\n",
       "review_scores_communication       0.032508\n",
       "maximum_nights                    0.028885\n",
       "minimum_nights                    0.022103\n",
       "review_scores_location            0.018098\n",
       "host_is_superhost                -0.016695\n",
       "host_id                          -0.033768\n",
       "review_scores_value              -0.034553\n",
       "id                               -0.038754\n",
       "reviews_per_month                -0.062339\n",
       "number_of_reviews                -0.064011\n",
       "neighbourhood_group_cleansed           NaN\n",
       "Name: price, dtype: float64"
      ]
     },
     "execution_count": 52,
     "metadata": {},
     "output_type": "execute_result"
    }
   ],
   "source": [
    "corr_matrix[\"price\"].sort_values(ascending=False)"
   ]
  },
  {
   "cell_type": "code",
   "execution_count": 53,
   "metadata": {
    "colab": {
     "base_uri": "https://localhost:8080/",
     "height": 603
    },
    "colab_type": "code",
    "executionInfo": {
     "elapsed": 16233,
     "status": "ok",
     "timestamp": 1579745724228,
     "user": {
      "displayName": "Rajeev Ratan",
      "photoUrl": "https://lh3.googleusercontent.com/a-/AAuE7mCGo6aIm0tOcd5EhqWlYb0rime9sBvHS9YMpx0D2w=s64",
      "userId": "08597265227091462140"
     },
     "user_tz": 240
    },
    "id": "v3Po_K3Lw5M7",
    "outputId": "6317a62f-beb7-4b60-f9d1-8ff586aa566f"
   },
   "outputs": [
    {
     "data": {
      "text/plain": [
       "array([[<matplotlib.axes._subplots.AxesSubplot object at 0x126be6210>,\n",
       "        <matplotlib.axes._subplots.AxesSubplot object at 0x124672c10>,\n",
       "        <matplotlib.axes._subplots.AxesSubplot object at 0x11b9e6a90>,\n",
       "        <matplotlib.axes._subplots.AxesSubplot object at 0x1252dee10>,\n",
       "        <matplotlib.axes._subplots.AxesSubplot object at 0x1252b5ad0>],\n",
       "       [<matplotlib.axes._subplots.AxesSubplot object at 0x124aa8e50>,\n",
       "        <matplotlib.axes._subplots.AxesSubplot object at 0x12003bb10>,\n",
       "        <matplotlib.axes._subplots.AxesSubplot object at 0x125a1b350>,\n",
       "        <matplotlib.axes._subplots.AxesSubplot object at 0x125a1be90>,\n",
       "        <matplotlib.axes._subplots.AxesSubplot object at 0x12593b850>],\n",
       "       [<matplotlib.axes._subplots.AxesSubplot object at 0x124921b90>,\n",
       "        <matplotlib.axes._subplots.AxesSubplot object at 0x125629f10>,\n",
       "        <matplotlib.axes._subplots.AxesSubplot object at 0x124401bd0>,\n",
       "        <matplotlib.axes._subplots.AxesSubplot object at 0x1247f0f50>,\n",
       "        <matplotlib.axes._subplots.AxesSubplot object at 0x11a4c2c10>],\n",
       "       [<matplotlib.axes._subplots.AxesSubplot object at 0x125253f90>,\n",
       "        <matplotlib.axes._subplots.AxesSubplot object at 0x11a437c50>,\n",
       "        <matplotlib.axes._subplots.AxesSubplot object at 0x11fffdfd0>,\n",
       "        <matplotlib.axes._subplots.AxesSubplot object at 0x12017dc90>,\n",
       "        <matplotlib.axes._subplots.AxesSubplot object at 0x11ac354d0>],\n",
       "       [<matplotlib.axes._subplots.AxesSubplot object at 0x11ab52cd0>,\n",
       "        <matplotlib.axes._subplots.AxesSubplot object at 0x11aa2a2d0>,\n",
       "        <matplotlib.axes._subplots.AxesSubplot object at 0x12440ad10>,\n",
       "        <matplotlib.axes._subplots.AxesSubplot object at 0x125323550>,\n",
       "        <matplotlib.axes._subplots.AxesSubplot object at 0x125314210>]],\n",
       "      dtype=object)"
      ]
     },
     "execution_count": 53,
     "metadata": {},
     "output_type": "execute_result"
    },
    {
     "data": {
      "image/png": "[encoded data removed]",
      "text/plain": [
       "<Figure size 864x576 with 25 Axes>"
      ]
     },
     "metadata": {
      "needs_background": "light"
     },
     "output_type": "display_data"
    }
   ],
   "source": [
    "# from pandas.tools.plotting import scatter_matrix # For older versions of Pandas\n",
    "from pandas.plotting import scatter_matrix\n",
    "\n",
    "attributes = [\"price\", \"accommodates\", \"bedrooms\",\n",
    "              \"cleaning_fee\",\"review_scores_rating\"]\n",
    "scatter_matrix(traval[attributes], figsize=(12, 8))\n"
   ]
  },
  {
   "cell_type": "code",
   "execution_count": 43,
   "metadata": {
    "colab": {
     "base_uri": "https://localhost:8080/",
     "height": 315
    },
    "colab_type": "code",
    "executionInfo": {
     "elapsed": 16574,
     "status": "ok",
     "timestamp": 1579745725141,
     "user": {
      "displayName": "Rajeev Ratan",
      "photoUrl": "https://lh3.googleusercontent.com/a-/AAuE7mCGo6aIm0tOcd5EhqWlYb0rime9sBvHS9YMpx0D2w=s64",
      "userId": "08597265227091462140"
     },
     "user_tz": 240
    },
    "id": "YtjGL1F_w5NR",
    "outputId": "084bbb68-4323-4d55-9982-0b1d20a15d5b"
   },
   "outputs": [
    {
     "name": "stdout",
     "output_type": "stream",
     "text": [
      "Saving figure income_vs_house_value_scatterplot\n"
     ]
    },
    {
     "data": {
      "image/png": "[encoded data removed]",
      "text/plain": [
       "<Figure size 432x288 with 1 Axes>"
      ]
     },
     "metadata": {
      "tags": []
     },
     "output_type": "display_data"
    }
   ],
   "source": [
    "traval.plot(kind=\"scatter\", x=\"accommodates\", y=\"price\", alpha=0.1)\n",
    "save_fig(\"income_vs_house_value_scatterplot\")"
   ]
  },
  {
   "cell_type": "code",
   "execution_count": 44,
   "metadata": {
    "colab": {
     "base_uri": "https://localhost:8080/",
     "height": 305
    },
    "colab_type": "code",
    "executionInfo": {
     "elapsed": 15922,
     "status": "ok",
     "timestamp": 1579745725142,
     "user": {
      "displayName": "Rajeev Ratan",
      "photoUrl": "https://lh3.googleusercontent.com/a-/AAuE7mCGo6aIm0tOcd5EhqWlYb0rime9sBvHS9YMpx0D2w=s64",
      "userId": "08597265227091462140"
     },
     "user_tz": 240
    },
    "id": "sOCF-KD_w5Nh",
    "outputId": "a6c6e08d-910d-4b03-fb19-5a366fba9d61"
   },
   "outputs": [
    {
     "data": {
      "text/html": [
       "<div>\n",
       "<style scoped>\n",
       "    .dataframe tbody tr th:only-of-type {\n",
       "        vertical-align: middle;\n",
       "    }\n",
       "\n",
       "    .dataframe tbody tr th {\n",
       "        vertical-align: top;\n",
       "    }\n",
       "\n",
       "    .dataframe thead th {\n",
       "        text-align: right;\n",
       "    }\n",
       "</style>\n",
       "<table border=\"1\" class=\"dataframe\">\n",
       "  <thead>\n",
       "    <tr style=\"text-align: right;\">\n",
       "      <th></th>\n",
       "      <th>price</th>\n",
       "      <th>city</th>\n",
       "      <th>longitude</th>\n",
       "      <th>latitude</th>\n",
       "      <th>review_scores_rating</th>\n",
       "      <th>number_of_reviews</th>\n",
       "      <th>minimum_nights</th>\n",
       "      <th>security_deposit</th>\n",
       "      <th>cleaning_fee</th>\n",
       "      <th>accommodates</th>\n",
       "      <th>bathrooms</th>\n",
       "      <th>bedrooms</th>\n",
       "      <th>beds</th>\n",
       "      <th>property_type</th>\n",
       "      <th>room_type</th>\n",
       "      <th>availability_365</th>\n",
       "      <th>host_identity_verified</th>\n",
       "      <th>host_is_superhost</th>\n",
       "      <th>host_since</th>\n",
       "      <th>cancellation_policy</th>\n",
       "    </tr>\n",
       "  </thead>\n",
       "  <tbody>\n",
       "    <tr>\n",
       "      <th>5484</th>\n",
       "      <td>200.0</td>\n",
       "      <td>Newtown</td>\n",
       "      <td>151.178552</td>\n",
       "      <td>-33.907150</td>\n",
       "      <td>96.0</td>\n",
       "      <td>61</td>\n",
       "      <td>2</td>\n",
       "      <td>250.0</td>\n",
       "      <td>85.0</td>\n",
       "      <td>4</td>\n",
       "      <td>1.0</td>\n",
       "      <td>2.0</td>\n",
       "      <td>2.0</td>\n",
       "      <td>House</td>\n",
       "      <td>Entire home/apt</td>\n",
       "      <td>127</td>\n",
       "      <td>1</td>\n",
       "      <td>0</td>\n",
       "      <td>2016-01-22</td>\n",
       "      <td>moderate</td>\n",
       "    </tr>\n",
       "    <tr>\n",
       "      <th>1267</th>\n",
       "      <td>183.0</td>\n",
       "      <td>Randwick</td>\n",
       "      <td>151.249030</td>\n",
       "      <td>-33.906190</td>\n",
       "      <td>97.0</td>\n",
       "      <td>6</td>\n",
       "      <td>4</td>\n",
       "      <td>0.0</td>\n",
       "      <td>20.0</td>\n",
       "      <td>2</td>\n",
       "      <td>1.0</td>\n",
       "      <td>1.0</td>\n",
       "      <td>1.0</td>\n",
       "      <td>Apartment</td>\n",
       "      <td>Private room</td>\n",
       "      <td>0</td>\n",
       "      <td>1</td>\n",
       "      <td>0</td>\n",
       "      <td>2014-03-28</td>\n",
       "      <td>moderate</td>\n",
       "    </tr>\n",
       "    <tr>\n",
       "      <th>6658</th>\n",
       "      <td>175.0</td>\n",
       "      <td>Manly</td>\n",
       "      <td>151.288491</td>\n",
       "      <td>-33.802074</td>\n",
       "      <td>100.0</td>\n",
       "      <td>2</td>\n",
       "      <td>2</td>\n",
       "      <td>0.0</td>\n",
       "      <td>40.0</td>\n",
       "      <td>2</td>\n",
       "      <td>1.0</td>\n",
       "      <td>1.0</td>\n",
       "      <td>1.0</td>\n",
       "      <td>Apartment</td>\n",
       "      <td>Entire home/apt</td>\n",
       "      <td>0</td>\n",
       "      <td>1</td>\n",
       "      <td>0</td>\n",
       "      <td>2014-01-09</td>\n",
       "      <td>strict_14_with_grace_period</td>\n",
       "    </tr>\n",
       "    <tr>\n",
       "      <th>2522</th>\n",
       "      <td>85.0</td>\n",
       "      <td>Randwick</td>\n",
       "      <td>151.236423</td>\n",
       "      <td>-33.913614</td>\n",
       "      <td>94.0</td>\n",
       "      <td>20</td>\n",
       "      <td>3</td>\n",
       "      <td>0.0</td>\n",
       "      <td>0.0</td>\n",
       "      <td>2</td>\n",
       "      <td>1.0</td>\n",
       "      <td>1.0</td>\n",
       "      <td>1.0</td>\n",
       "      <td>Apartment</td>\n",
       "      <td>Private room</td>\n",
       "      <td>90</td>\n",
       "      <td>0</td>\n",
       "      <td>0</td>\n",
       "      <td>2015-11-22</td>\n",
       "      <td>flexible</td>\n",
       "    </tr>\n",
       "    <tr>\n",
       "      <th>722</th>\n",
       "      <td>80.0</td>\n",
       "      <td>Coogee</td>\n",
       "      <td>151.259342</td>\n",
       "      <td>-33.918435</td>\n",
       "      <td>92.0</td>\n",
       "      <td>139</td>\n",
       "      <td>30</td>\n",
       "      <td>0.0</td>\n",
       "      <td>0.0</td>\n",
       "      <td>3</td>\n",
       "      <td>1.0</td>\n",
       "      <td>1.0</td>\n",
       "      <td>2.0</td>\n",
       "      <td>Apartment</td>\n",
       "      <td>Private room</td>\n",
       "      <td>0</td>\n",
       "      <td>1</td>\n",
       "      <td>0</td>\n",
       "      <td>2014-01-07</td>\n",
       "      <td>strict_14_with_grace_period</td>\n",
       "    </tr>\n",
       "  </tbody>\n",
       "</table>\n",
       "</div>"
      ],
      "text/plain": [
       "      price      city   longitude   latitude  review_scores_rating  \\\n",
       "5484  200.0   Newtown  151.178552 -33.907150                  96.0   \n",
       "1267  183.0  Randwick  151.249030 -33.906190                  97.0   \n",
       "6658  175.0     Manly  151.288491 -33.802074                 100.0   \n",
       "2522   85.0  Randwick  151.236423 -33.913614                  94.0   \n",
       "722    80.0    Coogee  151.259342 -33.918435                  92.0   \n",
       "\n",
       "      number_of_reviews  minimum_nights  security_deposit  cleaning_fee  \\\n",
       "5484                 61               2             250.0          85.0   \n",
       "1267                  6               4               0.0          20.0   \n",
       "6658                  2               2               0.0          40.0   \n",
       "2522                 20               3               0.0           0.0   \n",
       "722                 139              30               0.0           0.0   \n",
       "\n",
       "      accommodates  bathrooms  bedrooms  beds property_type        room_type  \\\n",
       "5484             4        1.0       2.0   2.0         House  Entire home/apt   \n",
       "1267             2        1.0       1.0   1.0     Apartment     Private room   \n",
       "6658             2        1.0       1.0   1.0     Apartment  Entire home/apt   \n",
       "2522             2        1.0       1.0   1.0     Apartment     Private room   \n",
       "722              3        1.0       1.0   2.0     Apartment     Private room   \n",
       "\n",
       "      availability_365  host_identity_verified  host_is_superhost host_since  \\\n",
       "5484               127                       1                  0 2016-01-22   \n",
       "1267                 0                       1                  0 2014-03-28   \n",
       "6658                 0                       1                  0 2014-01-09   \n",
       "2522                90                       0                  0 2015-11-22   \n",
       "722                  0                       1                  0 2014-01-07   \n",
       "\n",
       "              cancellation_policy  \n",
       "5484                     moderate  \n",
       "1267                     moderate  \n",
       "6658  strict_14_with_grace_period  \n",
       "2522                     flexible  \n",
       "722   strict_14_with_grace_period  "
      ]
     },
     "execution_count": 44,
     "metadata": {
      "tags": []
     },
     "output_type": "execute_result"
    }
   ],
   "source": [
    "traval.head()"
   ]
  },
  {
   "cell_type": "code",
   "execution_count": 0,
   "metadata": {
    "colab": {},
    "colab_type": "code",
    "id": "4oF78gHzw5Nw"
   },
   "outputs": [],
   "source": [
    "#### Now let's create some new features\n",
    "\n",
    "traval[\"bedrooms_per_person\"] = traval[\"bedrooms\"]/traval[\"accommodates\"]\n",
    "traval[\"bathrooms_per_person\"] = traval[\"bathrooms\"]/traval[\"accommodates\"]\n",
    "traval['host_since'] = pd.to_datetime(traval['host_since'])\n",
    "traval['days_on_airbnb'] = (pd.to_datetime('today') - traval['host_since']).dt.days"
   ]
  },
  {
   "cell_type": "code",
   "execution_count": 46,
   "metadata": {
    "colab": {
     "base_uri": "https://localhost:8080/",
     "height": 305
    },
    "colab_type": "code",
    "executionInfo": {
     "elapsed": 14392,
     "status": "ok",
     "timestamp": 1579745725144,
     "user": {
      "displayName": "Rajeev Ratan",
      "photoUrl": "https://lh3.googleusercontent.com/a-/AAuE7mCGo6aIm0tOcd5EhqWlYb0rime9sBvHS9YMpx0D2w=s64",
      "userId": "08597265227091462140"
     },
     "user_tz": 240
    },
    "id": "CNAcLg-csHJV",
    "outputId": "ab62ac3a-b50e-44ba-d1c0-583a9aad32c5"
   },
   "outputs": [
    {
     "data": {
      "text/html": [
       "<div>\n",
       "<style scoped>\n",
       "    .dataframe tbody tr th:only-of-type {\n",
       "        vertical-align: middle;\n",
       "    }\n",
       "\n",
       "    .dataframe tbody tr th {\n",
       "        vertical-align: top;\n",
       "    }\n",
       "\n",
       "    .dataframe thead th {\n",
       "        text-align: right;\n",
       "    }\n",
       "</style>\n",
       "<table border=\"1\" class=\"dataframe\">\n",
       "  <thead>\n",
       "    <tr style=\"text-align: right;\">\n",
       "      <th></th>\n",
       "      <th>price</th>\n",
       "      <th>city</th>\n",
       "      <th>longitude</th>\n",
       "      <th>latitude</th>\n",
       "      <th>review_scores_rating</th>\n",
       "      <th>number_of_reviews</th>\n",
       "      <th>minimum_nights</th>\n",
       "      <th>security_deposit</th>\n",
       "      <th>cleaning_fee</th>\n",
       "      <th>accommodates</th>\n",
       "      <th>bathrooms</th>\n",
       "      <th>bedrooms</th>\n",
       "      <th>beds</th>\n",
       "      <th>property_type</th>\n",
       "      <th>room_type</th>\n",
       "      <th>availability_365</th>\n",
       "      <th>host_identity_verified</th>\n",
       "      <th>host_is_superhost</th>\n",
       "      <th>host_since</th>\n",
       "      <th>cancellation_policy</th>\n",
       "      <th>bedrooms_per_person</th>\n",
       "      <th>bathrooms_per_person</th>\n",
       "      <th>days_on_airbnb</th>\n",
       "    </tr>\n",
       "  </thead>\n",
       "  <tbody>\n",
       "    <tr>\n",
       "      <th>5484</th>\n",
       "      <td>200.0</td>\n",
       "      <td>Newtown</td>\n",
       "      <td>151.178552</td>\n",
       "      <td>-33.907150</td>\n",
       "      <td>96.0</td>\n",
       "      <td>61</td>\n",
       "      <td>2</td>\n",
       "      <td>250.0</td>\n",
       "      <td>85.0</td>\n",
       "      <td>4</td>\n",
       "      <td>1.0</td>\n",
       "      <td>2.0</td>\n",
       "      <td>2.0</td>\n",
       "      <td>House</td>\n",
       "      <td>Entire home/apt</td>\n",
       "      <td>127</td>\n",
       "      <td>1</td>\n",
       "      <td>0</td>\n",
       "      <td>2016-01-22</td>\n",
       "      <td>moderate</td>\n",
       "      <td>0.500000</td>\n",
       "      <td>0.250000</td>\n",
       "      <td>1462.0</td>\n",
       "    </tr>\n",
       "    <tr>\n",
       "      <th>1267</th>\n",
       "      <td>183.0</td>\n",
       "      <td>Randwick</td>\n",
       "      <td>151.249030</td>\n",
       "      <td>-33.906190</td>\n",
       "      <td>97.0</td>\n",
       "      <td>6</td>\n",
       "      <td>4</td>\n",
       "      <td>0.0</td>\n",
       "      <td>20.0</td>\n",
       "      <td>2</td>\n",
       "      <td>1.0</td>\n",
       "      <td>1.0</td>\n",
       "      <td>1.0</td>\n",
       "      <td>Apartment</td>\n",
       "      <td>Private room</td>\n",
       "      <td>0</td>\n",
       "      <td>1</td>\n",
       "      <td>0</td>\n",
       "      <td>2014-03-28</td>\n",
       "      <td>moderate</td>\n",
       "      <td>0.500000</td>\n",
       "      <td>0.500000</td>\n",
       "      <td>2127.0</td>\n",
       "    </tr>\n",
       "    <tr>\n",
       "      <th>6658</th>\n",
       "      <td>175.0</td>\n",
       "      <td>Manly</td>\n",
       "      <td>151.288491</td>\n",
       "      <td>-33.802074</td>\n",
       "      <td>100.0</td>\n",
       "      <td>2</td>\n",
       "      <td>2</td>\n",
       "      <td>0.0</td>\n",
       "      <td>40.0</td>\n",
       "      <td>2</td>\n",
       "      <td>1.0</td>\n",
       "      <td>1.0</td>\n",
       "      <td>1.0</td>\n",
       "      <td>Apartment</td>\n",
       "      <td>Entire home/apt</td>\n",
       "      <td>0</td>\n",
       "      <td>1</td>\n",
       "      <td>0</td>\n",
       "      <td>2014-01-09</td>\n",
       "      <td>strict_14_with_grace_period</td>\n",
       "      <td>0.500000</td>\n",
       "      <td>0.500000</td>\n",
       "      <td>2205.0</td>\n",
       "    </tr>\n",
       "    <tr>\n",
       "      <th>2522</th>\n",
       "      <td>85.0</td>\n",
       "      <td>Randwick</td>\n",
       "      <td>151.236423</td>\n",
       "      <td>-33.913614</td>\n",
       "      <td>94.0</td>\n",
       "      <td>20</td>\n",
       "      <td>3</td>\n",
       "      <td>0.0</td>\n",
       "      <td>0.0</td>\n",
       "      <td>2</td>\n",
       "      <td>1.0</td>\n",
       "      <td>1.0</td>\n",
       "      <td>1.0</td>\n",
       "      <td>Apartment</td>\n",
       "      <td>Private room</td>\n",
       "      <td>90</td>\n",
       "      <td>0</td>\n",
       "      <td>0</td>\n",
       "      <td>2015-11-22</td>\n",
       "      <td>flexible</td>\n",
       "      <td>0.500000</td>\n",
       "      <td>0.500000</td>\n",
       "      <td>1523.0</td>\n",
       "    </tr>\n",
       "    <tr>\n",
       "      <th>722</th>\n",
       "      <td>80.0</td>\n",
       "      <td>Coogee</td>\n",
       "      <td>151.259342</td>\n",
       "      <td>-33.918435</td>\n",
       "      <td>92.0</td>\n",
       "      <td>139</td>\n",
       "      <td>30</td>\n",
       "      <td>0.0</td>\n",
       "      <td>0.0</td>\n",
       "      <td>3</td>\n",
       "      <td>1.0</td>\n",
       "      <td>1.0</td>\n",
       "      <td>2.0</td>\n",
       "      <td>Apartment</td>\n",
       "      <td>Private room</td>\n",
       "      <td>0</td>\n",
       "      <td>1</td>\n",
       "      <td>0</td>\n",
       "      <td>2014-01-07</td>\n",
       "      <td>strict_14_with_grace_period</td>\n",
       "      <td>0.333333</td>\n",
       "      <td>0.333333</td>\n",
       "      <td>2207.0</td>\n",
       "    </tr>\n",
       "  </tbody>\n",
       "</table>\n",
       "</div>"
      ],
      "text/plain": [
       "      price      city   longitude   latitude  review_scores_rating  \\\n",
       "5484  200.0   Newtown  151.178552 -33.907150                  96.0   \n",
       "1267  183.0  Randwick  151.249030 -33.906190                  97.0   \n",
       "6658  175.0     Manly  151.288491 -33.802074                 100.0   \n",
       "2522   85.0  Randwick  151.236423 -33.913614                  94.0   \n",
       "722    80.0    Coogee  151.259342 -33.918435                  92.0   \n",
       "\n",
       "      number_of_reviews  minimum_nights  security_deposit  cleaning_fee  \\\n",
       "5484                 61               2             250.0          85.0   \n",
       "1267                  6               4               0.0          20.0   \n",
       "6658                  2               2               0.0          40.0   \n",
       "2522                 20               3               0.0           0.0   \n",
       "722                 139              30               0.0           0.0   \n",
       "\n",
       "      accommodates  bathrooms  bedrooms  beds property_type        room_type  \\\n",
       "5484             4        1.0       2.0   2.0         House  Entire home/apt   \n",
       "1267             2        1.0       1.0   1.0     Apartment     Private room   \n",
       "6658             2        1.0       1.0   1.0     Apartment  Entire home/apt   \n",
       "2522             2        1.0       1.0   1.0     Apartment     Private room   \n",
       "722              3        1.0       1.0   2.0     Apartment     Private room   \n",
       "\n",
       "      availability_365  host_identity_verified  host_is_superhost host_since  \\\n",
       "5484               127                       1                  0 2016-01-22   \n",
       "1267                 0                       1                  0 2014-03-28   \n",
       "6658                 0                       1                  0 2014-01-09   \n",
       "2522                90                       0                  0 2015-11-22   \n",
       "722                  0                       1                  0 2014-01-07   \n",
       "\n",
       "              cancellation_policy  bedrooms_per_person  bathrooms_per_person  \\\n",
       "5484                     moderate             0.500000              0.250000   \n",
       "1267                     moderate             0.500000              0.500000   \n",
       "6658  strict_14_with_grace_period             0.500000              0.500000   \n",
       "2522                     flexible             0.500000              0.500000   \n",
       "722   strict_14_with_grace_period             0.333333              0.333333   \n",
       "\n",
       "      days_on_airbnb  \n",
       "5484          1462.0  \n",
       "1267          2127.0  \n",
       "6658          2205.0  \n",
       "2522          1523.0  \n",
       "722           2207.0  "
      ]
     },
     "execution_count": 46,
     "metadata": {
      "tags": []
     },
     "output_type": "execute_result"
    }
   ],
   "source": [
    "traval.head()"
   ]
  },
  {
   "cell_type": "markdown",
   "metadata": {
    "colab_type": "text",
    "id": "3cXZ9PZWw5N1"
   },
   "source": [
    "# Prepare the data for Machine Learning algorithms"
   ]
  },
  {
   "cell_type": "code",
   "execution_count": 0,
   "metadata": {
    "colab": {},
    "colab_type": "code",
    "id": "7Dl2cqXBw5N4"
   },
   "outputs": [],
   "source": [
    "## Here I will forget about traval and use a more formal way of introducing...\n",
    "## ..preprocessing using pipelines"
   ]
  },
  {
   "cell_type": "code",
   "execution_count": 0,
   "metadata": {
    "colab": {},
    "colab_type": "code",
    "id": "gFyYERMgw5N9"
   },
   "outputs": [],
   "source": [
    "# Firstly we remove our price (or labels from our travel dataset)\n",
    "X  = traval.copy().drop(\"price\", axis=1) # drop labels for training set"
   ]
  },
  {
   "cell_type": "code",
   "execution_count": 49,
   "metadata": {
    "colab": {
     "base_uri": "https://localhost:8080/",
     "height": 323
    },
    "colab_type": "code",
    "executionInfo": {
     "elapsed": 11556,
     "status": "ok",
     "timestamp": 1579745725356,
     "user": {
      "displayName": "Rajeev Ratan",
      "photoUrl": "https://lh3.googleusercontent.com/a-/AAuE7mCGo6aIm0tOcd5EhqWlYb0rime9sBvHS9YMpx0D2w=s64",
      "userId": "08597265227091462140"
     },
     "user_tz": 240
    },
    "id": "7etxdWRJw5OC",
    "outputId": "e9ecd1e5-cce9-48e9-88a1-ae898edec39e"
   },
   "outputs": [
    {
     "name": "stdout",
     "output_type": "stream",
     "text": [
      "(5, 22)\n"
     ]
    },
    {
     "data": {
      "text/html": [
       "<div>\n",
       "<style scoped>\n",
       "    .dataframe tbody tr th:only-of-type {\n",
       "        vertical-align: middle;\n",
       "    }\n",
       "\n",
       "    .dataframe tbody tr th {\n",
       "        vertical-align: top;\n",
       "    }\n",
       "\n",
       "    .dataframe thead th {\n",
       "        text-align: right;\n",
       "    }\n",
       "</style>\n",
       "<table border=\"1\" class=\"dataframe\">\n",
       "  <thead>\n",
       "    <tr style=\"text-align: right;\">\n",
       "      <th></th>\n",
       "      <th>city</th>\n",
       "      <th>longitude</th>\n",
       "      <th>latitude</th>\n",
       "      <th>review_scores_rating</th>\n",
       "      <th>number_of_reviews</th>\n",
       "      <th>minimum_nights</th>\n",
       "      <th>security_deposit</th>\n",
       "      <th>cleaning_fee</th>\n",
       "      <th>accommodates</th>\n",
       "      <th>bathrooms</th>\n",
       "      <th>bedrooms</th>\n",
       "      <th>beds</th>\n",
       "      <th>property_type</th>\n",
       "      <th>room_type</th>\n",
       "      <th>availability_365</th>\n",
       "      <th>host_identity_verified</th>\n",
       "      <th>host_is_superhost</th>\n",
       "      <th>host_since</th>\n",
       "      <th>cancellation_policy</th>\n",
       "      <th>bedrooms_per_person</th>\n",
       "      <th>bathrooms_per_person</th>\n",
       "      <th>days_on_airbnb</th>\n",
       "    </tr>\n",
       "  </thead>\n",
       "  <tbody>\n",
       "    <tr>\n",
       "      <th>5594</th>\n",
       "      <td>Randwick</td>\n",
       "      <td>151.238806</td>\n",
       "      <td>-33.913834</td>\n",
       "      <td>NaN</td>\n",
       "      <td>0</td>\n",
       "      <td>2</td>\n",
       "      <td>800.0</td>\n",
       "      <td>80.0</td>\n",
       "      <td>6</td>\n",
       "      <td>1.0</td>\n",
       "      <td>3.0</td>\n",
       "      <td>3.0</td>\n",
       "      <td>House</td>\n",
       "      <td>Entire home/apt</td>\n",
       "      <td>0</td>\n",
       "      <td>0</td>\n",
       "      <td>0</td>\n",
       "      <td>2013-11-27</td>\n",
       "      <td>moderate</td>\n",
       "      <td>0.500000</td>\n",
       "      <td>0.166667</td>\n",
       "      <td>2248.0</td>\n",
       "    </tr>\n",
       "    <tr>\n",
       "      <th>5439</th>\n",
       "      <td>Newtown</td>\n",
       "      <td>151.184469</td>\n",
       "      <td>-33.894582</td>\n",
       "      <td>NaN</td>\n",
       "      <td>0</td>\n",
       "      <td>3</td>\n",
       "      <td>5000.0</td>\n",
       "      <td>100.0</td>\n",
       "      <td>11</td>\n",
       "      <td>2.0</td>\n",
       "      <td>3.0</td>\n",
       "      <td>4.0</td>\n",
       "      <td>Apartment</td>\n",
       "      <td>Entire home/apt</td>\n",
       "      <td>0</td>\n",
       "      <td>1</td>\n",
       "      <td>0</td>\n",
       "      <td>2014-07-16</td>\n",
       "      <td>strict_14_with_grace_period</td>\n",
       "      <td>0.272727</td>\n",
       "      <td>0.181818</td>\n",
       "      <td>2017.0</td>\n",
       "    </tr>\n",
       "    <tr>\n",
       "      <th>3847</th>\n",
       "      <td>Bondi Beach</td>\n",
       "      <td>151.273077</td>\n",
       "      <td>-33.895142</td>\n",
       "      <td>NaN</td>\n",
       "      <td>0</td>\n",
       "      <td>7</td>\n",
       "      <td>271.0</td>\n",
       "      <td>27.0</td>\n",
       "      <td>2</td>\n",
       "      <td>1.0</td>\n",
       "      <td>1.0</td>\n",
       "      <td>1.0</td>\n",
       "      <td>Apartment</td>\n",
       "      <td>Private room</td>\n",
       "      <td>0</td>\n",
       "      <td>0</td>\n",
       "      <td>0</td>\n",
       "      <td>2015-12-07</td>\n",
       "      <td>strict_14_with_grace_period</td>\n",
       "      <td>0.500000</td>\n",
       "      <td>0.500000</td>\n",
       "      <td>1508.0</td>\n",
       "    </tr>\n",
       "    <tr>\n",
       "      <th>1312</th>\n",
       "      <td>Randwick</td>\n",
       "      <td>151.245793</td>\n",
       "      <td>-33.920622</td>\n",
       "      <td>NaN</td>\n",
       "      <td>0</td>\n",
       "      <td>3</td>\n",
       "      <td>0.0</td>\n",
       "      <td>80.0</td>\n",
       "      <td>3</td>\n",
       "      <td>1.0</td>\n",
       "      <td>2.0</td>\n",
       "      <td>2.0</td>\n",
       "      <td>Apartment</td>\n",
       "      <td>Entire home/apt</td>\n",
       "      <td>0</td>\n",
       "      <td>0</td>\n",
       "      <td>0</td>\n",
       "      <td>2015-10-02</td>\n",
       "      <td>strict_14_with_grace_period</td>\n",
       "      <td>0.666667</td>\n",
       "      <td>0.333333</td>\n",
       "      <td>1574.0</td>\n",
       "    </tr>\n",
       "    <tr>\n",
       "      <th>6194</th>\n",
       "      <td>Bondi Beach</td>\n",
       "      <td>151.273411</td>\n",
       "      <td>-33.888113</td>\n",
       "      <td>NaN</td>\n",
       "      <td>0</td>\n",
       "      <td>10</td>\n",
       "      <td>0.0</td>\n",
       "      <td>0.0</td>\n",
       "      <td>2</td>\n",
       "      <td>1.0</td>\n",
       "      <td>1.0</td>\n",
       "      <td>1.0</td>\n",
       "      <td>Apartment</td>\n",
       "      <td>Private room</td>\n",
       "      <td>0</td>\n",
       "      <td>1</td>\n",
       "      <td>0</td>\n",
       "      <td>2015-08-14</td>\n",
       "      <td>moderate</td>\n",
       "      <td>0.500000</td>\n",
       "      <td>0.500000</td>\n",
       "      <td>1623.0</td>\n",
       "    </tr>\n",
       "  </tbody>\n",
       "</table>\n",
       "</div>"
      ],
      "text/plain": [
       "             city   longitude   latitude  review_scores_rating  \\\n",
       "5594     Randwick  151.238806 -33.913834                   NaN   \n",
       "5439      Newtown  151.184469 -33.894582                   NaN   \n",
       "3847  Bondi Beach  151.273077 -33.895142                   NaN   \n",
       "1312     Randwick  151.245793 -33.920622                   NaN   \n",
       "6194  Bondi Beach  151.273411 -33.888113                   NaN   \n",
       "\n",
       "      number_of_reviews  minimum_nights  security_deposit  cleaning_fee  \\\n",
       "5594                  0               2             800.0          80.0   \n",
       "5439                  0               3            5000.0         100.0   \n",
       "3847                  0               7             271.0          27.0   \n",
       "1312                  0               3               0.0          80.0   \n",
       "6194                  0              10               0.0           0.0   \n",
       "\n",
       "      accommodates  bathrooms  bedrooms  beds property_type        room_type  \\\n",
       "5594             6        1.0       3.0   3.0         House  Entire home/apt   \n",
       "5439            11        2.0       3.0   4.0     Apartment  Entire home/apt   \n",
       "3847             2        1.0       1.0   1.0     Apartment     Private room   \n",
       "1312             3        1.0       2.0   2.0     Apartment  Entire home/apt   \n",
       "6194             2        1.0       1.0   1.0     Apartment     Private room   \n",
       "\n",
       "      availability_365  host_identity_verified  host_is_superhost host_since  \\\n",
       "5594                 0                       0                  0 2013-11-27   \n",
       "5439                 0                       1                  0 2014-07-16   \n",
       "3847                 0                       0                  0 2015-12-07   \n",
       "1312                 0                       0                  0 2015-10-02   \n",
       "6194                 0                       1                  0 2015-08-14   \n",
       "\n",
       "              cancellation_policy  bedrooms_per_person  bathrooms_per_person  \\\n",
       "5594                     moderate             0.500000              0.166667   \n",
       "5439  strict_14_with_grace_period             0.272727              0.181818   \n",
       "3847  strict_14_with_grace_period             0.500000              0.500000   \n",
       "1312  strict_14_with_grace_period             0.666667              0.333333   \n",
       "6194                     moderate             0.500000              0.500000   \n",
       "\n",
       "      days_on_airbnb  \n",
       "5594          2248.0  \n",
       "5439          2017.0  \n",
       "3847          1508.0  \n",
       "1312          1574.0  \n",
       "6194          1623.0  "
      ]
     },
     "execution_count": 49,
     "metadata": {
      "tags": []
     },
     "output_type": "execute_result"
    }
   ],
   "source": [
    "# Show the rows of data with missing values\n",
    "\n",
    "sample_incomplete_rows = X[X.isnull().any(axis=1)].head()\n",
    "print(sample_incomplete_rows.shape)\n",
    "sample_incomplete_rows"
   ]
  },
  {
   "cell_type": "code",
   "execution_count": 50,
   "metadata": {
    "colab": {
     "base_uri": "https://localhost:8080/",
     "height": 68
    },
    "colab_type": "code",
    "executionInfo": {
     "elapsed": 10952,
     "status": "ok",
     "timestamp": 1579745725357,
     "user": {
      "displayName": "Rajeev Ratan",
      "photoUrl": "https://lh3.googleusercontent.com/a-/AAuE7mCGo6aIm0tOcd5EhqWlYb0rime9sBvHS9YMpx0D2w=s64",
      "userId": "08597265227091462140"
     },
     "user_tz": 240
    },
    "id": "GtCPLD4Ew5OI",
    "outputId": "a599eb12-f8a6-430f-cd54-8f85d47416ab"
   },
   "outputs": [
    {
     "data": {
      "text/html": [
       "<div>\n",
       "<style scoped>\n",
       "    .dataframe tbody tr th:only-of-type {\n",
       "        vertical-align: middle;\n",
       "    }\n",
       "\n",
       "    .dataframe tbody tr th {\n",
       "        vertical-align: top;\n",
       "    }\n",
       "\n",
       "    .dataframe thead th {\n",
       "        text-align: right;\n",
       "    }\n",
       "</style>\n",
       "<table border=\"1\" class=\"dataframe\">\n",
       "  <thead>\n",
       "    <tr style=\"text-align: right;\">\n",
       "      <th></th>\n",
       "      <th>city</th>\n",
       "      <th>longitude</th>\n",
       "      <th>latitude</th>\n",
       "      <th>review_scores_rating</th>\n",
       "      <th>number_of_reviews</th>\n",
       "      <th>minimum_nights</th>\n",
       "      <th>security_deposit</th>\n",
       "      <th>cleaning_fee</th>\n",
       "      <th>accommodates</th>\n",
       "      <th>bathrooms</th>\n",
       "      <th>bedrooms</th>\n",
       "      <th>beds</th>\n",
       "      <th>property_type</th>\n",
       "      <th>room_type</th>\n",
       "      <th>availability_365</th>\n",
       "      <th>host_identity_verified</th>\n",
       "      <th>host_is_superhost</th>\n",
       "      <th>host_since</th>\n",
       "      <th>cancellation_policy</th>\n",
       "      <th>bedrooms_per_person</th>\n",
       "      <th>bathrooms_per_person</th>\n",
       "      <th>days_on_airbnb</th>\n",
       "    </tr>\n",
       "  </thead>\n",
       "  <tbody>\n",
       "  </tbody>\n",
       "</table>\n",
       "</div>"
      ],
      "text/plain": [
       "Empty DataFrame\n",
       "Columns: [city, longitude, latitude, review_scores_rating, number_of_reviews, minimum_nights, security_deposit, cleaning_fee, accommodates, bathrooms, bedrooms, beds, property_type, room_type, availability_365, host_identity_verified, host_is_superhost, host_since, cancellation_policy, bedrooms_per_person, bathrooms_per_person, days_on_airbnb]\n",
       "Index: []"
      ]
     },
     "execution_count": 50,
     "metadata": {
      "tags": []
     },
     "output_type": "execute_result"
    }
   ],
   "source": [
    "# Rows Remove\n",
    "sample_incomplete_rows.dropna(subset=[\"review_scores_rating\"])    # option 1"
   ]
  },
  {
   "cell_type": "code",
   "execution_count": 51,
   "metadata": {
    "colab": {
     "base_uri": "https://localhost:8080/",
     "height": 305
    },
    "colab_type": "code",
    "executionInfo": {
     "elapsed": 9416,
     "status": "ok",
     "timestamp": 1579745725357,
     "user": {
      "displayName": "Rajeev Ratan",
      "photoUrl": "https://lh3.googleusercontent.com/a-/AAuE7mCGo6aIm0tOcd5EhqWlYb0rime9sBvHS9YMpx0D2w=s64",
      "userId": "08597265227091462140"
     },
     "user_tz": 240
    },
    "id": "ka6RIgWlw5OU",
    "outputId": "125470c2-ca41-41f7-9055-7965e30a9cd7"
   },
   "outputs": [
    {
     "data": {
      "text/html": [
       "<div>\n",
       "<style scoped>\n",
       "    .dataframe tbody tr th:only-of-type {\n",
       "        vertical-align: middle;\n",
       "    }\n",
       "\n",
       "    .dataframe tbody tr th {\n",
       "        vertical-align: top;\n",
       "    }\n",
       "\n",
       "    .dataframe thead th {\n",
       "        text-align: right;\n",
       "    }\n",
       "</style>\n",
       "<table border=\"1\" class=\"dataframe\">\n",
       "  <thead>\n",
       "    <tr style=\"text-align: right;\">\n",
       "      <th></th>\n",
       "      <th>city</th>\n",
       "      <th>longitude</th>\n",
       "      <th>latitude</th>\n",
       "      <th>number_of_reviews</th>\n",
       "      <th>minimum_nights</th>\n",
       "      <th>security_deposit</th>\n",
       "      <th>cleaning_fee</th>\n",
       "      <th>accommodates</th>\n",
       "      <th>bathrooms</th>\n",
       "      <th>bedrooms</th>\n",
       "      <th>beds</th>\n",
       "      <th>property_type</th>\n",
       "      <th>room_type</th>\n",
       "      <th>availability_365</th>\n",
       "      <th>host_identity_verified</th>\n",
       "      <th>host_is_superhost</th>\n",
       "      <th>host_since</th>\n",
       "      <th>cancellation_policy</th>\n",
       "      <th>bedrooms_per_person</th>\n",
       "      <th>bathrooms_per_person</th>\n",
       "      <th>days_on_airbnb</th>\n",
       "    </tr>\n",
       "  </thead>\n",
       "  <tbody>\n",
       "    <tr>\n",
       "      <th>5594</th>\n",
       "      <td>Randwick</td>\n",
       "      <td>151.238806</td>\n",
       "      <td>-33.913834</td>\n",
       "      <td>0</td>\n",
       "      <td>2</td>\n",
       "      <td>800.0</td>\n",
       "      <td>80.0</td>\n",
       "      <td>6</td>\n",
       "      <td>1.0</td>\n",
       "      <td>3.0</td>\n",
       "      <td>3.0</td>\n",
       "      <td>House</td>\n",
       "      <td>Entire home/apt</td>\n",
       "      <td>0</td>\n",
       "      <td>0</td>\n",
       "      <td>0</td>\n",
       "      <td>2013-11-27</td>\n",
       "      <td>moderate</td>\n",
       "      <td>0.500000</td>\n",
       "      <td>0.166667</td>\n",
       "      <td>2248.0</td>\n",
       "    </tr>\n",
       "    <tr>\n",
       "      <th>5439</th>\n",
       "      <td>Newtown</td>\n",
       "      <td>151.184469</td>\n",
       "      <td>-33.894582</td>\n",
       "      <td>0</td>\n",
       "      <td>3</td>\n",
       "      <td>5000.0</td>\n",
       "      <td>100.0</td>\n",
       "      <td>11</td>\n",
       "      <td>2.0</td>\n",
       "      <td>3.0</td>\n",
       "      <td>4.0</td>\n",
       "      <td>Apartment</td>\n",
       "      <td>Entire home/apt</td>\n",
       "      <td>0</td>\n",
       "      <td>1</td>\n",
       "      <td>0</td>\n",
       "      <td>2014-07-16</td>\n",
       "      <td>strict_14_with_grace_period</td>\n",
       "      <td>0.272727</td>\n",
       "      <td>0.181818</td>\n",
       "      <td>2017.0</td>\n",
       "    </tr>\n",
       "    <tr>\n",
       "      <th>3847</th>\n",
       "      <td>Bondi Beach</td>\n",
       "      <td>151.273077</td>\n",
       "      <td>-33.895142</td>\n",
       "      <td>0</td>\n",
       "      <td>7</td>\n",
       "      <td>271.0</td>\n",
       "      <td>27.0</td>\n",
       "      <td>2</td>\n",
       "      <td>1.0</td>\n",
       "      <td>1.0</td>\n",
       "      <td>1.0</td>\n",
       "      <td>Apartment</td>\n",
       "      <td>Private room</td>\n",
       "      <td>0</td>\n",
       "      <td>0</td>\n",
       "      <td>0</td>\n",
       "      <td>2015-12-07</td>\n",
       "      <td>strict_14_with_grace_period</td>\n",
       "      <td>0.500000</td>\n",
       "      <td>0.500000</td>\n",
       "      <td>1508.0</td>\n",
       "    </tr>\n",
       "    <tr>\n",
       "      <th>1312</th>\n",
       "      <td>Randwick</td>\n",
       "      <td>151.245793</td>\n",
       "      <td>-33.920622</td>\n",
       "      <td>0</td>\n",
       "      <td>3</td>\n",
       "      <td>0.0</td>\n",
       "      <td>80.0</td>\n",
       "      <td>3</td>\n",
       "      <td>1.0</td>\n",
       "      <td>2.0</td>\n",
       "      <td>2.0</td>\n",
       "      <td>Apartment</td>\n",
       "      <td>Entire home/apt</td>\n",
       "      <td>0</td>\n",
       "      <td>0</td>\n",
       "      <td>0</td>\n",
       "      <td>2015-10-02</td>\n",
       "      <td>strict_14_with_grace_period</td>\n",
       "      <td>0.666667</td>\n",
       "      <td>0.333333</td>\n",
       "      <td>1574.0</td>\n",
       "    </tr>\n",
       "    <tr>\n",
       "      <th>6194</th>\n",
       "      <td>Bondi Beach</td>\n",
       "      <td>151.273411</td>\n",
       "      <td>-33.888113</td>\n",
       "      <td>0</td>\n",
       "      <td>10</td>\n",
       "      <td>0.0</td>\n",
       "      <td>0.0</td>\n",
       "      <td>2</td>\n",
       "      <td>1.0</td>\n",
       "      <td>1.0</td>\n",
       "      <td>1.0</td>\n",
       "      <td>Apartment</td>\n",
       "      <td>Private room</td>\n",
       "      <td>0</td>\n",
       "      <td>1</td>\n",
       "      <td>0</td>\n",
       "      <td>2015-08-14</td>\n",
       "      <td>moderate</td>\n",
       "      <td>0.500000</td>\n",
       "      <td>0.500000</td>\n",
       "      <td>1623.0</td>\n",
       "    </tr>\n",
       "  </tbody>\n",
       "</table>\n",
       "</div>"
      ],
      "text/plain": [
       "             city   longitude   latitude  number_of_reviews  minimum_nights  \\\n",
       "5594     Randwick  151.238806 -33.913834                  0               2   \n",
       "5439      Newtown  151.184469 -33.894582                  0               3   \n",
       "3847  Bondi Beach  151.273077 -33.895142                  0               7   \n",
       "1312     Randwick  151.245793 -33.920622                  0               3   \n",
       "6194  Bondi Beach  151.273411 -33.888113                  0              10   \n",
       "\n",
       "      security_deposit  cleaning_fee  accommodates  bathrooms  bedrooms  beds  \\\n",
       "5594             800.0          80.0             6        1.0       3.0   3.0   \n",
       "5439            5000.0         100.0            11        2.0       3.0   4.0   \n",
       "3847             271.0          27.0             2        1.0       1.0   1.0   \n",
       "1312               0.0          80.0             3        1.0       2.0   2.0   \n",
       "6194               0.0           0.0             2        1.0       1.0   1.0   \n",
       "\n",
       "     property_type        room_type  availability_365  host_identity_verified  \\\n",
       "5594         House  Entire home/apt                 0                       0   \n",
       "5439     Apartment  Entire home/apt                 0                       1   \n",
       "3847     Apartment     Private room                 0                       0   \n",
       "1312     Apartment  Entire home/apt                 0                       0   \n",
       "6194     Apartment     Private room                 0                       1   \n",
       "\n",
       "      host_is_superhost host_since          cancellation_policy  \\\n",
       "5594                  0 2013-11-27                     moderate   \n",
       "5439                  0 2014-07-16  strict_14_with_grace_period   \n",
       "3847                  0 2015-12-07  strict_14_with_grace_period   \n",
       "1312                  0 2015-10-02  strict_14_with_grace_period   \n",
       "6194                  0 2015-08-14                     moderate   \n",
       "\n",
       "      bedrooms_per_person  bathrooms_per_person  days_on_airbnb  \n",
       "5594             0.500000              0.166667          2248.0  \n",
       "5439             0.272727              0.181818          2017.0  \n",
       "3847             0.500000              0.500000          1508.0  \n",
       "1312             0.666667              0.333333          1574.0  \n",
       "6194             0.500000              0.500000          1623.0  "
      ]
     },
     "execution_count": 51,
     "metadata": {
      "tags": []
     },
     "output_type": "execute_result"
    }
   ],
   "source": [
    "# Columns Remove\n",
    "sample_incomplete_rows.drop([\"review_scores_rating\"], axis=1)       # option 2"
   ]
  },
  {
   "cell_type": "code",
   "execution_count": 52,
   "metadata": {
    "colab": {
     "base_uri": "https://localhost:8080/",
     "height": 305
    },
    "colab_type": "code",
    "executionInfo": {
     "elapsed": 8140,
     "status": "ok",
     "timestamp": 1579745725358,
     "user": {
      "displayName": "Rajeev Ratan",
      "photoUrl": "https://lh3.googleusercontent.com/a-/AAuE7mCGo6aIm0tOcd5EhqWlYb0rime9sBvHS9YMpx0D2w=s64",
      "userId": "08597265227091462140"
     },
     "user_tz": 240
    },
    "id": "wJ4II0G-w5Oe",
    "outputId": "698b4b79-6ef6-4de5-be64-ed6be5a591af"
   },
   "outputs": [
    {
     "data": {
      "text/html": [
       "<div>\n",
       "<style scoped>\n",
       "    .dataframe tbody tr th:only-of-type {\n",
       "        vertical-align: middle;\n",
       "    }\n",
       "\n",
       "    .dataframe tbody tr th {\n",
       "        vertical-align: top;\n",
       "    }\n",
       "\n",
       "    .dataframe thead th {\n",
       "        text-align: right;\n",
       "    }\n",
       "</style>\n",
       "<table border=\"1\" class=\"dataframe\">\n",
       "  <thead>\n",
       "    <tr style=\"text-align: right;\">\n",
       "      <th></th>\n",
       "      <th>city</th>\n",
       "      <th>longitude</th>\n",
       "      <th>latitude</th>\n",
       "      <th>review_scores_rating</th>\n",
       "      <th>number_of_reviews</th>\n",
       "      <th>minimum_nights</th>\n",
       "      <th>security_deposit</th>\n",
       "      <th>cleaning_fee</th>\n",
       "      <th>accommodates</th>\n",
       "      <th>bathrooms</th>\n",
       "      <th>bedrooms</th>\n",
       "      <th>beds</th>\n",
       "      <th>property_type</th>\n",
       "      <th>room_type</th>\n",
       "      <th>availability_365</th>\n",
       "      <th>host_identity_verified</th>\n",
       "      <th>host_is_superhost</th>\n",
       "      <th>host_since</th>\n",
       "      <th>cancellation_policy</th>\n",
       "      <th>bedrooms_per_person</th>\n",
       "      <th>bathrooms_per_person</th>\n",
       "      <th>days_on_airbnb</th>\n",
       "    </tr>\n",
       "  </thead>\n",
       "  <tbody>\n",
       "    <tr>\n",
       "      <th>5594</th>\n",
       "      <td>Randwick</td>\n",
       "      <td>151.238806</td>\n",
       "      <td>-33.913834</td>\n",
       "      <td>96.0</td>\n",
       "      <td>0</td>\n",
       "      <td>2</td>\n",
       "      <td>800.0</td>\n",
       "      <td>80.0</td>\n",
       "      <td>6</td>\n",
       "      <td>1.0</td>\n",
       "      <td>3.0</td>\n",
       "      <td>3.0</td>\n",
       "      <td>House</td>\n",
       "      <td>Entire home/apt</td>\n",
       "      <td>0</td>\n",
       "      <td>0</td>\n",
       "      <td>0</td>\n",
       "      <td>2013-11-27</td>\n",
       "      <td>moderate</td>\n",
       "      <td>0.500000</td>\n",
       "      <td>0.166667</td>\n",
       "      <td>2248.0</td>\n",
       "    </tr>\n",
       "    <tr>\n",
       "      <th>5439</th>\n",
       "      <td>Newtown</td>\n",
       "      <td>151.184469</td>\n",
       "      <td>-33.894582</td>\n",
       "      <td>96.0</td>\n",
       "      <td>0</td>\n",
       "      <td>3</td>\n",
       "      <td>5000.0</td>\n",
       "      <td>100.0</td>\n",
       "      <td>11</td>\n",
       "      <td>2.0</td>\n",
       "      <td>3.0</td>\n",
       "      <td>4.0</td>\n",
       "      <td>Apartment</td>\n",
       "      <td>Entire home/apt</td>\n",
       "      <td>0</td>\n",
       "      <td>1</td>\n",
       "      <td>0</td>\n",
       "      <td>2014-07-16</td>\n",
       "      <td>strict_14_with_grace_period</td>\n",
       "      <td>0.272727</td>\n",
       "      <td>0.181818</td>\n",
       "      <td>2017.0</td>\n",
       "    </tr>\n",
       "    <tr>\n",
       "      <th>3847</th>\n",
       "      <td>Bondi Beach</td>\n",
       "      <td>151.273077</td>\n",
       "      <td>-33.895142</td>\n",
       "      <td>96.0</td>\n",
       "      <td>0</td>\n",
       "      <td>7</td>\n",
       "      <td>271.0</td>\n",
       "      <td>27.0</td>\n",
       "      <td>2</td>\n",
       "      <td>1.0</td>\n",
       "      <td>1.0</td>\n",
       "      <td>1.0</td>\n",
       "      <td>Apartment</td>\n",
       "      <td>Private room</td>\n",
       "      <td>0</td>\n",
       "      <td>0</td>\n",
       "      <td>0</td>\n",
       "      <td>2015-12-07</td>\n",
       "      <td>strict_14_with_grace_period</td>\n",
       "      <td>0.500000</td>\n",
       "      <td>0.500000</td>\n",
       "      <td>1508.0</td>\n",
       "    </tr>\n",
       "    <tr>\n",
       "      <th>1312</th>\n",
       "      <td>Randwick</td>\n",
       "      <td>151.245793</td>\n",
       "      <td>-33.920622</td>\n",
       "      <td>96.0</td>\n",
       "      <td>0</td>\n",
       "      <td>3</td>\n",
       "      <td>0.0</td>\n",
       "      <td>80.0</td>\n",
       "      <td>3</td>\n",
       "      <td>1.0</td>\n",
       "      <td>2.0</td>\n",
       "      <td>2.0</td>\n",
       "      <td>Apartment</td>\n",
       "      <td>Entire home/apt</td>\n",
       "      <td>0</td>\n",
       "      <td>0</td>\n",
       "      <td>0</td>\n",
       "      <td>2015-10-02</td>\n",
       "      <td>strict_14_with_grace_period</td>\n",
       "      <td>0.666667</td>\n",
       "      <td>0.333333</td>\n",
       "      <td>1574.0</td>\n",
       "    </tr>\n",
       "    <tr>\n",
       "      <th>6194</th>\n",
       "      <td>Bondi Beach</td>\n",
       "      <td>151.273411</td>\n",
       "      <td>-33.888113</td>\n",
       "      <td>96.0</td>\n",
       "      <td>0</td>\n",
       "      <td>10</td>\n",
       "      <td>0.0</td>\n",
       "      <td>0.0</td>\n",
       "      <td>2</td>\n",
       "      <td>1.0</td>\n",
       "      <td>1.0</td>\n",
       "      <td>1.0</td>\n",
       "      <td>Apartment</td>\n",
       "      <td>Private room</td>\n",
       "      <td>0</td>\n",
       "      <td>1</td>\n",
       "      <td>0</td>\n",
       "      <td>2015-08-14</td>\n",
       "      <td>moderate</td>\n",
       "      <td>0.500000</td>\n",
       "      <td>0.500000</td>\n",
       "      <td>1623.0</td>\n",
       "    </tr>\n",
       "  </tbody>\n",
       "</table>\n",
       "</div>"
      ],
      "text/plain": [
       "             city   longitude   latitude  review_scores_rating  \\\n",
       "5594     Randwick  151.238806 -33.913834                  96.0   \n",
       "5439      Newtown  151.184469 -33.894582                  96.0   \n",
       "3847  Bondi Beach  151.273077 -33.895142                  96.0   \n",
       "1312     Randwick  151.245793 -33.920622                  96.0   \n",
       "6194  Bondi Beach  151.273411 -33.888113                  96.0   \n",
       "\n",
       "      number_of_reviews  minimum_nights  security_deposit  cleaning_fee  \\\n",
       "5594                  0               2             800.0          80.0   \n",
       "5439                  0               3            5000.0         100.0   \n",
       "3847                  0               7             271.0          27.0   \n",
       "1312                  0               3               0.0          80.0   \n",
       "6194                  0              10               0.0           0.0   \n",
       "\n",
       "      accommodates  bathrooms  bedrooms  beds property_type        room_type  \\\n",
       "5594             6        1.0       3.0   3.0         House  Entire home/apt   \n",
       "5439            11        2.0       3.0   4.0     Apartment  Entire home/apt   \n",
       "3847             2        1.0       1.0   1.0     Apartment     Private room   \n",
       "1312             3        1.0       2.0   2.0     Apartment  Entire home/apt   \n",
       "6194             2        1.0       1.0   1.0     Apartment     Private room   \n",
       "\n",
       "      availability_365  host_identity_verified  host_is_superhost host_since  \\\n",
       "5594                 0                       0                  0 2013-11-27   \n",
       "5439                 0                       1                  0 2014-07-16   \n",
       "3847                 0                       0                  0 2015-12-07   \n",
       "1312                 0                       0                  0 2015-10-02   \n",
       "6194                 0                       1                  0 2015-08-14   \n",
       "\n",
       "              cancellation_policy  bedrooms_per_person  bathrooms_per_person  \\\n",
       "5594                     moderate             0.500000              0.166667   \n",
       "5439  strict_14_with_grace_period             0.272727              0.181818   \n",
       "3847  strict_14_with_grace_period             0.500000              0.500000   \n",
       "1312  strict_14_with_grace_period             0.666667              0.333333   \n",
       "6194                     moderate             0.500000              0.500000   \n",
       "\n",
       "      days_on_airbnb  \n",
       "5594          2248.0  \n",
       "5439          2017.0  \n",
       "3847          1508.0  \n",
       "1312          1574.0  \n",
       "6194          1623.0  "
      ]
     },
     "execution_count": 52,
     "metadata": {
      "tags": []
     },
     "output_type": "execute_result"
    }
   ],
   "source": [
    "median = X[\"review_scores_rating\"].median()\n",
    "sample_incomplete_rows[\"review_scores_rating\"].fillna(median, inplace=True) # option 3\n",
    "\n",
    "sample_incomplete_rows"
   ]
  },
  {
   "cell_type": "code",
   "execution_count": 0,
   "metadata": {
    "colab": {},
    "colab_type": "code",
    "id": "5W1NjzUfw5Ok"
   },
   "outputs": [],
   "source": [
    "# let's fill in the missing values using sklearn's imputer, we employ the median strategy here\n",
    "# Note the code below is different from the video as the old Imputer function has been depracted\n",
    "\n",
    "from sklearn.impute import SimpleImputer\n",
    "\n",
    "imputer = SimpleImputer(missing_values=np.nan, strategy='median')"
   ]
  },
  {
   "cell_type": "code",
   "execution_count": 0,
   "metadata": {
    "colab": {
     "base_uri": "https://localhost:8080/",
     "height": 343
    },
    "colab_type": "code",
    "executionInfo": {
     "elapsed": 596,
     "status": "ok",
     "timestamp": 1573951784676,
     "user": {
      "displayName": "Rajeev Ratan",
      "photoUrl": "https://lh3.googleusercontent.com/a-/AAuE7mCGo6aIm0tOcd5EhqWlYb0rime9sBvHS9YMpx0D2w=s64",
      "userId": "08597265227091462140"
     },
     "user_tz": 0
    },
    "id": "ambiARQ_7yHB",
    "outputId": "83c17a55-1949-4c3a-92e1-d9778f4cbafe"
   },
   "outputs": [
    {
     "name": "stderr",
     "output_type": "stream",
     "text": [
      "/usr/local/lib/python3.6/dist-packages/pandas/core/ops/__init__.py:1115: FutureWarning: elementwise comparison failed; returning scalar instead, but in the future will perform elementwise comparison\n",
      "  result = method(y)\n"
     ]
    },
    {
     "data": {
      "text/html": [
       "<div>\n",
       "<style scoped>\n",
       "    .dataframe tbody tr th:only-of-type {\n",
       "        vertical-align: middle;\n",
       "    }\n",
       "\n",
       "    .dataframe tbody tr th {\n",
       "        vertical-align: top;\n",
       "    }\n",
       "\n",
       "    .dataframe thead th {\n",
       "        text-align: right;\n",
       "    }\n",
       "</style>\n",
       "<table border=\"1\" class=\"dataframe\">\n",
       "  <thead>\n",
       "    <tr style=\"text-align: right;\">\n",
       "      <th></th>\n",
       "      <th>city</th>\n",
       "      <th>longitude</th>\n",
       "      <th>latitude</th>\n",
       "      <th>review_scores_rating</th>\n",
       "      <th>number_of_reviews</th>\n",
       "      <th>minimum_nights</th>\n",
       "      <th>security_deposit</th>\n",
       "      <th>cleaning_fee</th>\n",
       "      <th>accommodates</th>\n",
       "      <th>bathrooms</th>\n",
       "      <th>bedrooms</th>\n",
       "      <th>beds</th>\n",
       "      <th>property_type</th>\n",
       "      <th>room_type</th>\n",
       "      <th>availability_365</th>\n",
       "      <th>host_identity_verified</th>\n",
       "      <th>host_is_superhost</th>\n",
       "      <th>host_since</th>\n",
       "      <th>cancellation_policy</th>\n",
       "      <th>bedrooms_per_person</th>\n",
       "      <th>bathrooms_per_person</th>\n",
       "      <th>days_on_airbnb</th>\n",
       "    </tr>\n",
       "  </thead>\n",
       "  <tbody>\n",
       "    <tr>\n",
       "      <th>5484</th>\n",
       "      <td>Newtown</td>\n",
       "      <td>151.178552</td>\n",
       "      <td>-33.907150</td>\n",
       "      <td>96.0</td>\n",
       "      <td>61</td>\n",
       "      <td>2</td>\n",
       "      <td>250.0</td>\n",
       "      <td>85.0</td>\n",
       "      <td>4</td>\n",
       "      <td>1.0</td>\n",
       "      <td>2.0</td>\n",
       "      <td>2.0</td>\n",
       "      <td>House</td>\n",
       "      <td>Entire home/apt</td>\n",
       "      <td>127</td>\n",
       "      <td>0</td>\n",
       "      <td>0</td>\n",
       "      <td>2016-01-22</td>\n",
       "      <td>moderate</td>\n",
       "      <td>0.500000</td>\n",
       "      <td>0.250000</td>\n",
       "      <td>1395.0</td>\n",
       "    </tr>\n",
       "    <tr>\n",
       "      <th>1267</th>\n",
       "      <td>Randwick</td>\n",
       "      <td>151.249030</td>\n",
       "      <td>-33.906190</td>\n",
       "      <td>97.0</td>\n",
       "      <td>6</td>\n",
       "      <td>4</td>\n",
       "      <td>0.0</td>\n",
       "      <td>20.0</td>\n",
       "      <td>2</td>\n",
       "      <td>1.0</td>\n",
       "      <td>1.0</td>\n",
       "      <td>1.0</td>\n",
       "      <td>Apartment</td>\n",
       "      <td>Private room</td>\n",
       "      <td>0</td>\n",
       "      <td>0</td>\n",
       "      <td>0</td>\n",
       "      <td>2014-03-28</td>\n",
       "      <td>moderate</td>\n",
       "      <td>0.500000</td>\n",
       "      <td>0.500000</td>\n",
       "      <td>2060.0</td>\n",
       "    </tr>\n",
       "    <tr>\n",
       "      <th>6658</th>\n",
       "      <td>Manly</td>\n",
       "      <td>151.288491</td>\n",
       "      <td>-33.802074</td>\n",
       "      <td>100.0</td>\n",
       "      <td>2</td>\n",
       "      <td>2</td>\n",
       "      <td>0.0</td>\n",
       "      <td>40.0</td>\n",
       "      <td>2</td>\n",
       "      <td>1.0</td>\n",
       "      <td>1.0</td>\n",
       "      <td>1.0</td>\n",
       "      <td>Apartment</td>\n",
       "      <td>Entire home/apt</td>\n",
       "      <td>0</td>\n",
       "      <td>0</td>\n",
       "      <td>0</td>\n",
       "      <td>2014-01-09</td>\n",
       "      <td>strict_14_with_grace_period</td>\n",
       "      <td>0.500000</td>\n",
       "      <td>0.500000</td>\n",
       "      <td>2138.0</td>\n",
       "    </tr>\n",
       "    <tr>\n",
       "      <th>2522</th>\n",
       "      <td>Randwick</td>\n",
       "      <td>151.236423</td>\n",
       "      <td>-33.913614</td>\n",
       "      <td>94.0</td>\n",
       "      <td>20</td>\n",
       "      <td>3</td>\n",
       "      <td>0.0</td>\n",
       "      <td>0.0</td>\n",
       "      <td>2</td>\n",
       "      <td>1.0</td>\n",
       "      <td>1.0</td>\n",
       "      <td>1.0</td>\n",
       "      <td>Apartment</td>\n",
       "      <td>Private room</td>\n",
       "      <td>90</td>\n",
       "      <td>0</td>\n",
       "      <td>0</td>\n",
       "      <td>2015-11-22</td>\n",
       "      <td>flexible</td>\n",
       "      <td>0.500000</td>\n",
       "      <td>0.500000</td>\n",
       "      <td>1456.0</td>\n",
       "    </tr>\n",
       "    <tr>\n",
       "      <th>722</th>\n",
       "      <td>Coogee</td>\n",
       "      <td>151.259342</td>\n",
       "      <td>-33.918435</td>\n",
       "      <td>92.0</td>\n",
       "      <td>139</td>\n",
       "      <td>30</td>\n",
       "      <td>0.0</td>\n",
       "      <td>0.0</td>\n",
       "      <td>3</td>\n",
       "      <td>1.0</td>\n",
       "      <td>1.0</td>\n",
       "      <td>2.0</td>\n",
       "      <td>Apartment</td>\n",
       "      <td>Private room</td>\n",
       "      <td>0</td>\n",
       "      <td>0</td>\n",
       "      <td>0</td>\n",
       "      <td>2014-01-07</td>\n",
       "      <td>strict_14_with_grace_period</td>\n",
       "      <td>0.333333</td>\n",
       "      <td>0.333333</td>\n",
       "      <td>2140.0</td>\n",
       "    </tr>\n",
       "  </tbody>\n",
       "</table>\n",
       "</div>"
      ],
      "text/plain": [
       "          city   longitude   latitude  review_scores_rating  \\\n",
       "5484   Newtown  151.178552 -33.907150                  96.0   \n",
       "1267  Randwick  151.249030 -33.906190                  97.0   \n",
       "6658     Manly  151.288491 -33.802074                 100.0   \n",
       "2522  Randwick  151.236423 -33.913614                  94.0   \n",
       "722     Coogee  151.259342 -33.918435                  92.0   \n",
       "\n",
       "      number_of_reviews  minimum_nights  security_deposit  cleaning_fee  \\\n",
       "5484                 61               2             250.0          85.0   \n",
       "1267                  6               4               0.0          20.0   \n",
       "6658                  2               2               0.0          40.0   \n",
       "2522                 20               3               0.0           0.0   \n",
       "722                 139              30               0.0           0.0   \n",
       "\n",
       "      accommodates  bathrooms  bedrooms  beds property_type        room_type  \\\n",
       "5484             4        1.0       2.0   2.0         House  Entire home/apt   \n",
       "1267             2        1.0       1.0   1.0     Apartment     Private room   \n",
       "6658             2        1.0       1.0   1.0     Apartment  Entire home/apt   \n",
       "2522             2        1.0       1.0   1.0     Apartment     Private room   \n",
       "722              3        1.0       1.0   2.0     Apartment     Private room   \n",
       "\n",
       "      availability_365  host_identity_verified  host_is_superhost host_since  \\\n",
       "5484               127                       0                  0 2016-01-22   \n",
       "1267                 0                       0                  0 2014-03-28   \n",
       "6658                 0                       0                  0 2014-01-09   \n",
       "2522                90                       0                  0 2015-11-22   \n",
       "722                  0                       0                  0 2014-01-07   \n",
       "\n",
       "              cancellation_policy  bedrooms_per_person  bathrooms_per_person  \\\n",
       "5484                     moderate             0.500000              0.250000   \n",
       "1267                     moderate             0.500000              0.500000   \n",
       "6658  strict_14_with_grace_period             0.500000              0.500000   \n",
       "2522                     flexible             0.500000              0.500000   \n",
       "722   strict_14_with_grace_period             0.333333              0.333333   \n",
       "\n",
       "      days_on_airbnb  \n",
       "5484          1395.0  \n",
       "1267          2060.0  \n",
       "6658          2138.0  \n",
       "2522          1456.0  \n",
       "722           2140.0  "
      ]
     },
     "execution_count": 62,
     "metadata": {
      "tags": []
     },
     "output_type": "execute_result"
    }
   ],
   "source": [
    "from sklearn.preprocessing import LabelEncoder\n",
    "\n",
    "lb = LabelEncoder() \n",
    "\n",
    "X['host_is_superhost'] = X['host_is_superhost'].eq('t').astype(int)\n",
    "X['host_identity_verified'] = X['host_identity_verified'].eq('t').astype(int)\n",
    "X.head()"
   ]
  },
  {
   "cell_type": "markdown",
   "metadata": {
    "colab_type": "text",
    "id": "GpQe6f4Kw5Os"
   },
   "source": [
    "Remove the text attribute because median can only be calculated on numerical attributes:"
   ]
  },
  {
   "cell_type": "code",
   "execution_count": 0,
   "metadata": {
    "colab": {
     "base_uri": "https://localhost:8080/",
     "height": 222
    },
    "colab_type": "code",
    "executionInfo": {
     "elapsed": 436,
     "status": "ok",
     "timestamp": 1573951807402,
     "user": {
      "displayName": "Rajeev Ratan",
      "photoUrl": "https://lh3.googleusercontent.com/a-/AAuE7mCGo6aIm0tOcd5EhqWlYb0rime9sBvHS9YMpx0D2w=s64",
      "userId": "08597265227091462140"
     },
     "user_tz": 0
    },
    "id": "2s_PW2I3w5Ov",
    "outputId": "e4c38c77-1794-4037-b963-c624b24c9d80"
   },
   "outputs": [
    {
     "data": {
      "text/html": [
       "<div>\n",
       "<style scoped>\n",
       "    .dataframe tbody tr th:only-of-type {\n",
       "        vertical-align: middle;\n",
       "    }\n",
       "\n",
       "    .dataframe tbody tr th {\n",
       "        vertical-align: top;\n",
       "    }\n",
       "\n",
       "    .dataframe thead th {\n",
       "        text-align: right;\n",
       "    }\n",
       "</style>\n",
       "<table border=\"1\" class=\"dataframe\">\n",
       "  <thead>\n",
       "    <tr style=\"text-align: right;\">\n",
       "      <th></th>\n",
       "      <th>longitude</th>\n",
       "      <th>latitude</th>\n",
       "      <th>review_scores_rating</th>\n",
       "      <th>number_of_reviews</th>\n",
       "      <th>minimum_nights</th>\n",
       "      <th>security_deposit</th>\n",
       "      <th>cleaning_fee</th>\n",
       "      <th>accommodates</th>\n",
       "      <th>bathrooms</th>\n",
       "      <th>bedrooms</th>\n",
       "      <th>beds</th>\n",
       "      <th>availability_365</th>\n",
       "      <th>host_identity_verified</th>\n",
       "      <th>host_is_superhost</th>\n",
       "      <th>bedrooms_per_person</th>\n",
       "      <th>bathrooms_per_person</th>\n",
       "      <th>days_on_airbnb</th>\n",
       "    </tr>\n",
       "  </thead>\n",
       "  <tbody>\n",
       "    <tr>\n",
       "      <th>5484</th>\n",
       "      <td>151.178552</td>\n",
       "      <td>-33.907150</td>\n",
       "      <td>96.0</td>\n",
       "      <td>61</td>\n",
       "      <td>2</td>\n",
       "      <td>250.0</td>\n",
       "      <td>85.0</td>\n",
       "      <td>4</td>\n",
       "      <td>1.0</td>\n",
       "      <td>2.0</td>\n",
       "      <td>2.0</td>\n",
       "      <td>127</td>\n",
       "      <td>0</td>\n",
       "      <td>0</td>\n",
       "      <td>0.500000</td>\n",
       "      <td>0.250000</td>\n",
       "      <td>1395.0</td>\n",
       "    </tr>\n",
       "    <tr>\n",
       "      <th>1267</th>\n",
       "      <td>151.249030</td>\n",
       "      <td>-33.906190</td>\n",
       "      <td>97.0</td>\n",
       "      <td>6</td>\n",
       "      <td>4</td>\n",
       "      <td>0.0</td>\n",
       "      <td>20.0</td>\n",
       "      <td>2</td>\n",
       "      <td>1.0</td>\n",
       "      <td>1.0</td>\n",
       "      <td>1.0</td>\n",
       "      <td>0</td>\n",
       "      <td>0</td>\n",
       "      <td>0</td>\n",
       "      <td>0.500000</td>\n",
       "      <td>0.500000</td>\n",
       "      <td>2060.0</td>\n",
       "    </tr>\n",
       "    <tr>\n",
       "      <th>6658</th>\n",
       "      <td>151.288491</td>\n",
       "      <td>-33.802074</td>\n",
       "      <td>100.0</td>\n",
       "      <td>2</td>\n",
       "      <td>2</td>\n",
       "      <td>0.0</td>\n",
       "      <td>40.0</td>\n",
       "      <td>2</td>\n",
       "      <td>1.0</td>\n",
       "      <td>1.0</td>\n",
       "      <td>1.0</td>\n",
       "      <td>0</td>\n",
       "      <td>0</td>\n",
       "      <td>0</td>\n",
       "      <td>0.500000</td>\n",
       "      <td>0.500000</td>\n",
       "      <td>2138.0</td>\n",
       "    </tr>\n",
       "    <tr>\n",
       "      <th>2522</th>\n",
       "      <td>151.236423</td>\n",
       "      <td>-33.913614</td>\n",
       "      <td>94.0</td>\n",
       "      <td>20</td>\n",
       "      <td>3</td>\n",
       "      <td>0.0</td>\n",
       "      <td>0.0</td>\n",
       "      <td>2</td>\n",
       "      <td>1.0</td>\n",
       "      <td>1.0</td>\n",
       "      <td>1.0</td>\n",
       "      <td>90</td>\n",
       "      <td>0</td>\n",
       "      <td>0</td>\n",
       "      <td>0.500000</td>\n",
       "      <td>0.500000</td>\n",
       "      <td>1456.0</td>\n",
       "    </tr>\n",
       "    <tr>\n",
       "      <th>722</th>\n",
       "      <td>151.259342</td>\n",
       "      <td>-33.918435</td>\n",
       "      <td>92.0</td>\n",
       "      <td>139</td>\n",
       "      <td>30</td>\n",
       "      <td>0.0</td>\n",
       "      <td>0.0</td>\n",
       "      <td>3</td>\n",
       "      <td>1.0</td>\n",
       "      <td>1.0</td>\n",
       "      <td>2.0</td>\n",
       "      <td>0</td>\n",
       "      <td>0</td>\n",
       "      <td>0</td>\n",
       "      <td>0.333333</td>\n",
       "      <td>0.333333</td>\n",
       "      <td>2140.0</td>\n",
       "    </tr>\n",
       "  </tbody>\n",
       "</table>\n",
       "</div>"
      ],
      "text/plain": [
       "       longitude   latitude  review_scores_rating  number_of_reviews  \\\n",
       "5484  151.178552 -33.907150                  96.0                 61   \n",
       "1267  151.249030 -33.906190                  97.0                  6   \n",
       "6658  151.288491 -33.802074                 100.0                  2   \n",
       "2522  151.236423 -33.913614                  94.0                 20   \n",
       "722   151.259342 -33.918435                  92.0                139   \n",
       "\n",
       "      minimum_nights  security_deposit  cleaning_fee  accommodates  bathrooms  \\\n",
       "5484               2             250.0          85.0             4        1.0   \n",
       "1267               4               0.0          20.0             2        1.0   \n",
       "6658               2               0.0          40.0             2        1.0   \n",
       "2522               3               0.0           0.0             2        1.0   \n",
       "722               30               0.0           0.0             3        1.0   \n",
       "\n",
       "      bedrooms  beds  availability_365  host_identity_verified  \\\n",
       "5484       2.0   2.0               127                       0   \n",
       "1267       1.0   1.0                 0                       0   \n",
       "6658       1.0   1.0                 0                       0   \n",
       "2522       1.0   1.0                90                       0   \n",
       "722        1.0   2.0                 0                       0   \n",
       "\n",
       "      host_is_superhost  bedrooms_per_person  bathrooms_per_person  \\\n",
       "5484                  0             0.500000              0.250000   \n",
       "1267                  0             0.500000              0.500000   \n",
       "6658                  0             0.500000              0.500000   \n",
       "2522                  0             0.500000              0.500000   \n",
       "722                   0             0.333333              0.333333   \n",
       "\n",
       "      days_on_airbnb  \n",
       "5484          1395.0  \n",
       "1267          2060.0  \n",
       "6658          2138.0  \n",
       "2522          1456.0  \n",
       "722           2140.0  "
      ]
     },
     "execution_count": 63,
     "metadata": {
      "tags": []
     },
     "output_type": "execute_result"
    }
   ],
   "source": [
    "# Columns with missing categorical values can't be imputed so we have no alternative but to drop them\n",
    "\n",
    "cat_cols = [\"city\",\"cancellation_policy\",\"host_since\",\"room_type\",\"property_type\",\"host_since\"]\n",
    "X_num = X.drop(cat_cols, axis=1)\n",
    "X_num.head()"
   ]
  },
  {
   "cell_type": "code",
   "execution_count": 0,
   "metadata": {
    "colab": {
     "base_uri": "https://localhost:8080/",
     "height": 35
    },
    "colab_type": "code",
    "executionInfo": {
     "elapsed": 426,
     "status": "ok",
     "timestamp": 1573951810855,
     "user": {
      "displayName": "Rajeev Ratan",
      "photoUrl": "https://lh3.googleusercontent.com/a-/AAuE7mCGo6aIm0tOcd5EhqWlYb0rime9sBvHS9YMpx0D2w=s64",
      "userId": "08597265227091462140"
     },
     "user_tz": 0
    },
    "id": "Yf3va5snw5PD",
    "outputId": "2948da0e-2b66-4873-ed38-7084d27409fe"
   },
   "outputs": [
    {
     "data": {
      "text/plain": [
       "Imputer(axis=0, copy=True, missing_values='NaN', strategy='median', verbose=0)"
      ]
     },
     "execution_count": 64,
     "metadata": {
      "tags": []
     },
     "output_type": "execute_result"
    }
   ],
   "source": [
    "imputer.fit(X_num)"
   ]
  },
  {
   "cell_type": "code",
   "execution_count": 0,
   "metadata": {
    "colab": {
     "base_uri": "https://localhost:8080/",
     "height": 104
    },
    "colab_type": "code",
    "executionInfo": {
     "elapsed": 1300,
     "status": "ok",
     "timestamp": 1573951815753,
     "user": {
      "displayName": "Rajeev Ratan",
      "photoUrl": "https://lh3.googleusercontent.com/a-/AAuE7mCGo6aIm0tOcd5EhqWlYb0rime9sBvHS9YMpx0D2w=s64",
      "userId": "08597265227091462140"
     },
     "user_tz": 0
    },
    "id": "Z7BvFuaVw5PJ",
    "outputId": "1150e1ed-373b-419b-c284-c47a549741a6"
   },
   "outputs": [
    {
     "data": {
      "text/plain": [
       "array([ 1.51259665e+02, -3.38885369e+01,  9.60000000e+01,  3.00000000e+00,\n",
       "        3.00000000e+00,  0.00000000e+00,  5.00000000e+01,  2.00000000e+00,\n",
       "        1.00000000e+00,  1.00000000e+00,  1.00000000e+00,  4.00000000e+00,\n",
       "        0.00000000e+00,  0.00000000e+00,  5.00000000e-01,  5.00000000e-01,\n",
       "        1.82100000e+03])"
      ]
     },
     "execution_count": 65,
     "metadata": {
      "tags": []
     },
     "output_type": "execute_result"
    }
   ],
   "source": [
    "imputer.statistics_"
   ]
  },
  {
   "cell_type": "markdown",
   "metadata": {
    "colab_type": "text",
    "id": "hzxuikicw5PW"
   },
   "source": [
    "Check that this is the same as manually computing the median of each attribute:"
   ]
  },
  {
   "cell_type": "code",
   "execution_count": 0,
   "metadata": {
    "colab": {
     "base_uri": "https://localhost:8080/",
     "height": 104
    },
    "colab_type": "code",
    "executionInfo": {
     "elapsed": 423,
     "status": "ok",
     "timestamp": 1573951818903,
     "user": {
      "displayName": "Rajeev Ratan",
      "photoUrl": "https://lh3.googleusercontent.com/a-/AAuE7mCGo6aIm0tOcd5EhqWlYb0rime9sBvHS9YMpx0D2w=s64",
      "userId": "08597265227091462140"
     },
     "user_tz": 0
    },
    "id": "B5do-SLFw5PX",
    "outputId": "21d62491-97b3-4c35-d71f-b16cd09b1824"
   },
   "outputs": [
    {
     "data": {
      "text/plain": [
       "array([ 1.51259665e+02, -3.38885369e+01,  9.60000000e+01,  3.00000000e+00,\n",
       "        3.00000000e+00,  0.00000000e+00,  5.00000000e+01,  2.00000000e+00,\n",
       "        1.00000000e+00,  1.00000000e+00,  1.00000000e+00,  4.00000000e+00,\n",
       "        0.00000000e+00,  0.00000000e+00,  5.00000000e-01,  5.00000000e-01,\n",
       "        1.82100000e+03])"
      ]
     },
     "execution_count": 66,
     "metadata": {
      "tags": []
     },
     "output_type": "execute_result"
    }
   ],
   "source": [
    "X_num.median().values"
   ]
  },
  {
   "cell_type": "markdown",
   "metadata": {
    "colab_type": "text",
    "id": "jhqi5OU9w5Pe"
   },
   "source": [
    "Transform the training set:"
   ]
  },
  {
   "cell_type": "code",
   "execution_count": 0,
   "metadata": {
    "colab": {},
    "colab_type": "code",
    "id": "Lo700DUsw5Pg"
   },
   "outputs": [],
   "source": [
    "X_num_np = imputer.transform(X_num)"
   ]
  },
  {
   "cell_type": "code",
   "execution_count": 0,
   "metadata": {
    "colab": {},
    "colab_type": "code",
    "id": "lIIwDuqpw5Pl"
   },
   "outputs": [],
   "source": [
    "X_num = pd.DataFrame(X_num_np, columns=X_num.columns,\n",
    "                          index = list(X_num.index.values))"
   ]
  },
  {
   "cell_type": "code",
   "execution_count": 0,
   "metadata": {
    "colab": {
     "base_uri": "https://localhost:8080/",
     "height": 222
    },
    "colab_type": "code",
    "executionInfo": {
     "elapsed": 449,
     "status": "ok",
     "timestamp": 1573951870481,
     "user": {
      "displayName": "Rajeev Ratan",
      "photoUrl": "https://lh3.googleusercontent.com/a-/AAuE7mCGo6aIm0tOcd5EhqWlYb0rime9sBvHS9YMpx0D2w=s64",
      "userId": "08597265227091462140"
     },
     "user_tz": 0
    },
    "id": "GZw1eaSlw5Pp",
    "outputId": "806a76ab-765a-43e9-a2ac-7760fb861bae"
   },
   "outputs": [
    {
     "data": {
      "text/html": [
       "<div>\n",
       "<style scoped>\n",
       "    .dataframe tbody tr th:only-of-type {\n",
       "        vertical-align: middle;\n",
       "    }\n",
       "\n",
       "    .dataframe tbody tr th {\n",
       "        vertical-align: top;\n",
       "    }\n",
       "\n",
       "    .dataframe thead th {\n",
       "        text-align: right;\n",
       "    }\n",
       "</style>\n",
       "<table border=\"1\" class=\"dataframe\">\n",
       "  <thead>\n",
       "    <tr style=\"text-align: right;\">\n",
       "      <th></th>\n",
       "      <th>longitude</th>\n",
       "      <th>latitude</th>\n",
       "      <th>review_scores_rating</th>\n",
       "      <th>number_of_reviews</th>\n",
       "      <th>minimum_nights</th>\n",
       "      <th>security_deposit</th>\n",
       "      <th>cleaning_fee</th>\n",
       "      <th>accommodates</th>\n",
       "      <th>bathrooms</th>\n",
       "      <th>bedrooms</th>\n",
       "      <th>beds</th>\n",
       "      <th>availability_365</th>\n",
       "      <th>host_identity_verified</th>\n",
       "      <th>host_is_superhost</th>\n",
       "      <th>bedrooms_per_person</th>\n",
       "      <th>bathrooms_per_person</th>\n",
       "      <th>days_on_airbnb</th>\n",
       "    </tr>\n",
       "  </thead>\n",
       "  <tbody>\n",
       "    <tr>\n",
       "      <th>5594</th>\n",
       "      <td>151.238806</td>\n",
       "      <td>-33.913834</td>\n",
       "      <td>96.0</td>\n",
       "      <td>0.0</td>\n",
       "      <td>2.0</td>\n",
       "      <td>800.0</td>\n",
       "      <td>80.0</td>\n",
       "      <td>6.0</td>\n",
       "      <td>1.0</td>\n",
       "      <td>3.0</td>\n",
       "      <td>3.0</td>\n",
       "      <td>0.0</td>\n",
       "      <td>0.0</td>\n",
       "      <td>0.0</td>\n",
       "      <td>0.500000</td>\n",
       "      <td>0.166667</td>\n",
       "      <td>2181.0</td>\n",
       "    </tr>\n",
       "    <tr>\n",
       "      <th>5439</th>\n",
       "      <td>151.184469</td>\n",
       "      <td>-33.894582</td>\n",
       "      <td>96.0</td>\n",
       "      <td>0.0</td>\n",
       "      <td>3.0</td>\n",
       "      <td>5000.0</td>\n",
       "      <td>100.0</td>\n",
       "      <td>11.0</td>\n",
       "      <td>2.0</td>\n",
       "      <td>3.0</td>\n",
       "      <td>4.0</td>\n",
       "      <td>0.0</td>\n",
       "      <td>0.0</td>\n",
       "      <td>0.0</td>\n",
       "      <td>0.272727</td>\n",
       "      <td>0.181818</td>\n",
       "      <td>1950.0</td>\n",
       "    </tr>\n",
       "    <tr>\n",
       "      <th>3847</th>\n",
       "      <td>151.273077</td>\n",
       "      <td>-33.895142</td>\n",
       "      <td>96.0</td>\n",
       "      <td>0.0</td>\n",
       "      <td>7.0</td>\n",
       "      <td>271.0</td>\n",
       "      <td>27.0</td>\n",
       "      <td>2.0</td>\n",
       "      <td>1.0</td>\n",
       "      <td>1.0</td>\n",
       "      <td>1.0</td>\n",
       "      <td>0.0</td>\n",
       "      <td>0.0</td>\n",
       "      <td>0.0</td>\n",
       "      <td>0.500000</td>\n",
       "      <td>0.500000</td>\n",
       "      <td>1441.0</td>\n",
       "    </tr>\n",
       "    <tr>\n",
       "      <th>1312</th>\n",
       "      <td>151.245793</td>\n",
       "      <td>-33.920622</td>\n",
       "      <td>96.0</td>\n",
       "      <td>0.0</td>\n",
       "      <td>3.0</td>\n",
       "      <td>0.0</td>\n",
       "      <td>80.0</td>\n",
       "      <td>3.0</td>\n",
       "      <td>1.0</td>\n",
       "      <td>2.0</td>\n",
       "      <td>2.0</td>\n",
       "      <td>0.0</td>\n",
       "      <td>0.0</td>\n",
       "      <td>0.0</td>\n",
       "      <td>0.666667</td>\n",
       "      <td>0.333333</td>\n",
       "      <td>1507.0</td>\n",
       "    </tr>\n",
       "    <tr>\n",
       "      <th>6194</th>\n",
       "      <td>151.273411</td>\n",
       "      <td>-33.888113</td>\n",
       "      <td>96.0</td>\n",
       "      <td>0.0</td>\n",
       "      <td>10.0</td>\n",
       "      <td>0.0</td>\n",
       "      <td>0.0</td>\n",
       "      <td>2.0</td>\n",
       "      <td>1.0</td>\n",
       "      <td>1.0</td>\n",
       "      <td>1.0</td>\n",
       "      <td>0.0</td>\n",
       "      <td>0.0</td>\n",
       "      <td>0.0</td>\n",
       "      <td>0.500000</td>\n",
       "      <td>0.500000</td>\n",
       "      <td>1556.0</td>\n",
       "    </tr>\n",
       "  </tbody>\n",
       "</table>\n",
       "</div>"
      ],
      "text/plain": [
       "       longitude   latitude  review_scores_rating  number_of_reviews  \\\n",
       "5594  151.238806 -33.913834                  96.0                0.0   \n",
       "5439  151.184469 -33.894582                  96.0                0.0   \n",
       "3847  151.273077 -33.895142                  96.0                0.0   \n",
       "1312  151.245793 -33.920622                  96.0                0.0   \n",
       "6194  151.273411 -33.888113                  96.0                0.0   \n",
       "\n",
       "      minimum_nights  security_deposit  cleaning_fee  accommodates  bathrooms  \\\n",
       "5594             2.0             800.0          80.0           6.0        1.0   \n",
       "5439             3.0            5000.0         100.0          11.0        2.0   \n",
       "3847             7.0             271.0          27.0           2.0        1.0   \n",
       "1312             3.0               0.0          80.0           3.0        1.0   \n",
       "6194            10.0               0.0           0.0           2.0        1.0   \n",
       "\n",
       "      bedrooms  beds  availability_365  host_identity_verified  \\\n",
       "5594       3.0   3.0               0.0                     0.0   \n",
       "5439       3.0   4.0               0.0                     0.0   \n",
       "3847       1.0   1.0               0.0                     0.0   \n",
       "1312       2.0   2.0               0.0                     0.0   \n",
       "6194       1.0   1.0               0.0                     0.0   \n",
       "\n",
       "      host_is_superhost  bedrooms_per_person  bathrooms_per_person  \\\n",
       "5594                0.0             0.500000              0.166667   \n",
       "5439                0.0             0.272727              0.181818   \n",
       "3847                0.0             0.500000              0.500000   \n",
       "1312                0.0             0.666667              0.333333   \n",
       "6194                0.0             0.500000              0.500000   \n",
       "\n",
       "      days_on_airbnb  \n",
       "5594          2181.0  \n",
       "5439          1950.0  \n",
       "3847          1441.0  \n",
       "1312          1507.0  \n",
       "6194          1556.0  "
      ]
     },
     "execution_count": 69,
     "metadata": {
      "tags": []
     },
     "output_type": "execute_result"
    }
   ],
   "source": [
    "X_num.loc[sample_incomplete_rows.index.values]"
   ]
  },
  {
   "cell_type": "code",
   "execution_count": 0,
   "metadata": {
    "colab": {
     "base_uri": "https://localhost:8080/",
     "height": 35
    },
    "colab_type": "code",
    "executionInfo": {
     "elapsed": 398,
     "status": "ok",
     "timestamp": 1573951872431,
     "user": {
      "displayName": "Rajeev Ratan",
      "photoUrl": "https://lh3.googleusercontent.com/a-/AAuE7mCGo6aIm0tOcd5EhqWlYb0rime9sBvHS9YMpx0D2w=s64",
      "userId": "08597265227091462140"
     },
     "user_tz": 0
    },
    "id": "AdmidxW3w5P5",
    "outputId": "e75a2d0c-4a66-4521-89bd-0b90a26067dd"
   },
   "outputs": [
    {
     "data": {
      "text/plain": [
       "'median'"
      ]
     },
     "execution_count": 70,
     "metadata": {
      "tags": []
     },
     "output_type": "execute_result"
    }
   ],
   "source": [
    "imputer.strategy"
   ]
  },
  {
   "cell_type": "markdown",
   "metadata": {
    "colab_type": "text",
    "id": "ZzxQqz0iw5QD"
   },
   "source": [
    "Now let's preprocess the categorical input feature, `ocean_proximity`:"
   ]
  },
  {
   "cell_type": "code",
   "execution_count": 0,
   "metadata": {
    "colab": {
     "base_uri": "https://localhost:8080/",
     "height": 355
    },
    "colab_type": "code",
    "executionInfo": {
     "elapsed": 482,
     "status": "ok",
     "timestamp": 1573951907765,
     "user": {
      "displayName": "Rajeev Ratan",
      "photoUrl": "https://lh3.googleusercontent.com/a-/AAuE7mCGo6aIm0tOcd5EhqWlYb0rime9sBvHS9YMpx0D2w=s64",
      "userId": "08597265227091462140"
     },
     "user_tz": 0
    },
    "id": "ZwC3xBx2w5QE",
    "outputId": "58e59cc3-099a-4bb4-8305-d9fda632e62e"
   },
   "outputs": [
    {
     "data": {
      "text/html": [
       "<div>\n",
       "<style scoped>\n",
       "    .dataframe tbody tr th:only-of-type {\n",
       "        vertical-align: middle;\n",
       "    }\n",
       "\n",
       "    .dataframe tbody tr th {\n",
       "        vertical-align: top;\n",
       "    }\n",
       "\n",
       "    .dataframe thead th {\n",
       "        text-align: right;\n",
       "    }\n",
       "</style>\n",
       "<table border=\"1\" class=\"dataframe\">\n",
       "  <thead>\n",
       "    <tr style=\"text-align: right;\">\n",
       "      <th></th>\n",
       "      <th>city</th>\n",
       "      <th>property_type</th>\n",
       "      <th>room_type</th>\n",
       "      <th>cancellation_policy</th>\n",
       "    </tr>\n",
       "  </thead>\n",
       "  <tbody>\n",
       "    <tr>\n",
       "      <th>5484</th>\n",
       "      <td>Newtown</td>\n",
       "      <td>House</td>\n",
       "      <td>Entire home/apt</td>\n",
       "      <td>moderate</td>\n",
       "    </tr>\n",
       "    <tr>\n",
       "      <th>1267</th>\n",
       "      <td>Randwick</td>\n",
       "      <td>Apartment</td>\n",
       "      <td>Private room</td>\n",
       "      <td>moderate</td>\n",
       "    </tr>\n",
       "    <tr>\n",
       "      <th>6658</th>\n",
       "      <td>Manly</td>\n",
       "      <td>Apartment</td>\n",
       "      <td>Entire home/apt</td>\n",
       "      <td>strict_14_with_grace_period</td>\n",
       "    </tr>\n",
       "    <tr>\n",
       "      <th>2522</th>\n",
       "      <td>Randwick</td>\n",
       "      <td>Apartment</td>\n",
       "      <td>Private room</td>\n",
       "      <td>flexible</td>\n",
       "    </tr>\n",
       "    <tr>\n",
       "      <th>722</th>\n",
       "      <td>Coogee</td>\n",
       "      <td>Apartment</td>\n",
       "      <td>Private room</td>\n",
       "      <td>strict_14_with_grace_period</td>\n",
       "    </tr>\n",
       "    <tr>\n",
       "      <th>3150</th>\n",
       "      <td>Manly</td>\n",
       "      <td>Apartment</td>\n",
       "      <td>Entire home/apt</td>\n",
       "      <td>strict_14_with_grace_period</td>\n",
       "    </tr>\n",
       "    <tr>\n",
       "      <th>2865</th>\n",
       "      <td>Surry Hills</td>\n",
       "      <td>Apartment</td>\n",
       "      <td>Entire home/apt</td>\n",
       "      <td>strict_14_with_grace_period</td>\n",
       "    </tr>\n",
       "    <tr>\n",
       "      <th>4906</th>\n",
       "      <td>Bondi Beach</td>\n",
       "      <td>Apartment</td>\n",
       "      <td>Entire home/apt</td>\n",
       "      <td>strict_14_with_grace_period</td>\n",
       "    </tr>\n",
       "    <tr>\n",
       "      <th>575</th>\n",
       "      <td>Coogee</td>\n",
       "      <td>Apartment</td>\n",
       "      <td>Entire home/apt</td>\n",
       "      <td>strict_14_with_grace_period</td>\n",
       "    </tr>\n",
       "    <tr>\n",
       "      <th>5827</th>\n",
       "      <td>Newtown</td>\n",
       "      <td>House</td>\n",
       "      <td>Private room</td>\n",
       "      <td>flexible</td>\n",
       "    </tr>\n",
       "  </tbody>\n",
       "</table>\n",
       "</div>"
      ],
      "text/plain": [
       "             city property_type        room_type          cancellation_policy\n",
       "5484      Newtown         House  Entire home/apt                     moderate\n",
       "1267     Randwick     Apartment     Private room                     moderate\n",
       "6658        Manly     Apartment  Entire home/apt  strict_14_with_grace_period\n",
       "2522     Randwick     Apartment     Private room                     flexible\n",
       "722        Coogee     Apartment     Private room  strict_14_with_grace_period\n",
       "3150        Manly     Apartment  Entire home/apt  strict_14_with_grace_period\n",
       "2865  Surry Hills     Apartment  Entire home/apt  strict_14_with_grace_period\n",
       "4906  Bondi Beach     Apartment  Entire home/apt  strict_14_with_grace_period\n",
       "575        Coogee     Apartment  Entire home/apt  strict_14_with_grace_period\n",
       "5827      Newtown         House     Private room                     flexible"
      ]
     },
     "execution_count": 72,
     "metadata": {
      "tags": []
     },
     "output_type": "execute_result"
    }
   ],
   "source": [
    "X_cat = X.select_dtypes(include=[object])\n",
    "X_cat.head(10)"
   ]
  },
  {
   "cell_type": "code",
   "execution_count": 0,
   "metadata": {
    "colab": {},
    "colab_type": "code",
    "id": "s9bBi-cIw5QJ"
   },
   "outputs": [],
   "source": [
    "from sklearn.preprocessing import OrdinalEncoder"
   ]
  },
  {
   "cell_type": "code",
   "execution_count": 0,
   "metadata": {
    "colab": {
     "base_uri": "https://localhost:8080/",
     "height": 202
    },
    "colab_type": "code",
    "executionInfo": {
     "elapsed": 410,
     "status": "ok",
     "timestamp": 1573951921906,
     "user": {
      "displayName": "Rajeev Ratan",
      "photoUrl": "https://lh3.googleusercontent.com/a-/AAuE7mCGo6aIm0tOcd5EhqWlYb0rime9sBvHS9YMpx0D2w=s64",
      "userId": "08597265227091462140"
     },
     "user_tz": 0
    },
    "id": "1k2uHTfww5QM",
    "outputId": "04e742be-5fd9-41ae-c34b-2d1a37b3c38d"
   },
   "outputs": [
    {
     "data": {
      "text/html": [
       "<div>\n",
       "<style scoped>\n",
       "    .dataframe tbody tr th:only-of-type {\n",
       "        vertical-align: middle;\n",
       "    }\n",
       "\n",
       "    .dataframe tbody tr th {\n",
       "        vertical-align: top;\n",
       "    }\n",
       "\n",
       "    .dataframe thead th {\n",
       "        text-align: right;\n",
       "    }\n",
       "</style>\n",
       "<table border=\"1\" class=\"dataframe\">\n",
       "  <thead>\n",
       "    <tr style=\"text-align: right;\">\n",
       "      <th></th>\n",
       "      <th>city</th>\n",
       "      <th>property_type</th>\n",
       "      <th>room_type</th>\n",
       "      <th>cancellation_policy</th>\n",
       "    </tr>\n",
       "  </thead>\n",
       "  <tbody>\n",
       "    <tr>\n",
       "      <th>5484</th>\n",
       "      <td>Newtown</td>\n",
       "      <td>House</td>\n",
       "      <td>Entire home/apt</td>\n",
       "      <td>moderate</td>\n",
       "    </tr>\n",
       "    <tr>\n",
       "      <th>1267</th>\n",
       "      <td>Randwick</td>\n",
       "      <td>Apartment</td>\n",
       "      <td>Private room</td>\n",
       "      <td>moderate</td>\n",
       "    </tr>\n",
       "    <tr>\n",
       "      <th>6658</th>\n",
       "      <td>Manly</td>\n",
       "      <td>Apartment</td>\n",
       "      <td>Entire home/apt</td>\n",
       "      <td>strict_14_with_grace_period</td>\n",
       "    </tr>\n",
       "    <tr>\n",
       "      <th>2522</th>\n",
       "      <td>Randwick</td>\n",
       "      <td>Apartment</td>\n",
       "      <td>Private room</td>\n",
       "      <td>flexible</td>\n",
       "    </tr>\n",
       "    <tr>\n",
       "      <th>722</th>\n",
       "      <td>Coogee</td>\n",
       "      <td>Apartment</td>\n",
       "      <td>Private room</td>\n",
       "      <td>strict_14_with_grace_period</td>\n",
       "    </tr>\n",
       "  </tbody>\n",
       "</table>\n",
       "</div>"
      ],
      "text/plain": [
       "          city property_type        room_type          cancellation_policy\n",
       "5484   Newtown         House  Entire home/apt                     moderate\n",
       "1267  Randwick     Apartment     Private room                     moderate\n",
       "6658     Manly     Apartment  Entire home/apt  strict_14_with_grace_period\n",
       "2522  Randwick     Apartment     Private room                     flexible\n",
       "722     Coogee     Apartment     Private room  strict_14_with_grace_period"
      ]
     },
     "execution_count": 74,
     "metadata": {
      "tags": []
     },
     "output_type": "execute_result"
    }
   ],
   "source": [
    "X_cat.head()"
   ]
  },
  {
   "cell_type": "code",
   "execution_count": 0,
   "metadata": {
    "colab": {
     "base_uri": "https://localhost:8080/",
     "height": 191
    },
    "colab_type": "code",
    "executionInfo": {
     "elapsed": 382,
     "status": "ok",
     "timestamp": 1573951929320,
     "user": {
      "displayName": "Rajeev Ratan",
      "photoUrl": "https://lh3.googleusercontent.com/a-/AAuE7mCGo6aIm0tOcd5EhqWlYb0rime9sBvHS9YMpx0D2w=s64",
      "userId": "08597265227091462140"
     },
     "user_tz": 0
    },
    "id": "zNdyufW6w5QX",
    "outputId": "cf366448-fe3d-44e4-ccad-722be625304e"
   },
   "outputs": [
    {
     "data": {
      "text/plain": [
       "array([[5., 6., 0., 1.],\n",
       "       [7., 0., 1., 1.],\n",
       "       [4., 0., 0., 2.],\n",
       "       [7., 0., 1., 0.],\n",
       "       [2., 0., 1., 2.],\n",
       "       [4., 0., 0., 2.],\n",
       "       [8., 0., 0., 2.],\n",
       "       [1., 0., 0., 2.],\n",
       "       [2., 0., 0., 2.],\n",
       "       [5., 6., 1., 0.]])"
      ]
     },
     "execution_count": 75,
     "metadata": {
      "tags": []
     },
     "output_type": "execute_result"
    }
   ],
   "source": [
    "ordinal_encoder = OrdinalEncoder()\n",
    "X_cat_enc = ordinal_encoder.fit_transform(X_cat)\n",
    "X_cat_enc[:10]"
   ]
  },
  {
   "cell_type": "code",
   "execution_count": 0,
   "metadata": {
    "colab": {
     "base_uri": "https://localhost:8080/",
     "height": 173
    },
    "colab_type": "code",
    "executionInfo": {
     "elapsed": 428,
     "status": "ok",
     "timestamp": 1573951934494,
     "user": {
      "displayName": "Rajeev Ratan",
      "photoUrl": "https://lh3.googleusercontent.com/a-/AAuE7mCGo6aIm0tOcd5EhqWlYb0rime9sBvHS9YMpx0D2w=s64",
      "userId": "08597265227091462140"
     },
     "user_tz": 0
    },
    "id": "b47WGxuuw5Qh",
    "outputId": "e174896f-98c2-4a63-d7c0-e349d15f10a3"
   },
   "outputs": [
    {
     "data": {
      "text/plain": [
       "[array(['Bondi', 'Bondi Beach', 'Coogee', 'Darlinghurst', 'Manly',\n",
       "        'Newtown', 'North Bondi', 'Randwick', 'Surry Hills', 'Sydney'],\n",
       "       dtype=object),\n",
       " array(['Apartment', 'Bed and breakfast', 'Condominium', 'Guest suite',\n",
       "        'Guesthouse', 'Hostel', 'House', 'Loft', 'Other',\n",
       "        'Serviced apartment', 'Townhouse', 'Villa'], dtype=object),\n",
       " array(['Entire home/apt', 'Private room', 'Shared room'], dtype=object),\n",
       " array(['flexible', 'moderate', 'strict_14_with_grace_period',\n",
       "        'super_strict_60'], dtype=object)]"
      ]
     },
     "execution_count": 76,
     "metadata": {
      "tags": []
     },
     "output_type": "execute_result"
    }
   ],
   "source": [
    "ordinal_encoder.categories_"
   ]
  },
  {
   "cell_type": "code",
   "execution_count": 0,
   "metadata": {
    "colab": {
     "base_uri": "https://localhost:8080/",
     "height": 52
    },
    "colab_type": "code",
    "executionInfo": {
     "elapsed": 395,
     "status": "ok",
     "timestamp": 1573951946326,
     "user": {
      "displayName": "Rajeev Ratan",
      "photoUrl": "https://lh3.googleusercontent.com/a-/AAuE7mCGo6aIm0tOcd5EhqWlYb0rime9sBvHS9YMpx0D2w=s64",
      "userId": "08597265227091462140"
     },
     "user_tz": 0
    },
    "id": "cG-V0NPaw5Qq",
    "outputId": "0db50ed2-041a-4f01-f9dd-1a55afede030"
   },
   "outputs": [
    {
     "data": {
      "text/plain": [
       "<6485x29 sparse matrix of type '<class 'numpy.float64'>'\n",
       "\twith 25940 stored elements in Compressed Sparse Row format>"
      ]
     },
     "execution_count": 77,
     "metadata": {
      "tags": []
     },
     "output_type": "execute_result"
    }
   ],
   "source": [
    "from sklearn.preprocessing import OneHotEncoder\n",
    "\n",
    "cat_encoder = OneHotEncoder()\n",
    "X_cat_1hot = cat_encoder.fit_transform(X_cat)\n",
    "X_cat_1hot"
   ]
  },
  {
   "cell_type": "markdown",
   "metadata": {
    "colab_type": "text",
    "id": "VSbE62pNw5Q8"
   },
   "source": [
    "By default, the `OneHotEncoder` class returns a sparse array, but we can convert it to a dense array if needed by calling the `toarray()` method:"
   ]
  },
  {
   "cell_type": "code",
   "execution_count": 0,
   "metadata": {
    "colab": {
     "base_uri": "https://localhost:8080/",
     "height": 139
    },
    "colab_type": "code",
    "executionInfo": {
     "elapsed": 388,
     "status": "ok",
     "timestamp": 1573951949798,
     "user": {
      "displayName": "Rajeev Ratan",
      "photoUrl": "https://lh3.googleusercontent.com/a-/AAuE7mCGo6aIm0tOcd5EhqWlYb0rime9sBvHS9YMpx0D2w=s64",
      "userId": "08597265227091462140"
     },
     "user_tz": 0
    },
    "id": "wse7kfOJw5Q_",
    "outputId": "f0926a41-c7fc-4e9a-8397-a3025e389bdd"
   },
   "outputs": [
    {
     "data": {
      "text/plain": [
       "array([[0., 0., 0., ..., 1., 0., 0.],\n",
       "       [0., 0., 0., ..., 1., 0., 0.],\n",
       "       [0., 0., 0., ..., 0., 1., 0.],\n",
       "       ...,\n",
       "       [1., 0., 0., ..., 1., 0., 0.],\n",
       "       [0., 0., 0., ..., 0., 1., 0.],\n",
       "       [0., 0., 1., ..., 0., 1., 0.]])"
      ]
     },
     "execution_count": 78,
     "metadata": {
      "tags": []
     },
     "output_type": "execute_result"
    }
   ],
   "source": [
    "X_cat_1hot.toarray()"
   ]
  },
  {
   "cell_type": "markdown",
   "metadata": {
    "colab_type": "text",
    "id": "Czb3Sc58w5RP"
   },
   "source": [
    "Alternatively, you can set `sparse=False` when creating the `OneHotEncoder`:"
   ]
  },
  {
   "cell_type": "code",
   "execution_count": 0,
   "metadata": {
    "colab": {
     "base_uri": "https://localhost:8080/",
     "height": 139
    },
    "colab_type": "code",
    "executionInfo": {
     "elapsed": 483,
     "status": "ok",
     "timestamp": 1573952032658,
     "user": {
      "displayName": "Rajeev Ratan",
      "photoUrl": "https://lh3.googleusercontent.com/a-/AAuE7mCGo6aIm0tOcd5EhqWlYb0rime9sBvHS9YMpx0D2w=s64",
      "userId": "08597265227091462140"
     },
     "user_tz": 0
    },
    "id": "MPvz38hvw5RQ",
    "outputId": "9ac324f3-1196-4a5c-8b9c-f7068795c027"
   },
   "outputs": [
    {
     "data": {
      "text/plain": [
       "array([[0., 0., 0., ..., 1., 0., 0.],\n",
       "       [0., 0., 0., ..., 1., 0., 0.],\n",
       "       [0., 0., 0., ..., 0., 1., 0.],\n",
       "       ...,\n",
       "       [1., 0., 0., ..., 1., 0., 0.],\n",
       "       [0., 0., 0., ..., 0., 1., 0.],\n",
       "       [0., 0., 1., ..., 0., 1., 0.]])"
      ]
     },
     "execution_count": 79,
     "metadata": {
      "tags": []
     },
     "output_type": "execute_result"
    }
   ],
   "source": [
    "cat_encoder = OneHotEncoder(sparse=False)\n",
    "X_cat_1hot = cat_encoder.fit_transform(X_cat)\n",
    "X_cat_1hot"
   ]
  },
  {
   "cell_type": "code",
   "execution_count": 0,
   "metadata": {
    "colab": {
     "base_uri": "https://localhost:8080/",
     "height": 173
    },
    "colab_type": "code",
    "executionInfo": {
     "elapsed": 453,
     "status": "ok",
     "timestamp": 1573168829392,
     "user": {
      "displayName": "Rajeev Ratan",
      "photoUrl": "https://lh3.googleusercontent.com/a-/AAuE7mCGo6aIm0tOcd5EhqWlYb0rime9sBvHS9YMpx0D2w=s64",
      "userId": "08597265227091462140"
     },
     "user_tz": 0
    },
    "id": "_RN9A0Cbw5RY",
    "outputId": "4fcea9d7-3c4e-4834-d791-ab05c60e373f"
   },
   "outputs": [
    {
     "data": {
      "text/plain": [
       "[array(['Bondi', 'Bondi Beach', 'Coogee', 'Darlinghurst', 'Manly',\n",
       "        'Newtown', 'North Bondi', 'Randwick', 'Surry Hills', 'Sydney'],\n",
       "       dtype=object),\n",
       " array(['Apartment', 'Bed and breakfast', 'Condominium', 'Guest suite',\n",
       "        'Guesthouse', 'Hostel', 'House', 'Loft', 'Other',\n",
       "        'Serviced apartment', 'Townhouse', 'Villa'], dtype=object),\n",
       " array(['Entire home/apt', 'Private room', 'Shared room'], dtype=object),\n",
       " array(['flexible', 'moderate', 'strict_14_with_grace_period',\n",
       "        'super_strict_60'], dtype=object)]"
      ]
     },
     "execution_count": 73,
     "metadata": {
      "tags": []
     },
     "output_type": "execute_result"
    }
   ],
   "source": [
    "cat_encoder.categories_"
   ]
  },
  {
   "cell_type": "markdown",
   "metadata": {
    "colab_type": "text",
    "id": "E92-ZqWiw5Rn"
   },
   "source": [
    "Let's create a custom transformer to add extra attributes:"
   ]
  },
  {
   "cell_type": "markdown",
   "metadata": {
    "colab_type": "text",
    "id": "LDHO17Jrw5Ro"
   },
   "source": [
    "#### **Now let's create a pipeline for preprocessing that is built on the techniques we used up and till now and introduce some new pipeline techniques.**"
   ]
  },
  {
   "cell_type": "code",
   "execution_count": 0,
   "metadata": {
    "colab": {},
    "colab_type": "code",
    "id": "BTVFcERtw5Rp"
   },
   "outputs": [],
   "source": [
    "from sklearn.base import BaseEstimator, TransformerMixin\n",
    "from datetime import datetime\n",
    "numerics = ['int16', 'int32', 'int64', 'float16', 'float32', 'float64']\n",
    "\n",
    "# Receive numpy array, convert to pandas for features, convert back to array for output.\n",
    "\n",
    "class CombinedAttributesAdder(BaseEstimator, TransformerMixin):\n",
    "    def __init__(self, popularity = True, num_cols=[]): # no *args or **kargs\n",
    "        self.popularity = popularity\n",
    "    def fit(self, X, y=None):\n",
    "        return self  # nothing else to do\n",
    "    def transform(self, X, y=None):\n",
    "        \n",
    "        ### Some feature engineering\n",
    "        X = pd.DataFrame(X, columns=num_cols)\n",
    "        X[\"bedrooms_per_person\"] = X[\"bedrooms\"]/X[\"accommodates\"]\n",
    "        X[\"bathrooms_per_person\"] = X[\"bathrooms\"]/X[\"accommodates\"]\n",
    "        \n",
    "        global feats\n",
    "        feats = [\"bedrooms_per_person\",\"bathrooms_per_person\"]\n",
    "\n",
    "        if self.popularity:\n",
    "            X[\"past_and_future_popularity\"]=X[\"number_of_reviews\"]/(X[\"availability_365\"]+1)\n",
    "            feats.append(\"past_and_future_popularity\")\n",
    "            \n",
    "            return X.values\n",
    "        else:\n",
    "            return X.values\n",
    "        "
   ]
  },
  {
   "cell_type": "code",
   "execution_count": 0,
   "metadata": {
    "colab": {
     "base_uri": "https://localhost:8080/",
     "height": 72
    },
    "colab_type": "code",
    "executionInfo": {
     "elapsed": 507,
     "status": "ok",
     "timestamp": 1573952315126,
     "user": {
      "displayName": "Rajeev Ratan",
      "photoUrl": "https://lh3.googleusercontent.com/a-/AAuE7mCGo6aIm0tOcd5EhqWlYb0rime9sBvHS9YMpx0D2w=s64",
      "userId": "08597265227091462140"
     },
     "user_tz": 0
    },
    "id": "7Z0PQD7jw5Rx",
    "outputId": "abcc452a-9174-474e-da36-84a4f936e474"
   },
   "outputs": [
    {
     "name": "stderr",
     "output_type": "stream",
     "text": [
      "/usr/local/lib/python3.6/dist-packages/sklearn/utils/deprecation.py:66: DeprecationWarning: Class Imputer is deprecated; Imputer was deprecated in version 0.20 and will be removed in 0.22. Import impute.SimpleImputer from sklearn instead.\n",
      "  warnings.warn(msg, category=DeprecationWarning)\n"
     ]
    }
   ],
   "source": [
    "from sklearn.pipeline import Pipeline\n",
    "from sklearn.preprocessing import StandardScaler\n",
    "\n",
    "strat_train_set2 = strat_train_set.dropna()\n",
    "X = strat_train_set2.copy().drop(\"price\",axis=1)\n",
    "Y = strat_train_set2[\"price\"]\n",
    "\n",
    "num_cols = list(X.select_dtypes(include=numerics).columns)\n",
    "cat_cols = list(X.select_dtypes(include=[object]).columns)\n",
    "\n",
    "num_pipeline = Pipeline([\n",
    "        ('imputer', Imputer(strategy=\"median\")),\n",
    "        ('attribs_adder', CombinedAttributesAdder(num_cols=num_cols,popularity=True)),\n",
    "        ('std_scaler', StandardScaler()),\n",
    "    ])"
   ]
  },
  {
   "cell_type": "markdown",
   "metadata": {
    "colab_type": "text",
    "id": "3u34Imrxw5R5"
   },
   "source": [
    "**Warning**: earlier versions of the book applied different transformations to different columns using a solution based on a `DataFrameSelector` transformer and a `FeatureUnion` (see below). It is now preferable to use the `ColumnTransformer` class that will is introduced in Scikit-Learn 0.20. "
   ]
  },
  {
   "cell_type": "code",
   "execution_count": 0,
   "metadata": {
    "colab": {},
    "colab_type": "code",
    "id": "1ssxaRz7w5R6"
   },
   "outputs": [],
   "source": [
    "from sklearn.compose import ColumnTransformer\n",
    "import itertools\n",
    "\n",
    "\n",
    "numerics = ['int16', 'int32', 'int64', 'float16', 'float32', 'float64']\n",
    "\n",
    "mid_pipeline = ColumnTransformer([\n",
    "        (\"num\", num_pipeline, num_cols),\n",
    "        (\"cat\", OneHotEncoder(),cat_cols ),\n",
    "    ])"
   ]
  },
  {
   "cell_type": "code",
   "execution_count": 0,
   "metadata": {
    "colab": {
     "base_uri": "https://localhost:8080/",
     "height": 107
    },
    "colab_type": "code",
    "executionInfo": {
     "elapsed": 463,
     "status": "ok",
     "timestamp": 1573952520839,
     "user": {
      "displayName": "Rajeev Ratan",
      "photoUrl": "https://lh3.googleusercontent.com/a-/AAuE7mCGo6aIm0tOcd5EhqWlYb0rime9sBvHS9YMpx0D2w=s64",
      "userId": "08597265227091462140"
     },
     "user_tz": 0
    },
    "id": "pQwKODGow5R9",
    "outputId": "1fb7e51c-2c98-4989-c3aa-12691a903673"
   },
   "outputs": [
    {
     "name": "stderr",
     "output_type": "stream",
     "text": [
      "/usr/local/lib/python3.6/dist-packages/sklearn/utils/deprecation.py:66: DeprecationWarning: Class Imputer is deprecated; Imputer was deprecated in version 0.20 and will be removed in 0.22. Import impute.SimpleImputer from sklearn instead.\n",
      "  warnings.warn(msg, category=DeprecationWarning)\n",
      "/usr/local/lib/python3.6/dist-packages/sklearn/utils/deprecation.py:66: DeprecationWarning: Class Imputer is deprecated; Imputer was deprecated in version 0.20 and will be removed in 0.22. Import impute.SimpleImputer from sklearn instead.\n",
      "  warnings.warn(msg, category=DeprecationWarning)\n"
     ]
    }
   ],
   "source": [
    "mid_pipeline.fit(X) # this one specifically has to be fitted for the cat names\n",
    "cat_encoder = mid_pipeline.named_transformers_[\"cat\"]\n",
    "sublists = [list(bas) for bas in cat_encoder.categories_]\n",
    "one_cols = list(itertools.chain(*sublists))\n",
    "\n",
    "## In this class, I will be converting numpy back to pandas\n",
    "\n",
    "class ToPandasDF(BaseEstimator, TransformerMixin):\n",
    "    def __init__(self, fit_index = [] ): # no *args or **kargs\n",
    "        self.fit_index = fit_index\n",
    "    def fit(self, X_df, y=None):\n",
    "        return self  # nothing else to do\n",
    "    def transform(self, X_df, y=None):\n",
    "        global cols\n",
    "        cols = num_cols.copy()\n",
    "        cols.extend(feats)\n",
    "        cols.extend(one_cols) # one in place of cat\n",
    "        X_df = pd.DataFrame(X_df, columns=cols,index=self.fit_index)\n",
    "\n",
    "        return X_df\n",
    "\n",
    "def pipe(inds):\n",
    "    return Pipeline([\n",
    "            (\"mid\", mid_pipeline),\n",
    "            (\"PD\", ToPandasDF(inds)),\n",
    "        ])\n",
    "    \n",
    "params = {\"inds\" : list(X.index)}\n",
    "\n",
    "X_pr = pipe(**params).fit_transform(X) # Now we have done all the preprocessing instead of\n",
    "                                   #.. doing it bit by bit. The pipeline becomes \n",
    "                                   #.. extremely handy in the cross-validation step."
   ]
  },
  {
   "cell_type": "code",
   "execution_count": 0,
   "metadata": {
    "colab": {
     "base_uri": "https://localhost:8080/",
     "height": 239
    },
    "colab_type": "code",
    "executionInfo": {
     "elapsed": 435,
     "status": "ok",
     "timestamp": 1573952524469,
     "user": {
      "displayName": "Rajeev Ratan",
      "photoUrl": "https://lh3.googleusercontent.com/a-/AAuE7mCGo6aIm0tOcd5EhqWlYb0rime9sBvHS9YMpx0D2w=s64",
      "userId": "08597265227091462140"
     },
     "user_tz": 0
    },
    "id": "qJvFJgXu_as-",
    "outputId": "ecfabbfd-33e2-47e5-f48a-9b882b1107f0"
   },
   "outputs": [
    {
     "data": {
      "text/html": [
       "<div>\n",
       "<style scoped>\n",
       "    .dataframe tbody tr th:only-of-type {\n",
       "        vertical-align: middle;\n",
       "    }\n",
       "\n",
       "    .dataframe tbody tr th {\n",
       "        vertical-align: top;\n",
       "    }\n",
       "\n",
       "    .dataframe thead th {\n",
       "        text-align: right;\n",
       "    }\n",
       "</style>\n",
       "<table border=\"1\" class=\"dataframe\">\n",
       "  <thead>\n",
       "    <tr style=\"text-align: right;\">\n",
       "      <th></th>\n",
       "      <th>longitude</th>\n",
       "      <th>latitude</th>\n",
       "      <th>review_scores_rating</th>\n",
       "      <th>number_of_reviews</th>\n",
       "      <th>minimum_nights</th>\n",
       "      <th>security_deposit</th>\n",
       "      <th>cleaning_fee</th>\n",
       "      <th>accommodates</th>\n",
       "      <th>bathrooms</th>\n",
       "      <th>bedrooms</th>\n",
       "      <th>beds</th>\n",
       "      <th>availability_365</th>\n",
       "      <th>host_identity_verified</th>\n",
       "      <th>host_is_superhost</th>\n",
       "      <th>bedrooms_per_person</th>\n",
       "      <th>bathrooms_per_person</th>\n",
       "      <th>past_and_future_popularity</th>\n",
       "      <th>Bondi</th>\n",
       "      <th>Bondi Beach</th>\n",
       "      <th>Coogee</th>\n",
       "      <th>Darlinghurst</th>\n",
       "      <th>Manly</th>\n",
       "      <th>Newtown</th>\n",
       "      <th>North Bondi</th>\n",
       "      <th>Randwick</th>\n",
       "      <th>Surry Hills</th>\n",
       "      <th>Sydney</th>\n",
       "      <th>Apartment</th>\n",
       "      <th>Bed and breakfast</th>\n",
       "      <th>Condominium</th>\n",
       "      <th>Guest suite</th>\n",
       "      <th>Guesthouse</th>\n",
       "      <th>Hostel</th>\n",
       "      <th>House</th>\n",
       "      <th>Loft</th>\n",
       "      <th>Other</th>\n",
       "      <th>Serviced apartment</th>\n",
       "      <th>Townhouse</th>\n",
       "      <th>Villa</th>\n",
       "      <th>Entire home/apt</th>\n",
       "      <th>Private room</th>\n",
       "      <th>Shared room</th>\n",
       "      <th>flexible</th>\n",
       "      <th>moderate</th>\n",
       "      <th>strict_14_with_grace_period</th>\n",
       "      <th>super_strict_60</th>\n",
       "    </tr>\n",
       "  </thead>\n",
       "  <tbody>\n",
       "    <tr>\n",
       "      <th>5484</th>\n",
       "      <td>-1.998871</td>\n",
       "      <td>-0.783981</td>\n",
       "      <td>0.304899</td>\n",
       "      <td>1.084616</td>\n",
       "      <td>-0.142452</td>\n",
       "      <td>-0.089243</td>\n",
       "      <td>0.214312</td>\n",
       "      <td>0.414626</td>\n",
       "      <td>-0.446702</td>\n",
       "      <td>0.633003</td>\n",
       "      <td>0.124228</td>\n",
       "      <td>0.245249</td>\n",
       "      <td>0.860056</td>\n",
       "      <td>-0.410279</td>\n",
       "      <td>0.066709</td>\n",
       "      <td>-0.812284</td>\n",
       "      <td>-0.265252</td>\n",
       "      <td>0.0</td>\n",
       "      <td>0.0</td>\n",
       "      <td>0.0</td>\n",
       "      <td>0.0</td>\n",
       "      <td>0.0</td>\n",
       "      <td>1.0</td>\n",
       "      <td>0.0</td>\n",
       "      <td>0.0</td>\n",
       "      <td>0.0</td>\n",
       "      <td>0.0</td>\n",
       "      <td>0.0</td>\n",
       "      <td>0.0</td>\n",
       "      <td>0.0</td>\n",
       "      <td>0.0</td>\n",
       "      <td>0.0</td>\n",
       "      <td>0.0</td>\n",
       "      <td>1.0</td>\n",
       "      <td>0.0</td>\n",
       "      <td>0.0</td>\n",
       "      <td>0.0</td>\n",
       "      <td>0.0</td>\n",
       "      <td>0.0</td>\n",
       "      <td>1.0</td>\n",
       "      <td>0.0</td>\n",
       "      <td>0.0</td>\n",
       "      <td>0.0</td>\n",
       "      <td>1.0</td>\n",
       "      <td>0.0</td>\n",
       "      <td>0.0</td>\n",
       "    </tr>\n",
       "    <tr>\n",
       "      <th>1267</th>\n",
       "      <td>0.094447</td>\n",
       "      <td>-0.756122</td>\n",
       "      <td>0.413560</td>\n",
       "      <td>-0.402834</td>\n",
       "      <td>-0.022353</td>\n",
       "      <td>-0.594668</td>\n",
       "      <td>-0.694888</td>\n",
       "      <td>-0.669371</td>\n",
       "      <td>-0.446702</td>\n",
       "      <td>-0.499778</td>\n",
       "      <td>-0.641574</td>\n",
       "      <td>-0.798199</td>\n",
       "      <td>0.860056</td>\n",
       "      <td>-0.410279</td>\n",
       "      <td>0.066709</td>\n",
       "      <td>0.127492</td>\n",
       "      <td>0.297268</td>\n",
       "      <td>0.0</td>\n",
       "      <td>0.0</td>\n",
       "      <td>0.0</td>\n",
       "      <td>0.0</td>\n",
       "      <td>0.0</td>\n",
       "      <td>0.0</td>\n",
       "      <td>0.0</td>\n",
       "      <td>1.0</td>\n",
       "      <td>0.0</td>\n",
       "      <td>0.0</td>\n",
       "      <td>1.0</td>\n",
       "      <td>0.0</td>\n",
       "      <td>0.0</td>\n",
       "      <td>0.0</td>\n",
       "      <td>0.0</td>\n",
       "      <td>0.0</td>\n",
       "      <td>0.0</td>\n",
       "      <td>0.0</td>\n",
       "      <td>0.0</td>\n",
       "      <td>0.0</td>\n",
       "      <td>0.0</td>\n",
       "      <td>0.0</td>\n",
       "      <td>0.0</td>\n",
       "      <td>1.0</td>\n",
       "      <td>0.0</td>\n",
       "      <td>0.0</td>\n",
       "      <td>1.0</td>\n",
       "      <td>0.0</td>\n",
       "      <td>0.0</td>\n",
       "    </tr>\n",
       "    <tr>\n",
       "      <th>6658</th>\n",
       "      <td>1.266501</td>\n",
       "      <td>2.266244</td>\n",
       "      <td>0.739541</td>\n",
       "      <td>-0.511012</td>\n",
       "      <td>-0.142452</td>\n",
       "      <td>-0.594668</td>\n",
       "      <td>-0.415134</td>\n",
       "      <td>-0.669371</td>\n",
       "      <td>-0.446702</td>\n",
       "      <td>-0.499778</td>\n",
       "      <td>-0.641574</td>\n",
       "      <td>-0.798199</td>\n",
       "      <td>0.860056</td>\n",
       "      <td>-0.410279</td>\n",
       "      <td>0.066709</td>\n",
       "      <td>0.127492</td>\n",
       "      <td>-0.110102</td>\n",
       "      <td>0.0</td>\n",
       "      <td>0.0</td>\n",
       "      <td>0.0</td>\n",
       "      <td>0.0</td>\n",
       "      <td>1.0</td>\n",
       "      <td>0.0</td>\n",
       "      <td>0.0</td>\n",
       "      <td>0.0</td>\n",
       "      <td>0.0</td>\n",
       "      <td>0.0</td>\n",
       "      <td>1.0</td>\n",
       "      <td>0.0</td>\n",
       "      <td>0.0</td>\n",
       "      <td>0.0</td>\n",
       "      <td>0.0</td>\n",
       "      <td>0.0</td>\n",
       "      <td>0.0</td>\n",
       "      <td>0.0</td>\n",
       "      <td>0.0</td>\n",
       "      <td>0.0</td>\n",
       "      <td>0.0</td>\n",
       "      <td>0.0</td>\n",
       "      <td>1.0</td>\n",
       "      <td>0.0</td>\n",
       "      <td>0.0</td>\n",
       "      <td>0.0</td>\n",
       "      <td>0.0</td>\n",
       "      <td>1.0</td>\n",
       "      <td>0.0</td>\n",
       "    </tr>\n",
       "    <tr>\n",
       "      <th>2522</th>\n",
       "      <td>-0.280005</td>\n",
       "      <td>-0.971618</td>\n",
       "      <td>0.087578</td>\n",
       "      <td>-0.024210</td>\n",
       "      <td>-0.082403</td>\n",
       "      <td>-0.594668</td>\n",
       "      <td>-0.974641</td>\n",
       "      <td>-0.669371</td>\n",
       "      <td>-0.446702</td>\n",
       "      <td>-0.499778</td>\n",
       "      <td>-0.641574</td>\n",
       "      <td>-0.058748</td>\n",
       "      <td>-1.162716</td>\n",
       "      <td>-0.410279</td>\n",
       "      <td>0.066709</td>\n",
       "      <td>0.127492</td>\n",
       "      <td>-0.291403</td>\n",
       "      <td>0.0</td>\n",
       "      <td>0.0</td>\n",
       "      <td>0.0</td>\n",
       "      <td>0.0</td>\n",
       "      <td>0.0</td>\n",
       "      <td>0.0</td>\n",
       "      <td>0.0</td>\n",
       "      <td>1.0</td>\n",
       "      <td>0.0</td>\n",
       "      <td>0.0</td>\n",
       "      <td>1.0</td>\n",
       "      <td>0.0</td>\n",
       "      <td>0.0</td>\n",
       "      <td>0.0</td>\n",
       "      <td>0.0</td>\n",
       "      <td>0.0</td>\n",
       "      <td>0.0</td>\n",
       "      <td>0.0</td>\n",
       "      <td>0.0</td>\n",
       "      <td>0.0</td>\n",
       "      <td>0.0</td>\n",
       "      <td>0.0</td>\n",
       "      <td>0.0</td>\n",
       "      <td>1.0</td>\n",
       "      <td>0.0</td>\n",
       "      <td>1.0</td>\n",
       "      <td>0.0</td>\n",
       "      <td>0.0</td>\n",
       "      <td>0.0</td>\n",
       "    </tr>\n",
       "    <tr>\n",
       "      <th>722</th>\n",
       "      <td>0.400714</td>\n",
       "      <td>-1.111584</td>\n",
       "      <td>-0.129743</td>\n",
       "      <td>3.194089</td>\n",
       "      <td>1.538926</td>\n",
       "      <td>-0.594668</td>\n",
       "      <td>-0.974641</td>\n",
       "      <td>-0.127373</td>\n",
       "      <td>-0.446702</td>\n",
       "      <td>-0.499778</td>\n",
       "      <td>0.124228</td>\n",
       "      <td>-0.798199</td>\n",
       "      <td>0.860056</td>\n",
       "      <td>-0.410279</td>\n",
       "      <td>-0.618520</td>\n",
       "      <td>-0.499025</td>\n",
       "      <td>13.842301</td>\n",
       "      <td>0.0</td>\n",
       "      <td>0.0</td>\n",
       "      <td>1.0</td>\n",
       "      <td>0.0</td>\n",
       "      <td>0.0</td>\n",
       "      <td>0.0</td>\n",
       "      <td>0.0</td>\n",
       "      <td>0.0</td>\n",
       "      <td>0.0</td>\n",
       "      <td>0.0</td>\n",
       "      <td>1.0</td>\n",
       "      <td>0.0</td>\n",
       "      <td>0.0</td>\n",
       "      <td>0.0</td>\n",
       "      <td>0.0</td>\n",
       "      <td>0.0</td>\n",
       "      <td>0.0</td>\n",
       "      <td>0.0</td>\n",
       "      <td>0.0</td>\n",
       "      <td>0.0</td>\n",
       "      <td>0.0</td>\n",
       "      <td>0.0</td>\n",
       "      <td>0.0</td>\n",
       "      <td>1.0</td>\n",
       "      <td>0.0</td>\n",
       "      <td>0.0</td>\n",
       "      <td>0.0</td>\n",
       "      <td>1.0</td>\n",
       "      <td>0.0</td>\n",
       "    </tr>\n",
       "  </tbody>\n",
       "</table>\n",
       "</div>"
      ],
      "text/plain": [
       "      longitude  latitude  review_scores_rating  number_of_reviews  \\\n",
       "5484  -1.998871 -0.783981              0.304899           1.084616   \n",
       "1267   0.094447 -0.756122              0.413560          -0.402834   \n",
       "6658   1.266501  2.266244              0.739541          -0.511012   \n",
       "2522  -0.280005 -0.971618              0.087578          -0.024210   \n",
       "722    0.400714 -1.111584             -0.129743           3.194089   \n",
       "\n",
       "      minimum_nights  security_deposit  cleaning_fee  accommodates  bathrooms  \\\n",
       "5484       -0.142452         -0.089243      0.214312      0.414626  -0.446702   \n",
       "1267       -0.022353         -0.594668     -0.694888     -0.669371  -0.446702   \n",
       "6658       -0.142452         -0.594668     -0.415134     -0.669371  -0.446702   \n",
       "2522       -0.082403         -0.594668     -0.974641     -0.669371  -0.446702   \n",
       "722         1.538926         -0.594668     -0.974641     -0.127373  -0.446702   \n",
       "\n",
       "      bedrooms      beds  availability_365  host_identity_verified  \\\n",
       "5484  0.633003  0.124228          0.245249                0.860056   \n",
       "1267 -0.499778 -0.641574         -0.798199                0.860056   \n",
       "6658 -0.499778 -0.641574         -0.798199                0.860056   \n",
       "2522 -0.499778 -0.641574         -0.058748               -1.162716   \n",
       "722  -0.499778  0.124228         -0.798199                0.860056   \n",
       "\n",
       "      host_is_superhost  bedrooms_per_person  bathrooms_per_person  \\\n",
       "5484          -0.410279             0.066709             -0.812284   \n",
       "1267          -0.410279             0.066709              0.127492   \n",
       "6658          -0.410279             0.066709              0.127492   \n",
       "2522          -0.410279             0.066709              0.127492   \n",
       "722           -0.410279            -0.618520             -0.499025   \n",
       "\n",
       "      past_and_future_popularity  Bondi  Bondi Beach  Coogee  Darlinghurst  \\\n",
       "5484                   -0.265252    0.0          0.0     0.0           0.0   \n",
       "1267                    0.297268    0.0          0.0     0.0           0.0   \n",
       "6658                   -0.110102    0.0          0.0     0.0           0.0   \n",
       "2522                   -0.291403    0.0          0.0     0.0           0.0   \n",
       "722                    13.842301    0.0          0.0     1.0           0.0   \n",
       "\n",
       "      Manly  Newtown  North Bondi  Randwick  Surry Hills  Sydney  Apartment  \\\n",
       "5484    0.0      1.0          0.0       0.0          0.0     0.0        0.0   \n",
       "1267    0.0      0.0          0.0       1.0          0.0     0.0        1.0   \n",
       "6658    1.0      0.0          0.0       0.0          0.0     0.0        1.0   \n",
       "2522    0.0      0.0          0.0       1.0          0.0     0.0        1.0   \n",
       "722     0.0      0.0          0.0       0.0          0.0     0.0        1.0   \n",
       "\n",
       "      Bed and breakfast  Condominium  Guest suite  Guesthouse  Hostel  House  \\\n",
       "5484                0.0          0.0          0.0         0.0     0.0    1.0   \n",
       "1267                0.0          0.0          0.0         0.0     0.0    0.0   \n",
       "6658                0.0          0.0          0.0         0.0     0.0    0.0   \n",
       "2522                0.0          0.0          0.0         0.0     0.0    0.0   \n",
       "722                 0.0          0.0          0.0         0.0     0.0    0.0   \n",
       "\n",
       "      Loft  Other  Serviced apartment  Townhouse  Villa  Entire home/apt  \\\n",
       "5484   0.0    0.0                 0.0        0.0    0.0              1.0   \n",
       "1267   0.0    0.0                 0.0        0.0    0.0              0.0   \n",
       "6658   0.0    0.0                 0.0        0.0    0.0              1.0   \n",
       "2522   0.0    0.0                 0.0        0.0    0.0              0.0   \n",
       "722    0.0    0.0                 0.0        0.0    0.0              0.0   \n",
       "\n",
       "      Private room  Shared room  flexible  moderate  \\\n",
       "5484           0.0          0.0       0.0       1.0   \n",
       "1267           1.0          0.0       0.0       1.0   \n",
       "6658           0.0          0.0       0.0       0.0   \n",
       "2522           1.0          0.0       1.0       0.0   \n",
       "722            1.0          0.0       0.0       0.0   \n",
       "\n",
       "      strict_14_with_grace_period  super_strict_60  \n",
       "5484                          0.0              0.0  \n",
       "1267                          0.0              0.0  \n",
       "6658                          1.0              0.0  \n",
       "2522                          0.0              0.0  \n",
       "722                           1.0              0.0  "
      ]
     },
     "execution_count": 84,
     "metadata": {
      "tags": []
     },
     "output_type": "execute_result"
    }
   ],
   "source": [
    "X_pr.head()"
   ]
  },
  {
   "cell_type": "markdown",
   "metadata": {
    "colab_type": "text",
    "id": "jjNyCAI4w5SF"
   },
   "source": [
    "# Select and train a model "
   ]
  },
  {
   "cell_type": "code",
   "execution_count": 0,
   "metadata": {
    "colab": {
     "base_uri": "https://localhost:8080/",
     "height": 35
    },
    "colab_type": "code",
    "executionInfo": {
     "elapsed": 478,
     "status": "ok",
     "timestamp": 1573952542218,
     "user": {
      "displayName": "Rajeev Ratan",
      "photoUrl": "https://lh3.googleusercontent.com/a-/AAuE7mCGo6aIm0tOcd5EhqWlYb0rime9sBvHS9YMpx0D2w=s64",
      "userId": "08597265227091462140"
     },
     "user_tz": 0
    },
    "id": "bexu5Jxew5SG",
    "outputId": "538e47f3-a0fe-4fc6-864f-3135c78e8d48"
   },
   "outputs": [
    {
     "data": {
      "text/plain": [
       "LinearRegression(copy_X=True, fit_intercept=True, n_jobs=None, normalize=False)"
      ]
     },
     "execution_count": 85,
     "metadata": {
      "tags": []
     },
     "output_type": "execute_result"
    }
   ],
   "source": [
    "from sklearn.linear_model import LinearRegression\n",
    "Y_pr = Y.copy() # just for naming convention, _pr for processed.\n",
    "\n",
    "lin_reg = LinearRegression()\n",
    "lin_reg.fit(X_pr, Y_pr)"
   ]
  },
  {
   "cell_type": "code",
   "execution_count": 0,
   "metadata": {
    "colab": {
     "base_uri": "https://localhost:8080/",
     "height": 35
    },
    "colab_type": "code",
    "executionInfo": {
     "elapsed": 388,
     "status": "ok",
     "timestamp": 1573952554939,
     "user": {
      "displayName": "Rajeev Ratan",
      "photoUrl": "https://lh3.googleusercontent.com/a-/AAuE7mCGo6aIm0tOcd5EhqWlYb0rime9sBvHS9YMpx0D2w=s64",
      "userId": "08597265227091462140"
     },
     "user_tz": 0
    },
    "id": "nDUC_rAIw5SK",
    "outputId": "bbe44402-3d01-4e84-b36c-95a050cfd89a"
   },
   "outputs": [
    {
     "name": "stdout",
     "output_type": "stream",
     "text": [
      "Predictions: [212.94292778  47.79979448 151.23246225  44.00839484  70.92391741]\n"
     ]
    }
   ],
   "source": [
    "# let's try the full preprocessing pipeline on a few training instances\n",
    "some_data = X.iloc[:5]\n",
    "some_labels = Y.iloc[:5]\n",
    "some_data_prepared = pipe(inds=list(some_data.index)).transform(some_data)\n",
    "\n",
    "print(\"Predictions:\", lin_reg.predict(some_data_prepared))"
   ]
  },
  {
   "cell_type": "markdown",
   "metadata": {
    "colab_type": "text",
    "id": "c5A2Oz8yw5SQ"
   },
   "source": [
    "Compare against the actual values:"
   ]
  },
  {
   "cell_type": "code",
   "execution_count": 0,
   "metadata": {
    "colab": {
     "base_uri": "https://localhost:8080/",
     "height": 35
    },
    "colab_type": "code",
    "executionInfo": {
     "elapsed": 461,
     "status": "ok",
     "timestamp": 1573952571098,
     "user": {
      "displayName": "Rajeev Ratan",
      "photoUrl": "https://lh3.googleusercontent.com/a-/AAuE7mCGo6aIm0tOcd5EhqWlYb0rime9sBvHS9YMpx0D2w=s64",
      "userId": "08597265227091462140"
     },
     "user_tz": 0
    },
    "id": "frLz_Tjxw5SR",
    "outputId": "9dd11d5a-acfa-4c98-81a6-3124cec35c04"
   },
   "outputs": [
    {
     "name": "stdout",
     "output_type": "stream",
     "text": [
      "Labels: [200.0, 183.0, 175.0, 85.0, 80.0]\n"
     ]
    }
   ],
   "source": [
    "print(\"Labels:\", list(some_labels))"
   ]
  },
  {
   "cell_type": "code",
   "execution_count": 0,
   "metadata": {
    "colab": {},
    "colab_type": "code",
    "id": "F7kueKyIw5SY"
   },
   "outputs": [],
   "source": [
    "## Naturally, these metrics are not that fair, because it is insample.\n",
    "## However the first model is linear so overfitting is less likley.\n",
    "## We will deal with out of sample validation later on. "
   ]
  },
  {
   "cell_type": "code",
   "execution_count": 0,
   "metadata": {
    "colab": {
     "base_uri": "https://localhost:8080/",
     "height": 35
    },
    "colab_type": "code",
    "executionInfo": {
     "elapsed": 389,
     "status": "ok",
     "timestamp": 1573952618528,
     "user": {
      "displayName": "Rajeev Ratan",
      "photoUrl": "https://lh3.googleusercontent.com/a-/AAuE7mCGo6aIm0tOcd5EhqWlYb0rime9sBvHS9YMpx0D2w=s64",
      "userId": "08597265227091462140"
     },
     "user_tz": 0
    },
    "id": "ZibYqcsDw5Sb",
    "outputId": "a51330e6-1df4-4e90-e532-6127162c2e0e"
   },
   "outputs": [
    {
     "data": {
      "text/plain": [
       "94.03600601236073"
      ]
     },
     "execution_count": 88,
     "metadata": {
      "tags": []
     },
     "output_type": "execute_result"
    }
   ],
   "source": [
    "from sklearn.metrics import mean_squared_error, mean_absolute_error\n",
    "\n",
    "X_pred = lin_reg.predict(X_pr)\n",
    "lin_mse = mean_squared_error(Y, X_pred)\n",
    "lin_rmse = np.sqrt(lin_mse)\n",
    "lin_rmse"
   ]
  },
  {
   "cell_type": "code",
   "execution_count": 0,
   "metadata": {
    "colab": {
     "base_uri": "https://localhost:8080/",
     "height": 35
    },
    "colab_type": "code",
    "executionInfo": {
     "elapsed": 425,
     "status": "ok",
     "timestamp": 1573952629105,
     "user": {
      "displayName": "Rajeev Ratan",
      "photoUrl": "https://lh3.googleusercontent.com/a-/AAuE7mCGo6aIm0tOcd5EhqWlYb0rime9sBvHS9YMpx0D2w=s64",
      "userId": "08597265227091462140"
     },
     "user_tz": 0
    },
    "id": "9CnEnTcnw5Sg",
    "outputId": "afc946b9-1992-43f4-def0-97baab2ef226"
   },
   "outputs": [
    {
     "data": {
      "text/plain": [
       "60.091434203202645"
      ]
     },
     "execution_count": 89,
     "metadata": {
      "tags": []
     },
     "output_type": "execute_result"
    }
   ],
   "source": [
    "from sklearn.metrics import mean_absolute_error\n",
    "\n",
    "lin_mae = mean_absolute_error(Y, X_pred)\n",
    "lin_mae"
   ]
  },
  {
   "cell_type": "code",
   "execution_count": 0,
   "metadata": {
    "colab": {
     "base_uri": "https://localhost:8080/",
     "height": 104
    },
    "colab_type": "code",
    "executionInfo": {
     "elapsed": 468,
     "status": "ok",
     "timestamp": 1573952635918,
     "user": {
      "displayName": "Rajeev Ratan",
      "photoUrl": "https://lh3.googleusercontent.com/a-/AAuE7mCGo6aIm0tOcd5EhqWlYb0rime9sBvHS9YMpx0D2w=s64",
      "userId": "08597265227091462140"
     },
     "user_tz": 0
    },
    "id": "7DBl7-UGw5So",
    "outputId": "9b0abec9-9cb1-4ada-c16b-1411cf7f8424"
   },
   "outputs": [
    {
     "data": {
      "text/plain": [
       "DecisionTreeRegressor(criterion='mse', max_depth=None, max_features=None,\n",
       "                      max_leaf_nodes=None, min_impurity_decrease=0.0,\n",
       "                      min_impurity_split=None, min_samples_leaf=1,\n",
       "                      min_samples_split=2, min_weight_fraction_leaf=0.0,\n",
       "                      presort=False, random_state=42, splitter='best')"
      ]
     },
     "execution_count": 90,
     "metadata": {
      "tags": []
     },
     "output_type": "execute_result"
    }
   ],
   "source": [
    "from sklearn.tree import DecisionTreeRegressor\n",
    "\n",
    "tree_reg = DecisionTreeRegressor(random_state=42)\n",
    "tree_reg.fit(X_pr, Y)"
   ]
  },
  {
   "cell_type": "code",
   "execution_count": 0,
   "metadata": {
    "colab": {
     "base_uri": "https://localhost:8080/",
     "height": 35
    },
    "colab_type": "code",
    "executionInfo": {
     "elapsed": 425,
     "status": "ok",
     "timestamp": 1573952638260,
     "user": {
      "displayName": "Rajeev Ratan",
      "photoUrl": "https://lh3.googleusercontent.com/a-/AAuE7mCGo6aIm0tOcd5EhqWlYb0rime9sBvHS9YMpx0D2w=s64",
      "userId": "08597265227091462140"
     },
     "user_tz": 0
    },
    "id": "-ls5NvMCw5Su",
    "outputId": "cbcf3807-2201-40d5-9f8b-721964e22efb"
   },
   "outputs": [
    {
     "data": {
      "text/plain": [
       "0.0"
      ]
     },
     "execution_count": 91,
     "metadata": {
      "tags": []
     },
     "output_type": "execute_result"
    }
   ],
   "source": [
    "X_pred = tree_reg.predict(X_pr)\n",
    "tree_mse = mean_squared_error(Y, X_pred)\n",
    "tree_rmse = np.sqrt(tree_mse)\n",
    "tree_rmse  ## Model is complex and overfits."
   ]
  },
  {
   "cell_type": "markdown",
   "metadata": {
    "colab_type": "text",
    "id": "H4E18Mu_w5S0"
   },
   "source": [
    "# Fine-tune your model"
   ]
  },
  {
   "cell_type": "code",
   "execution_count": 0,
   "metadata": {
    "colab": {},
    "colab_type": "code",
    "id": "iYD-lPbNw5S1"
   },
   "outputs": [],
   "source": [
    "from sklearn.model_selection import cross_val_score\n",
    "\n",
    "scores = cross_val_score(DecisionTreeRegressor(random_state=42), X_pr, Y,\n",
    "                         scoring=\"neg_mean_squared_error\", cv=10)\n",
    "tree_rmse_scores = np.sqrt(-scores)"
   ]
  },
  {
   "cell_type": "code",
   "execution_count": 0,
   "metadata": {
    "colab": {
     "base_uri": "https://localhost:8080/",
     "height": 87
    },
    "colab_type": "code",
    "executionInfo": {
     "elapsed": 368,
     "status": "ok",
     "timestamp": 1573952657182,
     "user": {
      "displayName": "Rajeev Ratan",
      "photoUrl": "https://lh3.googleusercontent.com/a-/AAuE7mCGo6aIm0tOcd5EhqWlYb0rime9sBvHS9YMpx0D2w=s64",
      "userId": "08597265227091462140"
     },
     "user_tz": 0
    },
    "id": "mY4F8kbow5S5",
    "outputId": "abff91df-3475-46a5-9c9c-009a58046aae"
   },
   "outputs": [
    {
     "name": "stdout",
     "output_type": "stream",
     "text": [
      "Scores: [143.18476292 129.24201691 107.55438947 107.60241316 121.71501021\n",
      " 148.4201201  130.79934231 122.90396501 119.49041552 106.97385654]\n",
      "Mean: 123.78862921531386\n",
      "Standard deviation: 13.760987461932066\n"
     ]
    }
   ],
   "source": [
    "def display_scores(scores):\n",
    "    print(\"Scores:\", scores)\n",
    "    print(\"Mean:\", scores.mean())\n",
    "    print(\"Standard deviation:\", scores.std())\n",
    "\n",
    "display_scores(tree_rmse_scores)"
   ]
  },
  {
   "cell_type": "code",
   "execution_count": 0,
   "metadata": {
    "colab": {
     "base_uri": "https://localhost:8080/",
     "height": 87
    },
    "colab_type": "code",
    "executionInfo": {
     "elapsed": 611,
     "status": "ok",
     "timestamp": 1573952710805,
     "user": {
      "displayName": "Rajeev Ratan",
      "photoUrl": "https://lh3.googleusercontent.com/a-/AAuE7mCGo6aIm0tOcd5EhqWlYb0rime9sBvHS9YMpx0D2w=s64",
      "userId": "08597265227091462140"
     },
     "user_tz": 0
    },
    "id": "Yr_AG4xDw5S-",
    "outputId": "84eeca17-145e-4172-ef47-7dc1b5d977ed"
   },
   "outputs": [
    {
     "name": "stdout",
     "output_type": "stream",
     "text": [
      "Scores: [8.25759572 7.8060109  8.00665993 7.69062181 7.81264019 7.81550975\n",
      " 7.83848569 7.47819323 7.50847731 7.80135161]\n",
      "Mean: 7.8015546138946466\n",
      "Standard deviation: 0.21319148804200785\n"
     ]
    }
   ],
   "source": [
    "lin_scores = cross_val_score(LinearRegression(), X_pr, Y,\n",
    "                             scoring=\"neg_mean_absolute_error\", cv=10)\n",
    "lin_rmse_scores = np.sqrt(-lin_scores)\n",
    "display_scores(lin_rmse_scores)\n",
    "## bad performance, might need some regularisation."
   ]
  },
  {
   "cell_type": "code",
   "execution_count": 0,
   "metadata": {
    "colab": {
     "base_uri": "https://localhost:8080/",
     "height": 193
    },
    "colab_type": "code",
    "executionInfo": {
     "elapsed": 864,
     "status": "ok",
     "timestamp": 1573952739556,
     "user": {
      "displayName": "Rajeev Ratan",
      "photoUrl": "https://lh3.googleusercontent.com/a-/AAuE7mCGo6aIm0tOcd5EhqWlYb0rime9sBvHS9YMpx0D2w=s64",
      "userId": "08597265227091462140"
     },
     "user_tz": 0
    },
    "id": "49Khr1V3w5TE",
    "outputId": "6d353ed3-fe14-4a19-8b65-2e285f619e12"
   },
   "outputs": [
    {
     "name": "stderr",
     "output_type": "stream",
     "text": [
      "/usr/local/lib/python3.6/dist-packages/sklearn/ensemble/forest.py:245: FutureWarning: The default value of n_estimators will change from 10 in version 0.20 to 100 in 0.22.\n",
      "  \"10 in version 0.20 to 100 in 0.22.\", FutureWarning)\n"
     ]
    },
    {
     "data": {
      "text/plain": [
       "RandomForestRegressor(bootstrap=True, criterion='mse', max_depth=None,\n",
       "                      max_features='auto', max_leaf_nodes=None,\n",
       "                      min_impurity_decrease=0.0, min_impurity_split=None,\n",
       "                      min_samples_leaf=1, min_samples_split=2,\n",
       "                      min_weight_fraction_leaf=0.0, n_estimators=10,\n",
       "                      n_jobs=None, oob_score=False, random_state=42, verbose=0,\n",
       "                      warm_start=False)"
      ]
     },
     "execution_count": 95,
     "metadata": {
      "tags": []
     },
     "output_type": "execute_result"
    }
   ],
   "source": [
    "from sklearn.ensemble import RandomForestRegressor\n",
    "\n",
    "forest_reg = RandomForestRegressor(random_state=42)\n",
    "forest_reg.fit(X_pr, Y)"
   ]
  },
  {
   "cell_type": "code",
   "execution_count": 0,
   "metadata": {
    "colab": {
     "base_uri": "https://localhost:8080/",
     "height": 35
    },
    "colab_type": "code",
    "executionInfo": {
     "elapsed": 447,
     "status": "ok",
     "timestamp": 1573952742221,
     "user": {
      "displayName": "Rajeev Ratan",
      "photoUrl": "https://lh3.googleusercontent.com/a-/AAuE7mCGo6aIm0tOcd5EhqWlYb0rime9sBvHS9YMpx0D2w=s64",
      "userId": "08597265227091462140"
     },
     "user_tz": 0
    },
    "id": "TZRGtlqKw5TM",
    "outputId": "0a18a228-27cd-4730-f3b7-bdd0cf94aa21"
   },
   "outputs": [
    {
     "data": {
      "text/plain": [
       "38.425570434026916"
      ]
     },
     "execution_count": 96,
     "metadata": {
      "tags": []
     },
     "output_type": "execute_result"
    }
   ],
   "source": [
    "X_pred = forest_reg.predict(X_pr)\n",
    "forest_mse = mean_squared_error(Y, X_pred)\n",
    "forest_rmse = np.sqrt(forest_mse)\n",
    "forest_rmse"
   ]
  },
  {
   "cell_type": "code",
   "execution_count": 0,
   "metadata": {
    "colab": {
     "base_uri": "https://localhost:8080/",
     "height": 87
    },
    "colab_type": "code",
    "executionInfo": {
     "elapsed": 4072,
     "status": "ok",
     "timestamp": 1573952751311,
     "user": {
      "displayName": "Rajeev Ratan",
      "photoUrl": "https://lh3.googleusercontent.com/a-/AAuE7mCGo6aIm0tOcd5EhqWlYb0rime9sBvHS9YMpx0D2w=s64",
      "userId": "08597265227091462140"
     },
     "user_tz": 0
    },
    "id": "0-zM3FnYw5TQ",
    "outputId": "cdf7b58a-0bab-4543-e3e3-540aeeeab869"
   },
   "outputs": [
    {
     "name": "stdout",
     "output_type": "stream",
     "text": [
      "Scores: [101.4669938   98.07718285  86.71536791  80.67530515  97.41297062\n",
      "  93.89701521  86.46825797  84.45773901  82.22625251  89.10341982]\n",
      "Mean: 90.0500504862151\n",
      "Standard deviation: 6.848432277528788\n"
     ]
    }
   ],
   "source": [
    "from sklearn.model_selection import cross_val_score\n",
    "\n",
    "forest_scores = cross_val_score(forest_reg, X_pr, Y,\n",
    "                                scoring=\"neg_mean_squared_error\", cv=10)\n",
    "forest_rmse_scores = np.sqrt(-forest_scores)\n",
    "display_scores(forest_rmse_scores)"
   ]
  },
  {
   "cell_type": "code",
   "execution_count": 0,
   "metadata": {
    "colab": {
     "base_uri": "https://localhost:8080/",
     "height": 173
    },
    "colab_type": "code",
    "executionInfo": {
     "elapsed": 602,
     "status": "ok",
     "timestamp": 1573952805666,
     "user": {
      "displayName": "Rajeev Ratan",
      "photoUrl": "https://lh3.googleusercontent.com/a-/AAuE7mCGo6aIm0tOcd5EhqWlYb0rime9sBvHS9YMpx0D2w=s64",
      "userId": "08597265227091462140"
     },
     "user_tz": 0
    },
    "id": "iInfXGrxw5Ta",
    "outputId": "5685cf4b-d9f7-4086-873d-58f39469eecf"
   },
   "outputs": [
    {
     "data": {
      "text/plain": [
       "count     10.000000\n",
       "mean      95.336344\n",
       "std        8.405631\n",
       "min       84.395398\n",
       "25%       87.805766\n",
       "50%       95.952351\n",
       "75%      100.685456\n",
       "max      110.486471\n",
       "dtype: float64"
      ]
     },
     "execution_count": 99,
     "metadata": {
      "tags": []
     },
     "output_type": "execute_result"
    }
   ],
   "source": [
    "scores = cross_val_score(lin_reg,  X_pr, Y, scoring=\"neg_mean_squared_error\", cv=10)\n",
    "pd.Series(np.sqrt(-scores)).describe()"
   ]
  },
  {
   "cell_type": "code",
   "execution_count": 0,
   "metadata": {
    "colab": {
     "base_uri": "https://localhost:8080/",
     "height": 35
    },
    "colab_type": "code",
    "executionInfo": {
     "elapsed": 3588,
     "status": "ok",
     "timestamp": 1573952820343,
     "user": {
      "displayName": "Rajeev Ratan",
      "photoUrl": "https://lh3.googleusercontent.com/a-/AAuE7mCGo6aIm0tOcd5EhqWlYb0rime9sBvHS9YMpx0D2w=s64",
      "userId": "08597265227091462140"
     },
     "user_tz": 0
    },
    "id": "bO6AkZkfw5Th",
    "outputId": "03fc263f-db78-4bd0-ab92-075e330daf8b"
   },
   "outputs": [
    {
     "data": {
      "text/plain": [
       "103.05633889003352"
      ]
     },
     "execution_count": 100,
     "metadata": {
      "tags": []
     },
     "output_type": "execute_result"
    }
   ],
   "source": [
    "from sklearn.svm import SVR\n",
    "\n",
    "svm_reg = SVR(kernel=\"linear\")\n",
    "svm_reg.fit( X_pr, Y,)\n",
    "X_pred = svm_reg.predict(X_pr)\n",
    "svm_mse = mean_squared_error(Y, X_pred)\n",
    "svm_rmse = np.sqrt(svm_mse)\n",
    "svm_rmse"
   ]
  },
  {
   "cell_type": "code",
   "execution_count": 0,
   "metadata": {
    "colab": {
     "base_uri": "https://localhost:8080/",
     "height": 364
    },
    "colab_type": "code",
    "executionInfo": {
     "elapsed": 9205,
     "status": "ok",
     "timestamp": 1573952846488,
     "user": {
      "displayName": "Rajeev Ratan",
      "photoUrl": "https://lh3.googleusercontent.com/a-/AAuE7mCGo6aIm0tOcd5EhqWlYb0rime9sBvHS9YMpx0D2w=s64",
      "userId": "08597265227091462140"
     },
     "user_tz": 0
    },
    "id": "ibHscUwGw5Ts",
    "outputId": "1ce9fa20-e2a7-4c09-9a0e-c78d6daf4c10"
   },
   "outputs": [
    {
     "data": {
      "text/plain": [
       "GridSearchCV(cv=5, error_score='raise-deprecating',\n",
       "             estimator=RandomForestRegressor(bootstrap=True, criterion='mse',\n",
       "                                             max_depth=None,\n",
       "                                             max_features='auto',\n",
       "                                             max_leaf_nodes=None,\n",
       "                                             min_impurity_decrease=0.0,\n",
       "                                             min_impurity_split=None,\n",
       "                                             min_samples_leaf=1,\n",
       "                                             min_samples_split=2,\n",
       "                                             min_weight_fraction_leaf=0.0,\n",
       "                                             n_estimators='warn', n_jobs=None,\n",
       "                                             oob_score=False, random_state=42,\n",
       "                                             verbose=0, warm_start=False),\n",
       "             iid='warn', n_jobs=None,\n",
       "             param_grid=[{'max_features': [2, 4, 6, 8],\n",
       "                          'n_estimators': [3, 10, 30]},\n",
       "                         {'bootstrap': [False], 'max_features': [2, 3, 4],\n",
       "                          'n_estimators': [3, 10]}],\n",
       "             pre_dispatch='2*n_jobs', refit=True, return_train_score=True,\n",
       "             scoring='neg_mean_squared_error', verbose=0)"
      ]
     },
     "execution_count": 101,
     "metadata": {
      "tags": []
     },
     "output_type": "execute_result"
    }
   ],
   "source": [
    "## 30 Seconds to run this code block.\n",
    "from sklearn.model_selection import GridSearchCV\n",
    "\n",
    "param_grid = [\n",
    "    # try 12 (3×4) combinations of hyperparameters\n",
    "    {'n_estimators': [3, 10, 30], 'max_features': [2, 4, 6, 8]},\n",
    "    # then try 6 (2×3) combinations with bootstrap set as False\n",
    "    {'bootstrap': [False], 'n_estimators': [3, 10], 'max_features': [2, 3, 4]},\n",
    "  ]\n",
    "\n",
    "forest_reg = RandomForestRegressor(random_state=42)\n",
    "# train across 5 folds, that's a total of (12+6)*5=90 rounds of training \n",
    "grid_search = GridSearchCV(forest_reg, param_grid, cv=5,\n",
    "                           scoring='neg_mean_squared_error', return_train_score=True)\n",
    "grid_search.fit( X_pr, Y)"
   ]
  },
  {
   "cell_type": "markdown",
   "metadata": {
    "colab_type": "text",
    "id": "qx78BNO3w5Tw"
   },
   "source": [
    "The best hyperparameter combination found:"
   ]
  },
  {
   "cell_type": "code",
   "execution_count": 0,
   "metadata": {
    "colab": {
     "base_uri": "https://localhost:8080/",
     "height": 35
    },
    "colab_type": "code",
    "executionInfo": {
     "elapsed": 428,
     "status": "ok",
     "timestamp": 1573952855889,
     "user": {
      "displayName": "Rajeev Ratan",
      "photoUrl": "https://lh3.googleusercontent.com/a-/AAuE7mCGo6aIm0tOcd5EhqWlYb0rime9sBvHS9YMpx0D2w=s64",
      "userId": "08597265227091462140"
     },
     "user_tz": 0
    },
    "id": "7nNoAm6tw5Tx",
    "outputId": "3cdf102b-5ef4-4e76-d55e-dc54a43ff295"
   },
   "outputs": [
    {
     "data": {
      "text/plain": [
       "{'max_features': 4, 'n_estimators': 30}"
      ]
     },
     "execution_count": 102,
     "metadata": {
      "tags": []
     },
     "output_type": "execute_result"
    }
   ],
   "source": [
    "grid_search.best_params_"
   ]
  },
  {
   "cell_type": "code",
   "execution_count": 0,
   "metadata": {
    "colab": {
     "base_uri": "https://localhost:8080/",
     "height": 139
    },
    "colab_type": "code",
    "executionInfo": {
     "elapsed": 608,
     "status": "ok",
     "timestamp": 1573952861663,
     "user": {
      "displayName": "Rajeev Ratan",
      "photoUrl": "https://lh3.googleusercontent.com/a-/AAuE7mCGo6aIm0tOcd5EhqWlYb0rime9sBvHS9YMpx0D2w=s64",
      "userId": "08597265227091462140"
     },
     "user_tz": 0
    },
    "id": "Mnv6MP-2w5T_",
    "outputId": "781e7426-9799-4beb-ad13-50f87c234d2b"
   },
   "outputs": [
    {
     "data": {
      "text/plain": [
       "RandomForestRegressor(bootstrap=True, criterion='mse', max_depth=None,\n",
       "                      max_features=4, max_leaf_nodes=None,\n",
       "                      min_impurity_decrease=0.0, min_impurity_split=None,\n",
       "                      min_samples_leaf=1, min_samples_split=2,\n",
       "                      min_weight_fraction_leaf=0.0, n_estimators=30,\n",
       "                      n_jobs=None, oob_score=False, random_state=42, verbose=0,\n",
       "                      warm_start=False)"
      ]
     },
     "execution_count": 103,
     "metadata": {
      "tags": []
     },
     "output_type": "execute_result"
    }
   ],
   "source": [
    "grid_search.best_estimator_"
   ]
  },
  {
   "cell_type": "markdown",
   "metadata": {
    "colab_type": "text",
    "id": "W9WoG5q7w5UE"
   },
   "source": [
    "Let's look at the score of each hyperparameter combination tested during the grid search:"
   ]
  },
  {
   "cell_type": "code",
   "execution_count": 0,
   "metadata": {
    "colab": {
     "base_uri": "https://localhost:8080/",
     "height": 364
    },
    "colab_type": "code",
    "executionInfo": {
     "elapsed": 624,
     "status": "ok",
     "timestamp": 1573952875068,
     "user": {
      "displayName": "Rajeev Ratan",
      "photoUrl": "https://lh3.googleusercontent.com/a-/AAuE7mCGo6aIm0tOcd5EhqWlYb0rime9sBvHS9YMpx0D2w=s64",
      "userId": "08597265227091462140"
     },
     "user_tz": 0
    },
    "id": "fCTtGGOtw5UM",
    "outputId": "779ba424-3354-48e0-e4a9-245a12e740ac"
   },
   "outputs": [
    {
     "name": "stdout",
     "output_type": "stream",
     "text": [
      "107.65378681553167 {'max_features': 2, 'n_estimators': 3}\n",
      "93.58239646693814 {'max_features': 2, 'n_estimators': 10}\n",
      "91.38452411625539 {'max_features': 2, 'n_estimators': 30}\n",
      "105.87919008660293 {'max_features': 4, 'n_estimators': 3}\n",
      "92.61812712847029 {'max_features': 4, 'n_estimators': 10}\n",
      "88.21551200622314 {'max_features': 4, 'n_estimators': 30}\n",
      "101.59536850630978 {'max_features': 6, 'n_estimators': 3}\n",
      "92.57886773629306 {'max_features': 6, 'n_estimators': 10}\n",
      "88.7349730781039 {'max_features': 6, 'n_estimators': 30}\n",
      "104.04717161700685 {'max_features': 8, 'n_estimators': 3}\n",
      "91.57171859082746 {'max_features': 8, 'n_estimators': 10}\n",
      "88.62741102402538 {'max_features': 8, 'n_estimators': 30}\n",
      "111.11517405117583 {'bootstrap': False, 'max_features': 2, 'n_estimators': 3}\n",
      "95.36363186115693 {'bootstrap': False, 'max_features': 2, 'n_estimators': 10}\n",
      "104.01380533593832 {'bootstrap': False, 'max_features': 3, 'n_estimators': 3}\n",
      "93.58593440535 {'bootstrap': False, 'max_features': 3, 'n_estimators': 10}\n",
      "102.5696058124588 {'bootstrap': False, 'max_features': 4, 'n_estimators': 3}\n",
      "91.59131892984418 {'bootstrap': False, 'max_features': 4, 'n_estimators': 10}\n",
      "\n",
      "Best grid-search performance:  88.21551200622314\n"
     ]
    }
   ],
   "source": [
    "cvres = grid_search.cv_results_\n",
    "for mean_score, params in zip(cvres[\"mean_test_score\"], cvres[\"params\"]):\n",
    "    print(np.sqrt(-mean_score), params)\n",
    "    \n",
    "print(\"\")\n",
    "print(\"Best grid-search performance: \", np.sqrt(-cvres[\"mean_test_score\"].max()))"
   ]
  },
  {
   "cell_type": "code",
   "execution_count": 0,
   "metadata": {
    "colab": {
     "base_uri": "https://localhost:8080/",
     "height": 482
    },
    "colab_type": "code",
    "executionInfo": {
     "elapsed": 520,
     "status": "ok",
     "timestamp": 1573952901751,
     "user": {
      "displayName": "Rajeev Ratan",
      "photoUrl": "https://lh3.googleusercontent.com/a-/AAuE7mCGo6aIm0tOcd5EhqWlYb0rime9sBvHS9YMpx0D2w=s64",
      "userId": "08597265227091462140"
     },
     "user_tz": 0
    },
    "id": "CWQL-Wqyw5US",
    "outputId": "f2968427-0130-4bb3-c805-1871028b907b"
   },
   "outputs": [
    {
     "data": {
      "text/html": [
       "<div>\n",
       "<style scoped>\n",
       "    .dataframe tbody tr th:only-of-type {\n",
       "        vertical-align: middle;\n",
       "    }\n",
       "\n",
       "    .dataframe tbody tr th {\n",
       "        vertical-align: top;\n",
       "    }\n",
       "\n",
       "    .dataframe thead th {\n",
       "        text-align: right;\n",
       "    }\n",
       "</style>\n",
       "<table border=\"1\" class=\"dataframe\">\n",
       "  <thead>\n",
       "    <tr style=\"text-align: right;\">\n",
       "      <th></th>\n",
       "      <th>mean_fit_time</th>\n",
       "      <th>std_fit_time</th>\n",
       "      <th>mean_score_time</th>\n",
       "      <th>std_score_time</th>\n",
       "      <th>param_max_features</th>\n",
       "      <th>param_n_estimators</th>\n",
       "      <th>param_bootstrap</th>\n",
       "      <th>params</th>\n",
       "      <th>split0_test_score</th>\n",
       "      <th>split1_test_score</th>\n",
       "      <th>split2_test_score</th>\n",
       "      <th>split3_test_score</th>\n",
       "      <th>split4_test_score</th>\n",
       "      <th>mean_test_score</th>\n",
       "      <th>std_test_score</th>\n",
       "      <th>rank_test_score</th>\n",
       "      <th>split0_train_score</th>\n",
       "      <th>split1_train_score</th>\n",
       "      <th>split2_train_score</th>\n",
       "      <th>split3_train_score</th>\n",
       "      <th>split4_train_score</th>\n",
       "      <th>mean_train_score</th>\n",
       "      <th>std_train_score</th>\n",
       "    </tr>\n",
       "  </thead>\n",
       "  <tbody>\n",
       "    <tr>\n",
       "      <th>0</th>\n",
       "      <td>0.017931</td>\n",
       "      <td>0.002105</td>\n",
       "      <td>0.002212</td>\n",
       "      <td>0.000151</td>\n",
       "      <td>2</td>\n",
       "      <td>3</td>\n",
       "      <td>NaN</td>\n",
       "      <td>{'max_features': 2, 'n_estimators': 3}</td>\n",
       "      <td>-12228.933001</td>\n",
       "      <td>-12359.378750</td>\n",
       "      <td>-11417.469347</td>\n",
       "      <td>-11146.660856</td>\n",
       "      <td>-10794.247124</td>\n",
       "      <td>-11589.337816</td>\n",
       "      <td>609.871447</td>\n",
       "      <td>17</td>\n",
       "      <td>-2822.900628</td>\n",
       "      <td>-3171.549656</td>\n",
       "      <td>-3185.207607</td>\n",
       "      <td>-3053.919809</td>\n",
       "      <td>-2867.099253</td>\n",
       "      <td>-3020.135391</td>\n",
       "      <td>150.756833</td>\n",
       "    </tr>\n",
       "    <tr>\n",
       "      <th>1</th>\n",
       "      <td>0.047747</td>\n",
       "      <td>0.001164</td>\n",
       "      <td>0.004648</td>\n",
       "      <td>0.000236</td>\n",
       "      <td>2</td>\n",
       "      <td>10</td>\n",
       "      <td>NaN</td>\n",
       "      <td>{'max_features': 2, 'n_estimators': 10}</td>\n",
       "      <td>-9738.397535</td>\n",
       "      <td>-9063.870502</td>\n",
       "      <td>-8677.183458</td>\n",
       "      <td>-7741.723543</td>\n",
       "      <td>-8567.149605</td>\n",
       "      <td>-8757.664928</td>\n",
       "      <td>652.764667</td>\n",
       "      <td>9</td>\n",
       "      <td>-1490.757412</td>\n",
       "      <td>-1648.899800</td>\n",
       "      <td>-1832.454981</td>\n",
       "      <td>-1935.587927</td>\n",
       "      <td>-1800.415093</td>\n",
       "      <td>-1741.623043</td>\n",
       "      <td>155.473784</td>\n",
       "    </tr>\n",
       "    <tr>\n",
       "      <th>2</th>\n",
       "      <td>0.135737</td>\n",
       "      <td>0.003072</td>\n",
       "      <td>0.011074</td>\n",
       "      <td>0.000328</td>\n",
       "      <td>2</td>\n",
       "      <td>30</td>\n",
       "      <td>NaN</td>\n",
       "      <td>{'max_features': 2, 'n_estimators': 30}</td>\n",
       "      <td>-9870.923892</td>\n",
       "      <td>-8055.271983</td>\n",
       "      <td>-8385.923827</td>\n",
       "      <td>-7061.647769</td>\n",
       "      <td>-8381.888769</td>\n",
       "      <td>-8351.131248</td>\n",
       "      <td>901.357485</td>\n",
       "      <td>4</td>\n",
       "      <td>-1248.229005</td>\n",
       "      <td>-1319.393964</td>\n",
       "      <td>-1346.735685</td>\n",
       "      <td>-1470.310601</td>\n",
       "      <td>-1308.107214</td>\n",
       "      <td>-1338.555294</td>\n",
       "      <td>73.320475</td>\n",
       "    </tr>\n",
       "    <tr>\n",
       "      <th>3</th>\n",
       "      <td>0.019424</td>\n",
       "      <td>0.000484</td>\n",
       "      <td>0.002092</td>\n",
       "      <td>0.000112</td>\n",
       "      <td>4</td>\n",
       "      <td>3</td>\n",
       "      <td>NaN</td>\n",
       "      <td>{'max_features': 4, 'n_estimators': 3}</td>\n",
       "      <td>-12269.368671</td>\n",
       "      <td>-10339.503024</td>\n",
       "      <td>-12143.947468</td>\n",
       "      <td>-11441.606309</td>\n",
       "      <td>-9857.588996</td>\n",
       "      <td>-11210.402893</td>\n",
       "      <td>962.802268</td>\n",
       "      <td>16</td>\n",
       "      <td>-2845.222252</td>\n",
       "      <td>-2737.879284</td>\n",
       "      <td>-2510.564034</td>\n",
       "      <td>-2846.995731</td>\n",
       "      <td>-3017.015267</td>\n",
       "      <td>-2791.535314</td>\n",
       "      <td>166.507168</td>\n",
       "    </tr>\n",
       "    <tr>\n",
       "      <th>4</th>\n",
       "      <td>0.058012</td>\n",
       "      <td>0.001222</td>\n",
       "      <td>0.004720</td>\n",
       "      <td>0.000130</td>\n",
       "      <td>4</td>\n",
       "      <td>10</td>\n",
       "      <td>NaN</td>\n",
       "      <td>{'max_features': 4, 'n_estimators': 10}</td>\n",
       "      <td>-9593.039808</td>\n",
       "      <td>-8223.561099</td>\n",
       "      <td>-9572.005187</td>\n",
       "      <td>-7449.378997</td>\n",
       "      <td>-8052.602273</td>\n",
       "      <td>-8578.117473</td>\n",
       "      <td>859.512319</td>\n",
       "      <td>8</td>\n",
       "      <td>-1425.585846</td>\n",
       "      <td>-1531.123380</td>\n",
       "      <td>-1541.183335</td>\n",
       "      <td>-1696.244290</td>\n",
       "      <td>-1599.318140</td>\n",
       "      <td>-1558.690998</td>\n",
       "      <td>88.718596</td>\n",
       "    </tr>\n",
       "  </tbody>\n",
       "</table>\n",
       "</div>"
      ],
      "text/plain": [
       "   mean_fit_time  std_fit_time  mean_score_time  std_score_time  \\\n",
       "0       0.017931      0.002105         0.002212        0.000151   \n",
       "1       0.047747      0.001164         0.004648        0.000236   \n",
       "2       0.135737      0.003072         0.011074        0.000328   \n",
       "3       0.019424      0.000484         0.002092        0.000112   \n",
       "4       0.058012      0.001222         0.004720        0.000130   \n",
       "\n",
       "  param_max_features param_n_estimators param_bootstrap  \\\n",
       "0                  2                  3             NaN   \n",
       "1                  2                 10             NaN   \n",
       "2                  2                 30             NaN   \n",
       "3                  4                  3             NaN   \n",
       "4                  4                 10             NaN   \n",
       "\n",
       "                                    params  split0_test_score  \\\n",
       "0   {'max_features': 2, 'n_estimators': 3}      -12228.933001   \n",
       "1  {'max_features': 2, 'n_estimators': 10}       -9738.397535   \n",
       "2  {'max_features': 2, 'n_estimators': 30}       -9870.923892   \n",
       "3   {'max_features': 4, 'n_estimators': 3}      -12269.368671   \n",
       "4  {'max_features': 4, 'n_estimators': 10}       -9593.039808   \n",
       "\n",
       "   split1_test_score  split2_test_score  split3_test_score  split4_test_score  \\\n",
       "0      -12359.378750      -11417.469347      -11146.660856      -10794.247124   \n",
       "1       -9063.870502       -8677.183458       -7741.723543       -8567.149605   \n",
       "2       -8055.271983       -8385.923827       -7061.647769       -8381.888769   \n",
       "3      -10339.503024      -12143.947468      -11441.606309       -9857.588996   \n",
       "4       -8223.561099       -9572.005187       -7449.378997       -8052.602273   \n",
       "\n",
       "   mean_test_score  std_test_score  rank_test_score  split0_train_score  \\\n",
       "0    -11589.337816      609.871447               17        -2822.900628   \n",
       "1     -8757.664928      652.764667                9        -1490.757412   \n",
       "2     -8351.131248      901.357485                4        -1248.229005   \n",
       "3    -11210.402893      962.802268               16        -2845.222252   \n",
       "4     -8578.117473      859.512319                8        -1425.585846   \n",
       "\n",
       "   split1_train_score  split2_train_score  split3_train_score  \\\n",
       "0        -3171.549656        -3185.207607        -3053.919809   \n",
       "1        -1648.899800        -1832.454981        -1935.587927   \n",
       "2        -1319.393964        -1346.735685        -1470.310601   \n",
       "3        -2737.879284        -2510.564034        -2846.995731   \n",
       "4        -1531.123380        -1541.183335        -1696.244290   \n",
       "\n",
       "   split4_train_score  mean_train_score  std_train_score  \n",
       "0        -2867.099253      -3020.135391       150.756833  \n",
       "1        -1800.415093      -1741.623043       155.473784  \n",
       "2        -1308.107214      -1338.555294        73.320475  \n",
       "3        -3017.015267      -2791.535314       166.507168  \n",
       "4        -1599.318140      -1558.690998        88.718596  "
      ]
     },
     "execution_count": 105,
     "metadata": {
      "tags": []
     },
     "output_type": "execute_result"
    }
   ],
   "source": [
    "# Top five results as presented in a dataframe\n",
    "pd.DataFrame(grid_search.cv_results_).head(5)\n"
   ]
  },
  {
   "cell_type": "code",
   "execution_count": 0,
   "metadata": {
    "colab": {
     "base_uri": "https://localhost:8080/",
     "height": 381
    },
    "colab_type": "code",
    "executionInfo": {
     "elapsed": 17046,
     "status": "ok",
     "timestamp": 1573952950369,
     "user": {
      "displayName": "Rajeev Ratan",
      "photoUrl": "https://lh3.googleusercontent.com/a-/AAuE7mCGo6aIm0tOcd5EhqWlYb0rime9sBvHS9YMpx0D2w=s64",
      "userId": "08597265227091462140"
     },
     "user_tz": 0
    },
    "id": "heRyEXOKw5UX",
    "outputId": "5cf63eec-2bbb-43c1-f29b-aed6376fcea6"
   },
   "outputs": [
    {
     "data": {
      "text/plain": [
       "RandomizedSearchCV(cv=5, error_score='raise-deprecating',\n",
       "                   estimator=RandomForestRegressor(bootstrap=True,\n",
       "                                                   criterion='mse',\n",
       "                                                   max_depth=None,\n",
       "                                                   max_features='auto',\n",
       "                                                   max_leaf_nodes=None,\n",
       "                                                   min_impurity_decrease=0.0,\n",
       "                                                   min_impurity_split=None,\n",
       "                                                   min_samples_leaf=1,\n",
       "                                                   min_samples_split=2,\n",
       "                                                   min_weight_fraction_leaf=0.0,\n",
       "                                                   n_estimators='warn',\n",
       "                                                   n_jobs=None, oob_score=False,\n",
       "                                                   random_sta...\n",
       "                                                   warm_start=False),\n",
       "                   iid='warn', n_iter=5, n_jobs=None,\n",
       "                   param_distributions={'max_features': <scipy.stats._distn_infrastructure.rv_frozen object at 0x7f2cf3a67748>,\n",
       "                                        'n_estimators': <scipy.stats._distn_infrastructure.rv_frozen object at 0x7f2cf3a67828>},\n",
       "                   pre_dispatch='2*n_jobs', random_state=42, refit=True,\n",
       "                   return_train_score=False, scoring='neg_mean_squared_error',\n",
       "                   verbose=0)"
      ]
     },
     "execution_count": 106,
     "metadata": {
      "tags": []
     },
     "output_type": "execute_result"
    }
   ],
   "source": [
    "from sklearn.model_selection import RandomizedSearchCV\n",
    "from scipy.stats import randint\n",
    "\n",
    "param_distribs = {\n",
    "        'n_estimators': randint(low=1, high=200),\n",
    "        'max_features': randint(low=1, high=8),\n",
    "    }\n",
    "\n",
    "forest_reg = RandomForestRegressor(random_state=42)\n",
    "rnd_search = RandomizedSearchCV(forest_reg, param_distributions=param_distribs,\n",
    "                                n_iter=5, cv=5, scoring='neg_mean_squared_error', random_state=42)\n",
    "rnd_search.fit( X_pr, Y)"
   ]
  },
  {
   "cell_type": "code",
   "execution_count": 0,
   "metadata": {
    "colab": {
     "base_uri": "https://localhost:8080/",
     "height": 121
    },
    "colab_type": "code",
    "executionInfo": {
     "elapsed": 446,
     "status": "ok",
     "timestamp": 1573952958504,
     "user": {
      "displayName": "Rajeev Ratan",
      "photoUrl": "https://lh3.googleusercontent.com/a-/AAuE7mCGo6aIm0tOcd5EhqWlYb0rime9sBvHS9YMpx0D2w=s64",
      "userId": "08597265227091462140"
     },
     "user_tz": 0
    },
    "id": "hq13w9Ebw5Ug",
    "outputId": "160ea345-719d-4caa-fe93-ee0679118d31"
   },
   "outputs": [
    {
     "name": "stdout",
     "output_type": "stream",
     "text": [
      "87.14245549784866 {'max_features': 7, 'n_estimators': 180}\n",
      "89.5004639900209 {'max_features': 5, 'n_estimators': 15}\n",
      "89.36306282813929 {'max_features': 3, 'n_estimators': 72}\n",
      "88.90840067258624 {'max_features': 5, 'n_estimators': 21}\n",
      "87.45397734594886 {'max_features': 7, 'n_estimators': 122}\n",
      "Best grid-search performance:  87.14245549784866\n"
     ]
    }
   ],
   "source": [
    "cvres = rnd_search.cv_results_\n",
    "for mean_score, params in zip(cvres[\"mean_test_score\"], cvres[\"params\"]):\n",
    "    print(np.sqrt(-mean_score), params)\n",
    "    \n",
    "print(\"Best grid-search performance: \", np.sqrt(-cvres[\"mean_test_score\"].max()))"
   ]
  },
  {
   "cell_type": "code",
   "execution_count": 0,
   "metadata": {
    "colab": {
     "base_uri": "https://localhost:8080/",
     "height": 191
    },
    "colab_type": "code",
    "executionInfo": {
     "elapsed": 428,
     "status": "ok",
     "timestamp": 1573952969957,
     "user": {
      "displayName": "Rajeev Ratan",
      "photoUrl": "https://lh3.googleusercontent.com/a-/AAuE7mCGo6aIm0tOcd5EhqWlYb0rime9sBvHS9YMpx0D2w=s64",
      "userId": "08597265227091462140"
     },
     "user_tz": 0
    },
    "id": "D9LAn5JHw5Uu",
    "outputId": "1a1e48ff-c538-4a39-92ef-511a0bedec33"
   },
   "outputs": [
    {
     "data": {
      "text/plain": [
       "array([0.04671257, 0.03542924, 0.02485968, 0.02667908, 0.02464905,\n",
       "       0.0471932 , 0.0672301 , 0.09241247, 0.07534669, 0.12037559,\n",
       "       0.09520841, 0.02811285, 0.00721237, 0.00361203, 0.02110475,\n",
       "       0.05148334, 0.03809242, 0.00295645, 0.00589151, 0.00274736,\n",
       "       0.00244363, 0.00590603, 0.00191609, 0.00686092, 0.00242456,\n",
       "       0.00342799, 0.00300906, 0.01788358, 0.00069609, 0.00096974,\n",
       "       0.00027043, 0.00103372, 0.00073615, 0.03125527, 0.00028692,\n",
       "       0.00083684, 0.00016351, 0.00134207, 0.00512595, 0.04644736,\n",
       "       0.03335415, 0.00183906, 0.00438218, 0.0043074 , 0.00540885,\n",
       "       0.00036331])"
      ]
     },
     "execution_count": 108,
     "metadata": {
      "tags": []
     },
     "output_type": "execute_result"
    }
   ],
   "source": [
    "feature_importances = grid_search.best_estimator_.feature_importances_\n",
    "feature_importances"
   ]
  },
  {
   "cell_type": "code",
   "execution_count": 0,
   "metadata": {
    "colab": {},
    "colab_type": "code",
    "id": "7v-RO30Pw5Uz"
   },
   "outputs": [],
   "source": [
    "feats = pd.DataFrame()\n",
    "feats[\"Name\"] = list(X_pr.columns)\n",
    "feats[\"Score\"] = feature_importances"
   ]
  },
  {
   "cell_type": "code",
   "execution_count": 0,
   "metadata": {
    "colab": {
     "base_uri": "https://localhost:8080/",
     "height": 662
    },
    "colab_type": "code",
    "executionInfo": {
     "elapsed": 400,
     "status": "ok",
     "timestamp": 1573952982048,
     "user": {
      "displayName": "Rajeev Ratan",
      "photoUrl": "https://lh3.googleusercontent.com/a-/AAuE7mCGo6aIm0tOcd5EhqWlYb0rime9sBvHS9YMpx0D2w=s64",
      "userId": "08597265227091462140"
     },
     "user_tz": 0
    },
    "id": "Vcl5kjafw5U6",
    "outputId": "2ad30a33-8fe0-41e7-8afb-543941a4c9c1"
   },
   "outputs": [
    {
     "data": {
      "text/html": [
       "<div>\n",
       "<style scoped>\n",
       "    .dataframe tbody tr th:only-of-type {\n",
       "        vertical-align: middle;\n",
       "    }\n",
       "\n",
       "    .dataframe tbody tr th {\n",
       "        vertical-align: top;\n",
       "    }\n",
       "\n",
       "    .dataframe thead th {\n",
       "        text-align: right;\n",
       "    }\n",
       "</style>\n",
       "<table border=\"1\" class=\"dataframe\">\n",
       "  <thead>\n",
       "    <tr style=\"text-align: right;\">\n",
       "      <th></th>\n",
       "      <th>Name</th>\n",
       "      <th>Score</th>\n",
       "    </tr>\n",
       "  </thead>\n",
       "  <tbody>\n",
       "    <tr>\n",
       "      <th>9</th>\n",
       "      <td>bedrooms</td>\n",
       "      <td>0.12038</td>\n",
       "    </tr>\n",
       "    <tr>\n",
       "      <th>10</th>\n",
       "      <td>beds</td>\n",
       "      <td>0.09521</td>\n",
       "    </tr>\n",
       "    <tr>\n",
       "      <th>7</th>\n",
       "      <td>accommodates</td>\n",
       "      <td>0.09241</td>\n",
       "    </tr>\n",
       "    <tr>\n",
       "      <th>8</th>\n",
       "      <td>bathrooms</td>\n",
       "      <td>0.07535</td>\n",
       "    </tr>\n",
       "    <tr>\n",
       "      <th>6</th>\n",
       "      <td>cleaning_fee</td>\n",
       "      <td>0.06723</td>\n",
       "    </tr>\n",
       "    <tr>\n",
       "      <th>15</th>\n",
       "      <td>bathrooms_per_person</td>\n",
       "      <td>0.05148</td>\n",
       "    </tr>\n",
       "    <tr>\n",
       "      <th>5</th>\n",
       "      <td>security_deposit</td>\n",
       "      <td>0.04719</td>\n",
       "    </tr>\n",
       "    <tr>\n",
       "      <th>0</th>\n",
       "      <td>longitude</td>\n",
       "      <td>0.04671</td>\n",
       "    </tr>\n",
       "    <tr>\n",
       "      <th>39</th>\n",
       "      <td>Entire home/apt</td>\n",
       "      <td>0.04645</td>\n",
       "    </tr>\n",
       "    <tr>\n",
       "      <th>16</th>\n",
       "      <td>past_and_future_popularity</td>\n",
       "      <td>0.03809</td>\n",
       "    </tr>\n",
       "    <tr>\n",
       "      <th>1</th>\n",
       "      <td>latitude</td>\n",
       "      <td>0.03543</td>\n",
       "    </tr>\n",
       "    <tr>\n",
       "      <th>40</th>\n",
       "      <td>Private room</td>\n",
       "      <td>0.03335</td>\n",
       "    </tr>\n",
       "    <tr>\n",
       "      <th>33</th>\n",
       "      <td>House</td>\n",
       "      <td>0.03126</td>\n",
       "    </tr>\n",
       "    <tr>\n",
       "      <th>11</th>\n",
       "      <td>availability_365</td>\n",
       "      <td>0.02811</td>\n",
       "    </tr>\n",
       "    <tr>\n",
       "      <th>3</th>\n",
       "      <td>number_of_reviews</td>\n",
       "      <td>0.02668</td>\n",
       "    </tr>\n",
       "    <tr>\n",
       "      <th>2</th>\n",
       "      <td>review_scores_rating</td>\n",
       "      <td>0.02486</td>\n",
       "    </tr>\n",
       "    <tr>\n",
       "      <th>4</th>\n",
       "      <td>minimum_nights</td>\n",
       "      <td>0.02465</td>\n",
       "    </tr>\n",
       "    <tr>\n",
       "      <th>14</th>\n",
       "      <td>bedrooms_per_person</td>\n",
       "      <td>0.02110</td>\n",
       "    </tr>\n",
       "    <tr>\n",
       "      <th>27</th>\n",
       "      <td>Apartment</td>\n",
       "      <td>0.01788</td>\n",
       "    </tr>\n",
       "    <tr>\n",
       "      <th>12</th>\n",
       "      <td>host_identity_verified</td>\n",
       "      <td>0.00721</td>\n",
       "    </tr>\n",
       "  </tbody>\n",
       "</table>\n",
       "</div>"
      ],
      "text/plain": [
       "                          Name    Score\n",
       "9                     bedrooms  0.12038\n",
       "10                        beds  0.09521\n",
       "7                 accommodates  0.09241\n",
       "8                    bathrooms  0.07535\n",
       "6                 cleaning_fee  0.06723\n",
       "15        bathrooms_per_person  0.05148\n",
       "5             security_deposit  0.04719\n",
       "0                    longitude  0.04671\n",
       "39             Entire home/apt  0.04645\n",
       "16  past_and_future_popularity  0.03809\n",
       "1                     latitude  0.03543\n",
       "40                Private room  0.03335\n",
       "33                       House  0.03126\n",
       "11            availability_365  0.02811\n",
       "3            number_of_reviews  0.02668\n",
       "2         review_scores_rating  0.02486\n",
       "4               minimum_nights  0.02465\n",
       "14         bedrooms_per_person  0.02110\n",
       "27                   Apartment  0.01788\n",
       "12      host_identity_verified  0.00721"
      ]
     },
     "execution_count": 110,
     "metadata": {
      "tags": []
     },
     "output_type": "execute_result"
    }
   ],
   "source": [
    "feats.sort_values(\"Score\",ascending=False).round(5).head(20)"
   ]
  },
  {
   "cell_type": "code",
   "execution_count": 0,
   "metadata": {
    "colab": {
     "base_uri": "https://localhost:8080/",
     "height": 309
    },
    "colab_type": "code",
    "executionInfo": {
     "elapsed": 651,
     "status": "ok",
     "timestamp": 1573952997735,
     "user": {
      "displayName": "Rajeev Ratan",
      "photoUrl": "https://lh3.googleusercontent.com/a-/AAuE7mCGo6aIm0tOcd5EhqWlYb0rime9sBvHS9YMpx0D2w=s64",
      "userId": "08597265227091462140"
     },
     "user_tz": 0
    },
    "id": "iL5nHXrKw5VV",
    "outputId": "db376d29-4c99-40b4-d667-f551089b554e"
   },
   "outputs": [
    {
     "data": {
      "text/html": [
       "<div>\n",
       "<style scoped>\n",
       "    .dataframe tbody tr th:only-of-type {\n",
       "        vertical-align: middle;\n",
       "    }\n",
       "\n",
       "    .dataframe tbody tr th {\n",
       "        vertical-align: top;\n",
       "    }\n",
       "\n",
       "    .dataframe thead th {\n",
       "        text-align: right;\n",
       "    }\n",
       "</style>\n",
       "<table border=\"1\" class=\"dataframe\">\n",
       "  <thead>\n",
       "    <tr style=\"text-align: right;\">\n",
       "      <th></th>\n",
       "      <th>price</th>\n",
       "      <th>city</th>\n",
       "      <th>longitude</th>\n",
       "      <th>latitude</th>\n",
       "      <th>review_scores_rating</th>\n",
       "      <th>number_of_reviews</th>\n",
       "      <th>minimum_nights</th>\n",
       "      <th>security_deposit</th>\n",
       "      <th>cleaning_fee</th>\n",
       "      <th>accommodates</th>\n",
       "      <th>bathrooms</th>\n",
       "      <th>bedrooms</th>\n",
       "      <th>beds</th>\n",
       "      <th>property_type</th>\n",
       "      <th>room_type</th>\n",
       "      <th>availability_365</th>\n",
       "      <th>host_identity_verified</th>\n",
       "      <th>host_is_superhost</th>\n",
       "      <th>host_since</th>\n",
       "      <th>cancellation_policy</th>\n",
       "    </tr>\n",
       "  </thead>\n",
       "  <tbody>\n",
       "    <tr>\n",
       "      <th>1098</th>\n",
       "      <td>110.0</td>\n",
       "      <td>Darlinghurst</td>\n",
       "      <td>151.219597</td>\n",
       "      <td>-33.876213</td>\n",
       "      <td>NaN</td>\n",
       "      <td>0</td>\n",
       "      <td>2</td>\n",
       "      <td>250.0</td>\n",
       "      <td>50.0</td>\n",
       "      <td>2</td>\n",
       "      <td>1.0</td>\n",
       "      <td>1.0</td>\n",
       "      <td>1.0</td>\n",
       "      <td>Apartment</td>\n",
       "      <td>Entire home/apt</td>\n",
       "      <td>0</td>\n",
       "      <td>0</td>\n",
       "      <td>0</td>\n",
       "      <td>2014-07-16</td>\n",
       "      <td>moderate</td>\n",
       "    </tr>\n",
       "    <tr>\n",
       "      <th>4811</th>\n",
       "      <td>225.0</td>\n",
       "      <td>Manly</td>\n",
       "      <td>151.288501</td>\n",
       "      <td>-33.806436</td>\n",
       "      <td>100.0</td>\n",
       "      <td>1</td>\n",
       "      <td>3</td>\n",
       "      <td>750.0</td>\n",
       "      <td>219.0</td>\n",
       "      <td>4</td>\n",
       "      <td>1.0</td>\n",
       "      <td>2.0</td>\n",
       "      <td>2.0</td>\n",
       "      <td>Apartment</td>\n",
       "      <td>Entire home/apt</td>\n",
       "      <td>0</td>\n",
       "      <td>0</td>\n",
       "      <td>0</td>\n",
       "      <td>2012-09-18</td>\n",
       "      <td>strict_14_with_grace_period</td>\n",
       "    </tr>\n",
       "    <tr>\n",
       "      <th>3678</th>\n",
       "      <td>91.0</td>\n",
       "      <td>Bondi Beach</td>\n",
       "      <td>151.277634</td>\n",
       "      <td>-33.888887</td>\n",
       "      <td>NaN</td>\n",
       "      <td>0</td>\n",
       "      <td>3</td>\n",
       "      <td>200.0</td>\n",
       "      <td>25.0</td>\n",
       "      <td>1</td>\n",
       "      <td>1.0</td>\n",
       "      <td>1.0</td>\n",
       "      <td>1.0</td>\n",
       "      <td>Apartment</td>\n",
       "      <td>Private room</td>\n",
       "      <td>0</td>\n",
       "      <td>1</td>\n",
       "      <td>0</td>\n",
       "      <td>2013-10-14</td>\n",
       "      <td>strict_14_with_grace_period</td>\n",
       "    </tr>\n",
       "    <tr>\n",
       "      <th>2982</th>\n",
       "      <td>45.0</td>\n",
       "      <td>Bondi Beach</td>\n",
       "      <td>151.281182</td>\n",
       "      <td>-33.889755</td>\n",
       "      <td>84.0</td>\n",
       "      <td>25</td>\n",
       "      <td>7</td>\n",
       "      <td>400.0</td>\n",
       "      <td>50.0</td>\n",
       "      <td>2</td>\n",
       "      <td>1.0</td>\n",
       "      <td>1.0</td>\n",
       "      <td>1.0</td>\n",
       "      <td>Other</td>\n",
       "      <td>Private room</td>\n",
       "      <td>361</td>\n",
       "      <td>1</td>\n",
       "      <td>0</td>\n",
       "      <td>2015-05-07</td>\n",
       "      <td>strict_14_with_grace_period</td>\n",
       "    </tr>\n",
       "    <tr>\n",
       "      <th>5140</th>\n",
       "      <td>115.0</td>\n",
       "      <td>Manly</td>\n",
       "      <td>151.282273</td>\n",
       "      <td>-33.793341</td>\n",
       "      <td>100.0</td>\n",
       "      <td>14</td>\n",
       "      <td>1</td>\n",
       "      <td>0.0</td>\n",
       "      <td>0.0</td>\n",
       "      <td>2</td>\n",
       "      <td>1.0</td>\n",
       "      <td>1.0</td>\n",
       "      <td>1.0</td>\n",
       "      <td>House</td>\n",
       "      <td>Private room</td>\n",
       "      <td>19</td>\n",
       "      <td>1</td>\n",
       "      <td>0</td>\n",
       "      <td>2016-10-22</td>\n",
       "      <td>moderate</td>\n",
       "    </tr>\n",
       "  </tbody>\n",
       "</table>\n",
       "</div>"
      ],
      "text/plain": [
       "      price          city   longitude   latitude  review_scores_rating  \\\n",
       "1098  110.0  Darlinghurst  151.219597 -33.876213                   NaN   \n",
       "4811  225.0         Manly  151.288501 -33.806436                 100.0   \n",
       "3678   91.0   Bondi Beach  151.277634 -33.888887                   NaN   \n",
       "2982   45.0   Bondi Beach  151.281182 -33.889755                  84.0   \n",
       "5140  115.0         Manly  151.282273 -33.793341                 100.0   \n",
       "\n",
       "      number_of_reviews  minimum_nights  security_deposit  cleaning_fee  \\\n",
       "1098                  0               2             250.0          50.0   \n",
       "4811                  1               3             750.0         219.0   \n",
       "3678                  0               3             200.0          25.0   \n",
       "2982                 25               7             400.0          50.0   \n",
       "5140                 14               1               0.0           0.0   \n",
       "\n",
       "      accommodates  bathrooms  bedrooms  beds property_type        room_type  \\\n",
       "1098             2        1.0       1.0   1.0     Apartment  Entire home/apt   \n",
       "4811             4        1.0       2.0   2.0     Apartment  Entire home/apt   \n",
       "3678             1        1.0       1.0   1.0     Apartment     Private room   \n",
       "2982             2        1.0       1.0   1.0         Other     Private room   \n",
       "5140             2        1.0       1.0   1.0         House     Private room   \n",
       "\n",
       "      availability_365  host_identity_verified  host_is_superhost host_since  \\\n",
       "1098                 0                       0                  0 2014-07-16   \n",
       "4811                 0                       0                  0 2012-09-18   \n",
       "3678                 0                       1                  0 2013-10-14   \n",
       "2982               361                       1                  0 2015-05-07   \n",
       "5140                19                       1                  0 2016-10-22   \n",
       "\n",
       "              cancellation_policy  \n",
       "1098                     moderate  \n",
       "4811  strict_14_with_grace_period  \n",
       "3678  strict_14_with_grace_period  \n",
       "2982  strict_14_with_grace_period  \n",
       "5140                     moderate  "
      ]
     },
     "execution_count": 111,
     "metadata": {
      "tags": []
     },
     "output_type": "execute_result"
    }
   ],
   "source": [
    "strat_test_set.head()"
   ]
  },
  {
   "cell_type": "code",
   "execution_count": 0,
   "metadata": {
    "colab": {},
    "colab_type": "code",
    "id": "wFUjb6tjw5Vf"
   },
   "outputs": [],
   "source": [
    "### Now we can test the out of sample performance. \n",
    "\n",
    "final_model = grid_search.best_estimator_\n",
    "\n",
    "strat_test_set2 = strat_test_set.dropna()\n",
    "X_test = strat_test_set2.drop(\"price\", axis=1)\n",
    "y_test = strat_test_set2[\"price\"].copy()\n",
    "\n",
    "X_test_prepared = pipe(list(X_test.index)).transform(X_test)\n",
    "final_predictions = final_model.predict(X_test_prepared)\n",
    "\n",
    "final_mse = mean_squared_error(y_test, final_predictions)\n",
    "final_rmse = np.sqrt(final_mse)"
   ]
  },
  {
   "cell_type": "code",
   "execution_count": 0,
   "metadata": {
    "colab": {
     "base_uri": "https://localhost:8080/",
     "height": 35
    },
    "colab_type": "code",
    "executionInfo": {
     "elapsed": 447,
     "status": "ok",
     "timestamp": 1573953029400,
     "user": {
      "displayName": "Rajeev Ratan",
      "photoUrl": "https://lh3.googleusercontent.com/a-/AAuE7mCGo6aIm0tOcd5EhqWlYb0rime9sBvHS9YMpx0D2w=s64",
      "userId": "08597265227091462140"
     },
     "user_tz": 0
    },
    "id": "TwCDU_rYw5Vi",
    "outputId": "a5483401-afb5-40cb-d447-18e21803607a"
   },
   "outputs": [
    {
     "data": {
      "text/plain": [
       "84.72540767898073"
      ]
     },
     "execution_count": 114,
     "metadata": {
      "tags": []
     },
     "output_type": "execute_result"
    }
   ],
   "source": [
    "final_rmse"
   ]
  },
  {
   "cell_type": "code",
   "execution_count": 0,
   "metadata": {
    "colab": {},
    "colab_type": "code",
    "id": "EgEMS8TXw5Vo"
   },
   "outputs": [],
   "source": [
    "final_mae = mean_absolute_error(y_test, final_predictions)"
   ]
  },
  {
   "cell_type": "code",
   "execution_count": 0,
   "metadata": {
    "colab": {
     "base_uri": "https://localhost:8080/",
     "height": 35
    },
    "colab_type": "code",
    "executionInfo": {
     "elapsed": 392,
     "status": "ok",
     "timestamp": 1573953032744,
     "user": {
      "displayName": "Rajeev Ratan",
      "photoUrl": "https://lh3.googleusercontent.com/a-/AAuE7mCGo6aIm0tOcd5EhqWlYb0rime9sBvHS9YMpx0D2w=s64",
      "userId": "08597265227091462140"
     },
     "user_tz": 0
    },
    "id": "9224Lkj7w5Vw",
    "outputId": "9e2eb050-9b8a-4092-9006-c9e3a3a1d6ab"
   },
   "outputs": [
    {
     "data": {
      "text/plain": [
       "52.001604202157864"
      ]
     },
     "execution_count": 116,
     "metadata": {
      "tags": []
     },
     "output_type": "execute_result"
    }
   ],
   "source": [
    "final_mae ## not too bad"
   ]
  },
  {
   "cell_type": "markdown",
   "metadata": {
    "colab_type": "text",
    "id": "Phvgr2JL6tQx"
   },
   "source": [
    "## Value Estimation for Client"
   ]
  },
  {
   "cell_type": "code",
   "execution_count": 0,
   "metadata": {
    "colab": {},
    "colab_type": "code",
    "id": "kVF9v5rI6zWD"
   },
   "outputs": [],
   "source": []
  },
  {
   "cell_type": "code",
   "execution_count": 0,
   "metadata": {
    "colab": {
     "base_uri": "https://localhost:8080/",
     "height": 433
    },
    "colab_type": "code",
    "executionInfo": {
     "elapsed": 701,
     "status": "ok",
     "timestamp": 1573953172660,
     "user": {
      "displayName": "Rajeev Ratan",
      "photoUrl": "https://lh3.googleusercontent.com/a-/AAuE7mCGo6aIm0tOcd5EhqWlYb0rime9sBvHS9YMpx0D2w=s64",
      "userId": "08597265227091462140"
     },
     "user_tz": 0
    },
    "id": "1vo1oYm3w5V_",
    "outputId": "0cf92b83-a507-43c6-cab1-aef1a8de426c"
   },
   "outputs": [
    {
     "name": "stdout",
     "output_type": "stream",
     "text": [
      "<class 'pandas.core.frame.DataFrame'>\n",
      "RangeIndex: 1 entries, 0 to 0\n",
      "Data columns (total 19 columns):\n",
      "city                      1 non-null object\n",
      "longitude                 1 non-null object\n",
      "latitude                  1 non-null object\n",
      "review_scores_rating      1 non-null object\n",
      "number_of_reviews         1 non-null object\n",
      "minimum_nights            1 non-null object\n",
      "accommodates              1 non-null object\n",
      "bathrooms                 1 non-null object\n",
      "bedrooms                  1 non-null object\n",
      "beds                      1 non-null object\n",
      "security_deposit          1 non-null object\n",
      "cleaning_fee              1 non-null object\n",
      "property_type             1 non-null object\n",
      "room_type                 1 non-null object\n",
      "availability_365          1 non-null object\n",
      "host_identity_verified    1 non-null object\n",
      "host_is_superhost         1 non-null object\n",
      "cancellation_policy       1 non-null object\n",
      "host_since                1 non-null datetime64[ns]\n",
      "dtypes: datetime64[ns](1), object(18)\n",
      "memory usage: 280.0+ bytes\n"
     ]
    }
   ],
   "source": [
    "df_client = pd.DataFrame.from_dict(dict_client, orient='index').T\n",
    "df_client.info()"
   ]
  },
  {
   "cell_type": "code",
   "execution_count": 0,
   "metadata": {
    "colab": {
     "base_uri": "https://localhost:8080/",
     "height": 364
    },
    "colab_type": "code",
    "executionInfo": {
     "elapsed": 539,
     "status": "ok",
     "timestamp": 1573953174247,
     "user": {
      "displayName": "Rajeev Ratan",
      "photoUrl": "https://lh3.googleusercontent.com/a-/AAuE7mCGo6aIm0tOcd5EhqWlYb0rime9sBvHS9YMpx0D2w=s64",
      "userId": "08597265227091462140"
     },
     "user_tz": 0
    },
    "id": "wLSLoIzaLZH_",
    "outputId": "bd1d3304-3ce6-4679-c8d0-37b1f74cb981"
   },
   "outputs": [
    {
     "data": {
      "text/plain": [
       "city                                      Bondi Beach\n",
       "longitude                                     151.275\n",
       "latitude                                     -33.8891\n",
       "review_scores_rating                               95\n",
       "number_of_reviews                                  53\n",
       "minimum_nights                                      4\n",
       "accommodates                                       10\n",
       "bathrooms                                           3\n",
       "bedrooms                                            5\n",
       "beds                                                7\n",
       "security_deposit                                 1500\n",
       "cleaning_fee                                      370\n",
       "property_type                                   House\n",
       "room_type                             Entire home/apt\n",
       "availability_365                                  255\n",
       "host_identity_verified                              t\n",
       "host_is_superhost                                   t\n",
       "cancellation_policy       strict_14_with_grace_period\n",
       "host_since                        2010-01-08 00:00:00\n",
       "Name: 0, dtype: object"
      ]
     },
     "execution_count": 121,
     "metadata": {
      "tags": []
     },
     "output_type": "execute_result"
    }
   ],
   "source": [
    "df_client.iloc[0]"
   ]
  },
  {
   "cell_type": "code",
   "execution_count": 0,
   "metadata": {
    "colab": {
     "base_uri": "https://localhost:8080/",
     "height": 238
    },
    "colab_type": "code",
    "executionInfo": {
     "elapsed": 459,
     "status": "ok",
     "timestamp": 1573953216592,
     "user": {
      "displayName": "Rajeev Ratan",
      "photoUrl": "https://lh3.googleusercontent.com/a-/AAuE7mCGo6aIm0tOcd5EhqWlYb0rime9sBvHS9YMpx0D2w=s64",
      "userId": "08597265227091462140"
     },
     "user_tz": 0
    },
    "id": "qOgH9aA0Q33D",
    "outputId": "7eb2dd47-524b-4781-8496-92b286cc95fb"
   },
   "outputs": [
    {
     "name": "stdout",
     "output_type": "stream",
     "text": [
      "Index(['city', 'longitude', 'latitude', 'review_scores_rating',\n",
      "       'number_of_reviews', 'minimum_nights', 'security_deposit',\n",
      "       'cleaning_fee', 'accommodates', 'bathrooms', 'bedrooms', 'beds',\n",
      "       'property_type', 'room_type', 'availability_365',\n",
      "       'host_identity_verified', 'host_is_superhost', 'host_since',\n",
      "       'cancellation_policy'],\n",
      "      dtype='object')\n"
     ]
    },
    {
     "data": {
      "text/html": [
       "<div>\n",
       "<style scoped>\n",
       "    .dataframe tbody tr th:only-of-type {\n",
       "        vertical-align: middle;\n",
       "    }\n",
       "\n",
       "    .dataframe tbody tr th {\n",
       "        vertical-align: top;\n",
       "    }\n",
       "\n",
       "    .dataframe thead th {\n",
       "        text-align: right;\n",
       "    }\n",
       "</style>\n",
       "<table border=\"1\" class=\"dataframe\">\n",
       "  <thead>\n",
       "    <tr style=\"text-align: right;\">\n",
       "      <th></th>\n",
       "      <th>city</th>\n",
       "      <th>longitude</th>\n",
       "      <th>latitude</th>\n",
       "      <th>review_scores_rating</th>\n",
       "      <th>number_of_reviews</th>\n",
       "      <th>minimum_nights</th>\n",
       "      <th>security_deposit</th>\n",
       "      <th>cleaning_fee</th>\n",
       "      <th>accommodates</th>\n",
       "      <th>bathrooms</th>\n",
       "      <th>bedrooms</th>\n",
       "      <th>beds</th>\n",
       "      <th>property_type</th>\n",
       "      <th>room_type</th>\n",
       "      <th>availability_365</th>\n",
       "      <th>host_identity_verified</th>\n",
       "      <th>host_is_superhost</th>\n",
       "      <th>host_since</th>\n",
       "      <th>cancellation_policy</th>\n",
       "    </tr>\n",
       "  </thead>\n",
       "  <tbody>\n",
       "    <tr>\n",
       "      <th>0</th>\n",
       "      <td>Bondi Beach</td>\n",
       "      <td>151.275</td>\n",
       "      <td>-33.8891</td>\n",
       "      <td>95</td>\n",
       "      <td>53</td>\n",
       "      <td>4</td>\n",
       "      <td>1500</td>\n",
       "      <td>370</td>\n",
       "      <td>10</td>\n",
       "      <td>3</td>\n",
       "      <td>5</td>\n",
       "      <td>7</td>\n",
       "      <td>House</td>\n",
       "      <td>Entire home/apt</td>\n",
       "      <td>255</td>\n",
       "      <td>1</td>\n",
       "      <td>1</td>\n",
       "      <td>2010-01-08</td>\n",
       "      <td>strict_14_with_grace_period</td>\n",
       "    </tr>\n",
       "  </tbody>\n",
       "</table>\n",
       "</div>"
      ],
      "text/plain": [
       "          city longitude latitude review_scores_rating number_of_reviews  \\\n",
       "0  Bondi Beach   151.275 -33.8891                   95                53   \n",
       "\n",
       "  minimum_nights security_deposit cleaning_fee accommodates bathrooms  \\\n",
       "0              4             1500          370           10         3   \n",
       "\n",
       "  bedrooms beds property_type        room_type availability_365  \\\n",
       "0        5    7         House  Entire home/apt              255   \n",
       "\n",
       "  host_identity_verified host_is_superhost host_since  \\\n",
       "0                      1                 1 2010-01-08   \n",
       "\n",
       "           cancellation_policy  \n",
       "0  strict_14_with_grace_period  "
      ]
     },
     "execution_count": 122,
     "metadata": {
      "tags": []
     },
     "output_type": "execute_result"
    }
   ],
   "source": [
    "from dateutil import parser\n",
    "dict_client = {}\n",
    "\n",
    "dict_client[\"city\"] = \"Bondi Beach\"\n",
    "dict_client[\"longitude\"] = 151.274506\n",
    "dict_client[\"latitude\"] = -33.889087\n",
    "dict_client[\"review_scores_rating\"] = 95\n",
    "dict_client[\"number_of_reviews\"] = 53\n",
    "dict_client[\"minimum_nights\"] = 4\n",
    "dict_client[\"security_deposit\"] = 1500\n",
    "dict_client[\"cleaning_fee\"] = 370\n",
    "dict_client[\"accommodates\"] = 10\n",
    "dict_client[\"bathrooms\"] = 3\n",
    "dict_client[\"bedrooms\"] = 5\n",
    "dict_client[\"beds\"] = 7\n",
    "dict_client[\"property_type\"] = \"House\"\n",
    "dict_client[\"room_type\"] = \"Entire home/apt\"\n",
    "dict_client[\"availability_365\"] = 255\n",
    "dict_client[\"host_identity_verified\"] = '1'  ## 1 for yes, 0 for no\n",
    "dict_client[\"host_is_superhost\"] = '1'\n",
    "dict_client[\"host_since\"] = parser.parse(\"01-08-2010\")\n",
    "dict_client[\"cancellation_policy\"] = \"strict_14_with_grace_period\"\n",
    "\n",
    "df_client = pd.DataFrame.from_dict(dict_client, orient='index').T\n",
    "\n",
    "print(df_client.columns)\n",
    "df_client"
   ]
  },
  {
   "cell_type": "code",
   "execution_count": 0,
   "metadata": {
    "colab": {},
    "colab_type": "code",
    "id": "F-4FydXgw5WN"
   },
   "outputs": [],
   "source": [
    "df_client = pipe(list(df_client.index)).transform(df_client)"
   ]
  },
  {
   "cell_type": "code",
   "execution_count": 0,
   "metadata": {
    "colab": {
     "base_uri": "https://localhost:8080/",
     "height": 117
    },
    "colab_type": "code",
    "executionInfo": {
     "elapsed": 478,
     "status": "ok",
     "timestamp": 1573953270387,
     "user": {
      "displayName": "Rajeev Ratan",
      "photoUrl": "https://lh3.googleusercontent.com/a-/AAuE7mCGo6aIm0tOcd5EhqWlYb0rime9sBvHS9YMpx0D2w=s64",
      "userId": "08597265227091462140"
     },
     "user_tz": 0
    },
    "id": "D9XXU34H7OUX",
    "outputId": "d339bfcb-c696-458e-ac6c-6746c9d26b6b"
   },
   "outputs": [
    {
     "data": {
      "text/html": [
       "<div>\n",
       "<style scoped>\n",
       "    .dataframe tbody tr th:only-of-type {\n",
       "        vertical-align: middle;\n",
       "    }\n",
       "\n",
       "    .dataframe tbody tr th {\n",
       "        vertical-align: top;\n",
       "    }\n",
       "\n",
       "    .dataframe thead th {\n",
       "        text-align: right;\n",
       "    }\n",
       "</style>\n",
       "<table border=\"1\" class=\"dataframe\">\n",
       "  <thead>\n",
       "    <tr style=\"text-align: right;\">\n",
       "      <th></th>\n",
       "      <th>longitude</th>\n",
       "      <th>latitude</th>\n",
       "      <th>review_scores_rating</th>\n",
       "      <th>number_of_reviews</th>\n",
       "      <th>minimum_nights</th>\n",
       "      <th>security_deposit</th>\n",
       "      <th>cleaning_fee</th>\n",
       "      <th>accommodates</th>\n",
       "      <th>bathrooms</th>\n",
       "      <th>bedrooms</th>\n",
       "      <th>beds</th>\n",
       "      <th>availability_365</th>\n",
       "      <th>host_identity_verified</th>\n",
       "      <th>host_is_superhost</th>\n",
       "      <th>bedrooms_per_person</th>\n",
       "      <th>bathrooms_per_person</th>\n",
       "      <th>past_and_future_popularity</th>\n",
       "      <th>Bondi</th>\n",
       "      <th>Bondi Beach</th>\n",
       "      <th>Coogee</th>\n",
       "      <th>Darlinghurst</th>\n",
       "      <th>Manly</th>\n",
       "      <th>Newtown</th>\n",
       "      <th>North Bondi</th>\n",
       "      <th>Randwick</th>\n",
       "      <th>Surry Hills</th>\n",
       "      <th>Sydney</th>\n",
       "      <th>Apartment</th>\n",
       "      <th>Bed and breakfast</th>\n",
       "      <th>Condominium</th>\n",
       "      <th>Guest suite</th>\n",
       "      <th>Guesthouse</th>\n",
       "      <th>Hostel</th>\n",
       "      <th>House</th>\n",
       "      <th>Loft</th>\n",
       "      <th>Other</th>\n",
       "      <th>Serviced apartment</th>\n",
       "      <th>Townhouse</th>\n",
       "      <th>Villa</th>\n",
       "      <th>Entire home/apt</th>\n",
       "      <th>Private room</th>\n",
       "      <th>Shared room</th>\n",
       "      <th>flexible</th>\n",
       "      <th>moderate</th>\n",
       "      <th>strict_14_with_grace_period</th>\n",
       "      <th>super_strict_60</th>\n",
       "    </tr>\n",
       "  </thead>\n",
       "  <tbody>\n",
       "    <tr>\n",
       "      <th>0</th>\n",
       "      <td>0.851126</td>\n",
       "      <td>-0.25964</td>\n",
       "      <td>0.196238</td>\n",
       "      <td>0.868259</td>\n",
       "      <td>-0.022353</td>\n",
       "      <td>2.43788</td>\n",
       "      <td>4.200801</td>\n",
       "      <td>3.666618</td>\n",
       "      <td>3.585665</td>\n",
       "      <td>4.031346</td>\n",
       "      <td>3.953237</td>\n",
       "      <td>1.296914</td>\n",
       "      <td>0.860056</td>\n",
       "      <td>2.437363</td>\n",
       "      <td>0.066709</td>\n",
       "      <td>-0.624328</td>\n",
       "      <td>-0.292702</td>\n",
       "      <td>0.0</td>\n",
       "      <td>1.0</td>\n",
       "      <td>0.0</td>\n",
       "      <td>0.0</td>\n",
       "      <td>0.0</td>\n",
       "      <td>0.0</td>\n",
       "      <td>0.0</td>\n",
       "      <td>0.0</td>\n",
       "      <td>0.0</td>\n",
       "      <td>0.0</td>\n",
       "      <td>0.0</td>\n",
       "      <td>0.0</td>\n",
       "      <td>0.0</td>\n",
       "      <td>0.0</td>\n",
       "      <td>0.0</td>\n",
       "      <td>0.0</td>\n",
       "      <td>1.0</td>\n",
       "      <td>0.0</td>\n",
       "      <td>0.0</td>\n",
       "      <td>0.0</td>\n",
       "      <td>0.0</td>\n",
       "      <td>0.0</td>\n",
       "      <td>1.0</td>\n",
       "      <td>0.0</td>\n",
       "      <td>0.0</td>\n",
       "      <td>0.0</td>\n",
       "      <td>0.0</td>\n",
       "      <td>1.0</td>\n",
       "      <td>0.0</td>\n",
       "    </tr>\n",
       "  </tbody>\n",
       "</table>\n",
       "</div>"
      ],
      "text/plain": [
       "   longitude  latitude  review_scores_rating  number_of_reviews  \\\n",
       "0   0.851126  -0.25964              0.196238           0.868259   \n",
       "\n",
       "   minimum_nights  security_deposit  cleaning_fee  accommodates  bathrooms  \\\n",
       "0       -0.022353           2.43788      4.200801      3.666618   3.585665   \n",
       "\n",
       "   bedrooms      beds  availability_365  host_identity_verified  \\\n",
       "0  4.031346  3.953237          1.296914                0.860056   \n",
       "\n",
       "   host_is_superhost  bedrooms_per_person  bathrooms_per_person  \\\n",
       "0           2.437363             0.066709             -0.624328   \n",
       "\n",
       "   past_and_future_popularity  Bondi  Bondi Beach  Coogee  Darlinghurst  \\\n",
       "0                   -0.292702    0.0          1.0     0.0           0.0   \n",
       "\n",
       "   Manly  Newtown  North Bondi  Randwick  Surry Hills  Sydney  Apartment  \\\n",
       "0    0.0      0.0          0.0       0.0          0.0     0.0        0.0   \n",
       "\n",
       "   Bed and breakfast  Condominium  Guest suite  Guesthouse  Hostel  House  \\\n",
       "0                0.0          0.0          0.0         0.0     0.0    1.0   \n",
       "\n",
       "   Loft  Other  Serviced apartment  Townhouse  Villa  Entire home/apt  \\\n",
       "0   0.0    0.0                 0.0        0.0    0.0              1.0   \n",
       "\n",
       "   Private room  Shared room  flexible  moderate  strict_14_with_grace_period  \\\n",
       "0           0.0          0.0       0.0       0.0                          1.0   \n",
       "\n",
       "   super_strict_60  \n",
       "0              0.0  "
      ]
     },
     "execution_count": 124,
     "metadata": {
      "tags": []
     },
     "output_type": "execute_result"
    }
   ],
   "source": [
    "df_client"
   ]
  },
  {
   "cell_type": "code",
   "execution_count": 0,
   "metadata": {
    "colab": {},
    "colab_type": "code",
    "id": "ihA0mreKw5WU"
   },
   "outputs": [],
   "source": [
    "client_pred = final_model.predict(df_client)"
   ]
  },
  {
   "cell_type": "code",
   "execution_count": 0,
   "metadata": {
    "colab": {
     "base_uri": "https://localhost:8080/",
     "height": 69
    },
    "colab_type": "code",
    "executionInfo": {
     "elapsed": 448,
     "status": "ok",
     "timestamp": 1573953317326,
     "user": {
      "displayName": "Rajeev Ratan",
      "photoUrl": "https://lh3.googleusercontent.com/a-/AAuE7mCGo6aIm0tOcd5EhqWlYb0rime9sBvHS9YMpx0D2w=s64",
      "userId": "08597265227091462140"
     },
     "user_tz": 0
    },
    "id": "KMQ5Uyr5w5WW",
    "outputId": "4b764b16-6345-4df7-e4c3-035adc8ad76a"
   },
   "outputs": [
    {
     "name": "stdout",
     "output_type": "stream",
     "text": [
      "\u001b[1;31m735.4666666666667\u001b[0m\n",
      "\u001b[1;31m-500\u001b[0m\n",
      "\u001b[1;31m= 235.4666666666667\u001b[0m\n"
     ]
    }
   ],
   "source": [
    "### Client should be charging about ~$280 more. \n",
    "print('\\x1b[1;31m'+str(client_pred[0])+'\\x1b[0m')\n",
    "print('\\x1b[1;31m'+str(-500)+'\\x1b[0m')\n",
    "print('\\x1b[1;31m'+\"= \"+str(client_pred[0]-500)+'\\x1b[0m')"
   ]
  },
  {
   "cell_type": "markdown",
   "metadata": {
    "colab_type": "text",
    "id": "LB7D70eRyaeY"
   },
   "source": [
    "Credit: [Derek Snow](https://www.linkedin.com/company/18004273/admin/)\n",
    "\n"
   ]
  }
 ],
 "metadata": {
  "colab": {
   "collapsed_sections": [],
   "name": "12.0 Case Study 5 - Predict AirBnB Prices in Sydney.ipynb",
   "provenance": [
    {
     "file_id": "16ILDbLl6rCD0S3r8LrEV7WXpC8LpDuo7",
     "timestamp": 1564716320020
    }
   ]
  },
  "kernelspec": {
   "display_name": "Python 3",
   "language": "python",
   "name": "python3"
  },
  "language_info": {
   "codemirror_mode": {
    "name": "ipython",
    "version": 3
   },
   "file_extension": ".py",
   "mimetype": "text/x-python",
   "name": "python",
   "nbconvert_exporter": "python",
   "pygments_lexer": "ipython3",
   "version": "3.7.6"
  },
  "nav_menu": {
   "height": "279px",
   "width": "309px"
  },
  "toc": {
   "nav_menu": {},
   "number_sections": true,
   "sideBar": true,
   "skip_h1_title": false,
   "toc_cell": false,
   "toc_position": {},
   "toc_section_display": "block",
   "toc_window_display": false
  }
 },
 "nbformat": 4,
 "nbformat_minor": 1
}
